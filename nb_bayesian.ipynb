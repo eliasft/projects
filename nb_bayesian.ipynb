{
 "cells": [
  {
   "cell_type": "code",
   "execution_count": 53,
   "metadata": {},
   "outputs": [],
   "source": [
    "import pandas as pd\n",
    "import numpy as np\n",
    "import scipy.stats as stats\n",
    "import matplotlib.pyplot as plt"
   ]
  },
  {
   "cell_type": "code",
   "execution_count": 3,
   "metadata": {},
   "outputs": [],
   "source": [
    "def likelihood(n,y,theta):\n",
    "    \n",
    "    estimate = (theta**y)*((1-theta)**(n-y))\n",
    "    \n",
    "    return estimate"
   ]
  },
  {
   "cell_type": "code",
   "execution_count": 4,
   "metadata": {},
   "outputs": [],
   "source": [
    "theta = np.arange(0.01,0.99,0.01)"
   ]
  },
  {
   "cell_type": "code",
   "execution_count": 5,
   "metadata": {},
   "outputs": [
    {
     "data": {
      "text/plain": [
       "array([0.01, 0.02, 0.03, 0.04, 0.05, 0.06, 0.07, 0.08, 0.09, 0.1 , 0.11,\n",
       "       0.12, 0.13, 0.14, 0.15, 0.16, 0.17, 0.18, 0.19, 0.2 , 0.21, 0.22,\n",
       "       0.23, 0.24, 0.25, 0.26, 0.27, 0.28, 0.29, 0.3 , 0.31, 0.32, 0.33,\n",
       "       0.34, 0.35, 0.36, 0.37, 0.38, 0.39, 0.4 , 0.41, 0.42, 0.43, 0.44,\n",
       "       0.45, 0.46, 0.47, 0.48, 0.49, 0.5 , 0.51, 0.52, 0.53, 0.54, 0.55,\n",
       "       0.56, 0.57, 0.58, 0.59, 0.6 , 0.61, 0.62, 0.63, 0.64, 0.65, 0.66,\n",
       "       0.67, 0.68, 0.69, 0.7 , 0.71, 0.72, 0.73, 0.74, 0.75, 0.76, 0.77,\n",
       "       0.78, 0.79, 0.8 , 0.81, 0.82, 0.83, 0.84, 0.85, 0.86, 0.87, 0.88,\n",
       "       0.89, 0.9 , 0.91, 0.92, 0.93, 0.94, 0.95, 0.96, 0.97, 0.98])"
      ]
     },
     "metadata": {},
     "output_type": "display_data"
    }
   ],
   "source": [
    "display(theta)"
   ]
  },
  {
   "cell_type": "code",
   "execution_count": 6,
   "metadata": {},
   "outputs": [
    {
     "data": {
      "text/plain": [
       "array([3.70121086e-146, 6.25622724e-126, 1.03242659e-114, 3.41415955e-107,\n",
       "       1.04516016e-101, 1.63239783e-097, 3.23196022e-094, 1.39600326e-091,\n",
       "       1.86654026e-089, 9.80715628e-088, 2.39991307e-086, 3.10003203e-085,\n",
       "       2.32400054e-084, 1.08820465e-083, 3.37270446e-083, 7.24844052e-083,\n",
       "       1.12185477e-082, 1.28992348e-082, 1.13069497e-082, 7.72103322e-083,\n",
       "       4.18287767e-083, 1.82583993e-083, 6.50671897e-084, 1.91455423e-084,\n",
       "       4.69650746e-085, 9.68467666e-086, 1.69078793e-086, 2.51441574e-087,\n",
       "       3.20180021e-088, 3.50660998e-089, 3.31545943e-090, 2.71469977e-091,\n",
       "       1.92991845e-092, 1.19369365e-093, 6.43398690e-095, 3.02560007e-096,\n",
       "       1.24229390e-097, 4.45546577e-099, 1.39584627e-100, 3.81882275e-102,\n",
       "       9.11795622e-104, 1.89815117e-105, 3.44097456e-107, 5.42332418e-109,\n",
       "       7.41759549e-111, 8.78450113e-113, 8.98526728e-115, 7.91527127e-117,\n",
       "       5.98598359e-119, 3.87259191e-121, 2.13484785e-123, 9.98542608e-126,\n",
       "       3.94420986e-128, 1.30893927e-130, 3.62926067e-133, 8.35633480e-136,\n",
       "       1.58724160e-138, 2.46935078e-141, 3.12212180e-144, 3.18102574e-147,\n",
       "       2.58785075e-150, 1.66426061e-153, 8.36922136e-157, 3.25220848e-160,\n",
       "       9.64007084e-164, 2.14905806e-167, 3.54779138e-171, 4.26417092e-175,\n",
       "       3.66243656e-179, 2.20206650e-183, 9.06033840e-188, 2.48756263e-192,\n",
       "       4.43160020e-197, 4.96525955e-202, 3.37857690e-207, 1.34235049e-212,\n",
       "       2.97894460e-218, 3.51116067e-224, 2.07529216e-230, 5.75860966e-237,\n",
       "       6.95188328e-244, 3.34178916e-251, 5.76592333e-259, 3.15836929e-267,\n",
       "       4.74346414e-276, 1.63638011e-285, 1.04425303e-295, 9.42325836e-307,\n",
       "       8.56803702e-319, 0.00000000e+000, 0.00000000e+000, 0.00000000e+000,\n",
       "       0.00000000e+000, 0.00000000e+000, 0.00000000e+000, 0.00000000e+000,\n",
       "       0.00000000e+000, 0.00000000e+000])"
      ]
     },
     "execution_count": 6,
     "metadata": {},
     "output_type": "execute_result"
    }
   ],
   "source": [
    "likelihood(400,72,theta)"
   ]
  },
  {
   "cell_type": "code",
   "execution_count": 37,
   "metadata": {},
   "outputs": [
    {
     "data": {
      "text/plain": [
       "<matplotlib.lines.Line2D at 0x11f2cb410>"
      ]
     },
     "execution_count": 37,
     "metadata": {},
     "output_type": "execute_result"
    },
    {
     "data": {
      "image/png": "[encoded data removed]",
      "text/plain": [
       "<Figure size 432x288 with 1 Axes>"
      ]
     },
     "metadata": {
      "needs_background": "light"
     },
     "output_type": "display_data"
    }
   ],
   "source": [
    "plt.plot(theta, likelihood(400,72,theta))\n",
    "plt.axvline(x=0.18)"
   ]
  },
  {
   "cell_type": "code",
   "execution_count": 38,
   "metadata": {},
   "outputs": [
    {
     "data": {
      "text/plain": [
       "0.18"
      ]
     },
     "execution_count": 38,
     "metadata": {},
     "output_type": "execute_result"
    }
   ],
   "source": [
    "72/400"
   ]
  },
  {
   "cell_type": "code",
   "execution_count": 22,
   "metadata": {},
   "outputs": [],
   "source": [
    "def loglike(n,y,theta):\n",
    "    \n",
    "    logestimate = y*np.log(theta)+(n-y)*np.log(1-theta)\n",
    "    \n",
    "    return logestimate"
   ]
  },
  {
   "cell_type": "code",
   "execution_count": 24,
   "metadata": {},
   "outputs": [
    {
     "data": {
      "text/plain": [
       "<matplotlib.lines.Line2D at 0x11e759fd0>"
      ]
     },
     "execution_count": 24,
     "metadata": {},
     "output_type": "execute_result"
    },
    {
     "data": {
      "image/png": "[encoded data removed]",
      "text/plain": [
       "<Figure size 432x288 with 1 Axes>"
      ]
     },
     "metadata": {
      "needs_background": "light"
     },
     "output_type": "display_data"
    }
   ],
   "source": [
    "plt.plot(theta, loglike(400,72,theta))\n",
    "plt.axvline(x=0.18)"
   ]
  },
  {
   "cell_type": "code",
   "execution_count": 54,
   "metadata": {},
   "outputs": [
    {
     "ename": "AttributeError",
     "evalue": "'numpy.ndarray' object has no attribute 'stats'",
     "output_type": "error",
     "traceback": [
      "\u001b[0;31m---------------------------------------------------------------------------\u001b[0m",
      "\u001b[0;31mAttributeError\u001b[0m                            Traceback (most recent call last)",
      "\u001b[0;32m<ipython-input-54-5dc1be468dd3>\u001b[0m in \u001b[0;36m<module>\u001b[0;34m\u001b[0m\n\u001b[1;32m      1\u001b[0m \u001b[0mest\u001b[0m\u001b[0;34m=\u001b[0m\u001b[0mlikelihood\u001b[0m\u001b[0;34m(\u001b[0m\u001b[0;36m400\u001b[0m\u001b[0;34m,\u001b[0m\u001b[0;36m72\u001b[0m\u001b[0;34m,\u001b[0m\u001b[0mtheta\u001b[0m\u001b[0;34m)\u001b[0m\u001b[0;34m\u001b[0m\u001b[0;34m\u001b[0m\u001b[0m\n\u001b[0;32m----> 2\u001b[0;31m \u001b[0mest\u001b[0m\u001b[0;34m.\u001b[0m\u001b[0mstats\u001b[0m\u001b[0;34m.\u001b[0m\u001b[0mrv_continuous\u001b[0m\u001b[0;34m.\u001b[0m\u001b[0mcdf\u001b[0m\u001b[0;34m(\u001b[0m\u001b[0;36m0.50\u001b[0m\u001b[0;34m)\u001b[0m\u001b[0;34m\u001b[0m\u001b[0;34m\u001b[0m\u001b[0m\n\u001b[0m",
      "\u001b[0;31mAttributeError\u001b[0m: 'numpy.ndarray' object has no attribute 'stats'"
     ]
    }
   ],
   "source": [
    "est=likelihood(400,72,theta)\n",
    "est.stats.rv_continuous.cdf(0.50)"
   ]
  },
  {
   "cell_type": "code",
   "execution_count": null,
   "metadata": {},
   "outputs": [],
   "source": []
  }
 ],
 "metadata": {
  "kernelspec": {
   "display_name": "Python 3",
   "language": "python",
   "name": "python3"
  },
  "language_info": {
   "codemirror_mode": {
    "name": "ipython",
    "version": 3
   },
   "file_extension": ".py",
   "mimetype": "text/x-python",
   "name": "python",
   "nbconvert_exporter": "python",
   "pygments_lexer": "ipython3",
   "version": "3.7.4"
  }
 },
 "nbformat": 4,
 "nbformat_minor": 4
}
