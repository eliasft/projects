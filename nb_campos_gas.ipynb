{
 "cells": [
  {
   "cell_type": "code",
   "execution_count": 5,
   "metadata": {},
   "outputs": [],
   "source": [
    "import pandas as pd\n",
    "import numpy as np\n",
    "from datetime import date\n",
    "import matplotlib.pyplot as plt\n",
    "\n",
    "import seaborn as sns\n",
    "\n",
    "import os\n",
    "\n",
    "from scipy.optimize import curve_fit\n",
    "\n",
    "\n",
    "\n",
    "\n",
    "def load_db():\n",
    "\n",
    "    global mx_bd\n",
    "    global mx_reservas\n",
    "    global mx_tiempos\n",
    "\n",
    "    mx_bd=pd.read_csv(r'/Users/fffte/ainda_drive/python/csv/benchmark/mexico/mx_full.csv',\n",
    "                          usecols=['fecha',\n",
    "                                  'pozo',\n",
    "                                  'aceite_Mbd',\n",
    "                                  'gas_asociado_MMpcd',\n",
    "                                  'gas_no_asociado_MMpcd',\n",
    "                                  'condensado_Mbd',\n",
    "                                  'agua_Mbd',\n",
    "                                  'estado_actual',\n",
    "                                  'profundidad_total',\n",
    "                                  'profundidad_vertical',\n",
    "                                  'trayectoria',\n",
    "                                  'ano_de_perforacion',\n",
    "                                  'tipo_de_hidrocarburo',\n",
    "                                  'clasificacion',\n",
    "                                  'disponible',\n",
    "                                  'campo',\n",
    "                                  'cuenca',\n",
    "                                  'entidad',\n",
    "                                  'ubicacion',\n",
    "                                  'contrato'],\n",
    "                                  low_memory=True)\n",
    "\n",
    "    mx_reservas=pd.read_csv(r'/Users/fffte/ainda_drive/python/csv/benchmark/mexico/mx_reservas.csv',\n",
    "                          index_col=0)\n",
    "\n",
    "    mx_tiempos=pd.read_csv(\"/Users/fffte/ainda_drive/python/csv/benchmark/mexico/mx_tiempos.csv\",\n",
    "                          index_col=0,\n",
    "                          parse_dates=True)\n",
    "\n",
    "    return display('Ready to go!')"
   ]
  },
  {
   "cell_type": "code",
   "execution_count": 4,
   "metadata": {},
   "outputs": [
    {
     "data": {
      "text/plain": [
       "'Ready to go!'"
      ]
     },
     "metadata": {},
     "output_type": "display_data"
    }
   ],
   "source": [
    "load_db()"
   ]
  },
  {
   "cell_type": "code",
   "execution_count": 1,
   "metadata": {},
   "outputs": [],
   "source": [
    "lista=[\n",
    "            'A-0019',\n",
    "            'A-0022',\n",
    "            'A-0023',\n",
    "            'A-0041',\n",
    "            'A-0044',\n",
    "            'A-0054',\n",
    "            'A-0060',\n",
    "            'A-0072',\n",
    "            'A-0081',\n",
    "            'A-0098',\n",
    "            'A-0109',\n",
    "            'A-0110',\n",
    "            'A-0383',\n",
    "            'A-0112',\n",
    "            'A-0113',\n",
    "            'A-0116',\n",
    "            'A-0117',\n",
    "            'A-0135',\n",
    "            'A-0136',\n",
    "            'A-0137',\n",
    "            'A-0139',\n",
    "            'A-0143',\n",
    "            'A-0182',\n",
    "            'A-0194',\n",
    "            'A-0223',\n",
    "            'A-0225',\n",
    "            'A-0247',\n",
    "            'A-0254',\n",
    "            'A-0265',\n",
    "            'A-0270',\n",
    "            'A-0288',\n",
    "            'A-0302',\n",
    "            'A-0303',\n",
    "            'A-0316',\n",
    "            'A-0335',\n",
    "            'A-0345',\n",
    "            'A-0346',\n",
    "            'A-0366',\n",
    "            'CNH-R01-L03-A2/2015',\n",
    "            'CNH-R01-L03-A3/2015',\n",
    "            'CNH-R01-L03-A8/2015',\n",
    "            'CNH-R01-L03-A12/2015',\n",
    "            'CNH-R01-L03-A20/2016',\n",
    "            'CNH-R01-L03-A5/2015',\n",
    "            'CNH-R01-L03-A18/2015',\n",
    "            'CNH-R01-L03-A21/2016',\n",
    "            'CNH-R02-L03-BG-01',\n",
    "            'CNH-R02-L03-BG-02',\n",
    "            'CNH-R02-L03-BG-03',\n",
    "            'CNH-R02-L03-BG-04',\n",
    "             ]"
   ]
  },
  {
   "cell_type": "code",
   "execution_count": null,
   "metadata": {},
   "outputs": [],
   "source": [
    "mylist = [\"dog\", \"cat\", \"wildcat\", \"thundercat\", \"cow\", \"hooo\"]\n",
    "    \n",
    "r = re.compile(\".*cat\")\n",
    "newlist = list(filter(r.match, mylist)) # Read Note\n",
    "print(newlist)"
   ]
  },
  {
   "cell_type": "code",
   "execution_count": 13,
   "metadata": {},
   "outputs": [
    {
     "name": "stdout",
     "output_type": "stream",
     "text": [
      "The filtered letters are:\n"
     ]
    },
    {
     "ename": "AttributeError",
     "evalue": "'float' object has no attribute 'str'",
     "output_type": "error",
     "traceback": [
      "\u001b[0;31m---------------------------------------------------------------------------\u001b[0m",
      "\u001b[0;31mAttributeError\u001b[0m                            Traceback (most recent call last)",
      "\u001b[0;32m<ipython-input-13-e10604ed6e25>\u001b[0m in \u001b[0;36m<module>\u001b[0;34m\u001b[0m\n\u001b[1;32m     15\u001b[0m \u001b[0;34m\u001b[0m\u001b[0m\n\u001b[1;32m     16\u001b[0m \u001b[0mprint\u001b[0m\u001b[0;34m(\u001b[0m\u001b[0;34m'The filtered letters are:'\u001b[0m\u001b[0;34m)\u001b[0m\u001b[0;34m\u001b[0m\u001b[0;34m\u001b[0m\u001b[0m\n\u001b[0;32m---> 17\u001b[0;31m \u001b[0;32mfor\u001b[0m \u001b[0ms\u001b[0m \u001b[0;32min\u001b[0m \u001b[0mfiltered\u001b[0m\u001b[0;34m:\u001b[0m\u001b[0;34m\u001b[0m\u001b[0;34m\u001b[0m\u001b[0m\n\u001b[0m\u001b[1;32m     18\u001b[0m       \u001b[0mprint\u001b[0m\u001b[0;34m(\u001b[0m\u001b[0ms\u001b[0m\u001b[0;34m)\u001b[0m\u001b[0;34m\u001b[0m\u001b[0;34m\u001b[0m\u001b[0m\n",
      "\u001b[0;32m<ipython-input-13-e10604ed6e25>\u001b[0m in \u001b[0;36mfun\u001b[0;34m(variable)\u001b[0m\n\u001b[1;32m      4\u001b[0m     \u001b[0mlst\u001b[0m\u001b[0;34m=\u001b[0m\u001b[0mlista\u001b[0m\u001b[0;34m\u001b[0m\u001b[0;34m\u001b[0m\u001b[0m\n\u001b[1;32m      5\u001b[0m     \u001b[0;32mfor\u001b[0m \u001b[0mx\u001b[0m \u001b[0;32min\u001b[0m \u001b[0mlst\u001b[0m\u001b[0;34m:\u001b[0m\u001b[0;34m\u001b[0m\u001b[0;34m\u001b[0m\u001b[0m\n\u001b[0;32m----> 6\u001b[0;31m         \u001b[0;32mif\u001b[0m \u001b[0mvariable\u001b[0m\u001b[0;34m.\u001b[0m\u001b[0mstr\u001b[0m\u001b[0;34m.\u001b[0m\u001b[0mcontains\u001b[0m\u001b[0;34m(\u001b[0m\u001b[0mx\u001b[0m\u001b[0;34m)\u001b[0m\u001b[0;34m:\u001b[0m\u001b[0;34m\u001b[0m\u001b[0;34m\u001b[0m\u001b[0m\n\u001b[0m\u001b[1;32m      7\u001b[0m               \u001b[0;32mreturn\u001b[0m \u001b[0;32mTrue\u001b[0m\u001b[0;34m\u001b[0m\u001b[0;34m\u001b[0m\u001b[0m\n\u001b[1;32m      8\u001b[0m         \u001b[0;32melse\u001b[0m\u001b[0;34m:\u001b[0m\u001b[0;34m\u001b[0m\u001b[0;34m\u001b[0m\u001b[0m\n",
      "\u001b[0;31mAttributeError\u001b[0m: 'float' object has no attribute 'str'"
     ]
    }
   ],
   "source": [
    "import re\n",
    "\n",
    "def fun(): \n",
    "    lst=lista\n",
    "    for x in mx_bd.contrato:\n",
    "        if mx_.str.contains(x): \n",
    "              return True\n",
    "        else: \n",
    "              return False\n",
    "\n",
    "bd=mx_bd.copy()\n",
    "\n",
    "# using filter function \n",
    "filtered = filter(fun, mx_bd.contrato) \n",
    "\n",
    "print('The filtered letters are:') \n",
    "for s in filtered: \n",
    "      print(s) "
   ]
  },
  {
   "cell_type": "code",
   "execution_count": 9,
   "metadata": {},
   "outputs": [],
   "source": [
    "mx_campos=pd.read_csv(r'/Users/fffte/ainda_drive/python/csv/benchmark/mexico/mx_campos.csv',\n",
    "                      index_col=0)\n"
   ]
  },
  {
   "cell_type": "code",
   "execution_count": 11,
   "metadata": {},
   "outputs": [],
   "source": [
    "mx_campos=mx_campos.dropna()\n",
    "\n",
    "areas=pd.DataFrame()\n",
    "\n",
    "for x in lista:\n",
    "    s=mx_campos.ASIGNACION.str.contains(pat=x,na=False)\n",
    "    ss=mx_campos.loc[s]\n",
    "    areas=areas.append(ss)"
   ]
  },
  {
   "cell_type": "code",
   "execution_count": 12,
   "metadata": {},
   "outputs": [
    {
     "data": {
      "text/html": [
       "<div>\n",
       "<style scoped>\n",
       "    .dataframe tbody tr th:only-of-type {\n",
       "        vertical-align: middle;\n",
       "    }\n",
       "\n",
       "    .dataframe tbody tr th {\n",
       "        vertical-align: top;\n",
       "    }\n",
       "\n",
       "    .dataframe thead th {\n",
       "        text-align: right;\n",
       "    }\n",
       "</style>\n",
       "<table border=\"1\" class=\"dataframe\">\n",
       "  <thead>\n",
       "    <tr style=\"text-align: right;\">\n",
       "      <th></th>\n",
       "      <th>LOCALIZACION</th>\n",
       "      <th>ESTADO</th>\n",
       "      <th>LATITUD</th>\n",
       "      <th>LONGITUD</th>\n",
       "      <th>AREA</th>\n",
       "      <th>ZONA</th>\n",
       "      <th>ANO DE DESCUBRIMIENTO</th>\n",
       "      <th>TIRANTE AGUA</th>\n",
       "      <th>ESTATUS</th>\n",
       "      <th>ASIGNACION</th>\n",
       "      <th>...</th>\n",
       "      <th>POZOS INYECTORES</th>\n",
       "      <th>POZOS MONITORES PRODUCTORES</th>\n",
       "      <th>POZOS MONITORES</th>\n",
       "      <th>POZOS CERRADOS CON POSIBILIDADES</th>\n",
       "      <th>POZOS CERRADOS SIN POSIBILIDADES</th>\n",
       "      <th>POZOS TAPONADOS</th>\n",
       "      <th>REPARACIONES MENORES</th>\n",
       "      <th>REPARACIONES MAYORES</th>\n",
       "      <th>SISTEMA ARTIFICIAL</th>\n",
       "      <th>DESCUBRIMIENTO</th>\n",
       "    </tr>\n",
       "    <tr>\n",
       "      <th>NOMBRE</th>\n",
       "      <th></th>\n",
       "      <th></th>\n",
       "      <th></th>\n",
       "      <th></th>\n",
       "      <th></th>\n",
       "      <th></th>\n",
       "      <th></th>\n",
       "      <th></th>\n",
       "      <th></th>\n",
       "      <th></th>\n",
       "      <th></th>\n",
       "      <th></th>\n",
       "      <th></th>\n",
       "      <th></th>\n",
       "      <th></th>\n",
       "      <th></th>\n",
       "      <th></th>\n",
       "      <th></th>\n",
       "      <th></th>\n",
       "      <th></th>\n",
       "      <th></th>\n",
       "    </tr>\n",
       "  </thead>\n",
       "  <tbody>\n",
       "  </tbody>\n",
       "</table>\n",
       "<p>0 rows × 43 columns</p>\n",
       "</div>"
      ],
      "text/plain": [
       "Empty DataFrame\n",
       "Columns: [LOCALIZACION, ESTADO, LATITUD, LONGITUD, AREA, ZONA, ANO DE DESCUBRIMIENTO, TIRANTE AGUA, ESTATUS, ASIGNACION, OPERADOR, VIGENCIA, NUM BLOQUES, CAA ORIGINAL, CAA ACTUAL, CGA ORIGINAL, CGA ACTUAL, NP (MMB), GP (MMMPC), MECANISMO DE PRODUCCION, PRODUCCION RECORD (MBPD), PRODUCCION RECORD (MMPCD), PRODUCCION ACEITE (MBPD), PRODUCCION GAS (MMPCD), PRODUCCION AGUA (MBPD), COLUMNA OP ACEITE, PROYECTO IOR/EOR PROPUESTO, PROYECTO IOR/EOR SUGERIDO, VOUMEN DE INYECCION DE GAS (MMPCD), VOUMEN DE INYECCION DE AGUA (MBPD), TIPO TERMINACION, POZOS PERFORADOS, POZOS PRODUCTORES, POZOS INYECTORES, POZOS MONITORES PRODUCTORES, POZOS MONITORES, POZOS CERRADOS CON POSIBILIDADES, POZOS CERRADOS SIN POSIBILIDADES, POZOS TAPONADOS, REPARACIONES MENORES, REPARACIONES MAYORES, SISTEMA ARTIFICIAL, DESCUBRIMIENTO]\n",
       "Index: []\n",
       "\n",
       "[0 rows x 43 columns]"
      ]
     },
     "metadata": {},
     "output_type": "display_data"
    }
   ],
   "source": [
    "display(areas)"
   ]
  },
  {
   "cell_type": "code",
   "execution_count": null,
   "metadata": {},
   "outputs": [],
   "source": []
  }
 ],
 "metadata": {
  "kernelspec": {
   "display_name": "Python 3",
   "language": "python",
   "name": "python3"
  },
  "language_info": {
   "codemirror_mode": {
    "name": "ipython",
    "version": 3
   },
   "file_extension": ".py",
   "mimetype": "text/x-python",
   "name": "python",
   "nbconvert_exporter": "python",
   "pygments_lexer": "ipython3",
   "version": "3.7.4"
  }
 },
 "nbformat": 4,
 "nbformat_minor": 4
}
