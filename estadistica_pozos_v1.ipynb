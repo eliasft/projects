{
 "cells": [
  {
   "cell_type": "markdown",
   "metadata": {},
   "source": [
    "\n",
    "# Estadística de pozos\n",
    "\n",
    "Analisis estadistico de historico de pozos"
   ]
  },
  {
   "cell_type": "code",
   "execution_count": 1,
   "metadata": {},
   "outputs": [],
   "source": [
    "import pandas as pd\n",
    "import seaborn as sns\n",
    "import numpy as np\n",
    "import matplotlib.pyplot as plt\n",
    "import os\n",
    "from scipy import stats"
   ]
  },
  {
   "cell_type": "code",
   "execution_count": 2,
   "metadata": {},
   "outputs": [],
   "source": [
    "pd.set_option('display.max_rows', 1_000_000)\n",
    "pd.set_option('display.max_columns', 1_000_000)\n",
    "pd.set_option('display.width', 1_000_000)\n",
    "pd.set_option('precision', 2)\n",
    "pd.options.display.float_format = '{:,.2f}'.format"
   ]
  },
  {
   "cell_type": "code",
   "execution_count": 3,
   "metadata": {},
   "outputs": [
    {
     "data": {
      "text/plain": [
       "4.84610000057728e-05"
      ]
     },
     "execution_count": 3,
     "metadata": {},
     "output_type": "execute_result"
    }
   ],
   "source": [
    "import timeit\n",
    "tic=timeit.default_timer()\n",
    "toc=timeit.default_timer()\n",
    "toc - tic #elapsed time in seconds"
   ]
  },
  {
   "cell_type": "markdown",
   "metadata": {},
   "source": [
    "<div class=\"alert alert-block alert-danger\">\n",
    "\n",
    "### <b>Check Harmonic Equation</b>\n",
    "<br>\n",
    "· b should be = 1, check bounds argument in harmonic_equation\n",
    "<br>\n",
    "· automate unique_well_list generation\n",
    "<br>\n",
    "\n",
    "</div>"
   ]
  },
  {
   "cell_type": "code",
   "execution_count": 4,
   "metadata": {},
   "outputs": [],
   "source": [
    "def input_pozos(x): \n",
    "        \n",
    "        global pozos\n",
    "        pozos = pd.DataFrame(columns=[\"Campo\",\n",
    "                                      \"Coordenadas\",\n",
    "                                      \"Qo aceite\",\n",
    "                                      \"Qo gas\"])\n",
    "\n",
    "        #parts=int(input(\"Numero de campos: \"))\n",
    "        parts = x\n",
    "\n",
    "        # !!!!!! Verificar resultado de la funcion format... cambiar a integer\n",
    "        \n",
    "        for i in range(parts):\n",
    "            campo = input(\"Nombre de Campo: \")\n",
    "            coordenadas = input(\"Coordenadas: \".format(campo))\n",
    "            Qo_aceite = input(\"Qo aceite: \".format(campo))\n",
    "            Qo_gas = input(\"Qo gas: \".format(campo))\n",
    "            df1 = pd.DataFrame(data=[[campo,coordenadas,Qo_aceite,Qo_gas]],columns=[\"Campo\",\n",
    "                                                                                    \"Coordenadas\",\n",
    "                                                                                    \"Qo aceite\",\n",
    "                                                                                    \"Qo gas\"])\n",
    "            pozos = pd.concat([pozos,df1], axis=0)\n",
    "\n",
    "        pozos.index = range(len(pozos.index))"
   ]
  },
  {
   "cell_type": "markdown",
   "metadata": {},
   "source": [
    "## Estadistica - Kumaza"
   ]
  },
  {
   "cell_type": "code",
   "execution_count": 5,
   "metadata": {},
   "outputs": [
    {
     "data": {
      "text/html": [
       "<div>\n",
       "<style scoped>\n",
       "    .dataframe tbody tr th:only-of-type {\n",
       "        vertical-align: middle;\n",
       "    }\n",
       "\n",
       "    .dataframe tbody tr th {\n",
       "        vertical-align: top;\n",
       "    }\n",
       "\n",
       "    .dataframe thead th {\n",
       "        text-align: right;\n",
       "    }\n",
       "</style>\n",
       "<table border=\"1\" class=\"dataframe\">\n",
       "  <thead>\n",
       "    <tr style=\"text-align: right;\">\n",
       "      <th></th>\n",
       "      <th>Unnamed: 0</th>\n",
       "      <th>fecha</th>\n",
       "      <th>campo</th>\n",
       "      <th>yacimiento</th>\n",
       "      <th>plataforma</th>\n",
       "      <th>pozo</th>\n",
       "      <th>inicio_produccion_aceite</th>\n",
       "      <th>ultima_produccion_aceite</th>\n",
       "      <th>gasto_aceite_Mbd</th>\n",
       "      <th>gasto_agua_Mbd</th>\n",
       "      <th>gasto_gas_MMpcd</th>\n",
       "      <th>gasto_gas_BN_MMpcd</th>\n",
       "      <th>RGA_m3/m3</th>\n",
       "      <th>aceite_acumulado_MMb</th>\n",
       "      <th>agua_acumulada_MMb</th>\n",
       "      <th>gas_acumulado_MMMpc</th>\n",
       "      <th>cima_intervalo_mvbnm</th>\n",
       "      <th>base_intervalo_mvbnm</th>\n",
       "      <th>distancia_superior_intervalo_a_contacto_gas-aceite_(m)</th>\n",
       "      <th>fluyente_BEC_o _BN</th>\n",
       "      <th>RGA_pc/bl</th>\n",
       "      <th>nivel_CGA</th>\n",
       "      <th>cima_mv -nivel_CGA</th>\n",
       "      <th>estatus</th>\n",
       "      <th>arriba_abajo_CGA</th>\n",
       "      <th>campo_yacimiento</th>\n",
       "      <th>first_oil</th>\n",
       "      <th>Dias Produciendo</th>\n",
       "      <th>days_online</th>\n",
       "      <th>Exponential_Predicted</th>\n",
       "      <th>Hyperbolic_Predicted</th>\n",
       "      <th>Harmonic_Predicted</th>\n",
       "    </tr>\n",
       "  </thead>\n",
       "  <tbody>\n",
       "    <tr>\n",
       "      <td>0</td>\n",
       "      <td>0</td>\n",
       "      <td>2016-01-31</td>\n",
       "      <td>KU</td>\n",
       "      <td>KU_CCE</td>\n",
       "      <td>KU-A</td>\n",
       "      <td>KU-10</td>\n",
       "      <td>02/28/86</td>\n",
       "      <td>31/01/16</td>\n",
       "      <td>1.22</td>\n",
       "      <td>0.01</td>\n",
       "      <td>2.30</td>\n",
       "      <td>1.79</td>\n",
       "      <td>nan</td>\n",
       "      <td>9.93</td>\n",
       "      <td>0.13</td>\n",
       "      <td>5.87</td>\n",
       "      <td>2,585.00</td>\n",
       "      <td>2,603.00</td>\n",
       "      <td>-</td>\n",
       "      <td>BN</td>\n",
       "      <td>1,889.96</td>\n",
       "      <td>2919.2</td>\n",
       "      <td>-334.2</td>\n",
       "      <td>OPERANDO</td>\n",
       "      <td>ARRIBA</td>\n",
       "      <td>Ku-Crétacico</td>\n",
       "      <td>2016-01-31</td>\n",
       "      <td>0</td>\n",
       "      <td>0</td>\n",
       "      <td>1.22</td>\n",
       "      <td>0.60</td>\n",
       "      <td>0.61</td>\n",
       "    </tr>\n",
       "    <tr>\n",
       "      <td>1</td>\n",
       "      <td>178</td>\n",
       "      <td>2016-02-29</td>\n",
       "      <td>KU</td>\n",
       "      <td>KU_CCE</td>\n",
       "      <td>KU-A</td>\n",
       "      <td>KU-10</td>\n",
       "      <td>02/28/86</td>\n",
       "      <td>29/02/16</td>\n",
       "      <td>0.15</td>\n",
       "      <td>0.01</td>\n",
       "      <td>0.28</td>\n",
       "      <td>0.40</td>\n",
       "      <td>331.05</td>\n",
       "      <td>9.93</td>\n",
       "      <td>0.13</td>\n",
       "      <td>5.87</td>\n",
       "      <td>2,585.00</td>\n",
       "      <td>2,603.00</td>\n",
       "      <td>-</td>\n",
       "      <td>BN</td>\n",
       "      <td>1,858.69</td>\n",
       "      <td>2924.518217</td>\n",
       "      <td>-339.518217</td>\n",
       "      <td>OPERANDO</td>\n",
       "      <td>ARRIBA</td>\n",
       "      <td>Ku-Crétacico</td>\n",
       "      <td>2016-01-31</td>\n",
       "      <td>29</td>\n",
       "      <td>29</td>\n",
       "      <td>0.00</td>\n",
       "      <td>0.60</td>\n",
       "      <td>0.60</td>\n",
       "    </tr>\n",
       "    <tr>\n",
       "      <td>2</td>\n",
       "      <td>357</td>\n",
       "      <td>2016-03-31</td>\n",
       "      <td>KU</td>\n",
       "      <td>KU_CCE</td>\n",
       "      <td>KU-A</td>\n",
       "      <td>KU-10</td>\n",
       "      <td>02/28/86</td>\n",
       "      <td>31/03/16</td>\n",
       "      <td>0.44</td>\n",
       "      <td>0.10</td>\n",
       "      <td>0.90</td>\n",
       "      <td>2.05</td>\n",
       "      <td>367.06</td>\n",
       "      <td>9.94</td>\n",
       "      <td>0.14</td>\n",
       "      <td>5.90</td>\n",
       "      <td>2,585.00</td>\n",
       "      <td>2,603.00</td>\n",
       "      <td>-</td>\n",
       "      <td>BN</td>\n",
       "      <td>2,060.87</td>\n",
       "      <td>2918.6</td>\n",
       "      <td>-333.6</td>\n",
       "      <td>OPERANDO</td>\n",
       "      <td>ARRIBA</td>\n",
       "      <td>Ku-Crétacico</td>\n",
       "      <td>2016-01-31</td>\n",
       "      <td>60</td>\n",
       "      <td>60</td>\n",
       "      <td>0.00</td>\n",
       "      <td>0.59</td>\n",
       "      <td>0.59</td>\n",
       "    </tr>\n",
       "    <tr>\n",
       "      <td>3</td>\n",
       "      <td>538</td>\n",
       "      <td>2016-04-30</td>\n",
       "      <td>KU</td>\n",
       "      <td>KU_CCE</td>\n",
       "      <td>KU-A</td>\n",
       "      <td>KU-10</td>\n",
       "      <td>02/28/86</td>\n",
       "      <td>30/04/16</td>\n",
       "      <td>0.44</td>\n",
       "      <td>0.03</td>\n",
       "      <td>0.97</td>\n",
       "      <td>1.81</td>\n",
       "      <td>389.10</td>\n",
       "      <td>9.96</td>\n",
       "      <td>0.14</td>\n",
       "      <td>5.93</td>\n",
       "      <td>2,585.00</td>\n",
       "      <td>2,603.00</td>\n",
       "      <td>-</td>\n",
       "      <td>BN</td>\n",
       "      <td>2,184.62</td>\n",
       "      <td>2918.6</td>\n",
       "      <td>-333.6</td>\n",
       "      <td>OPERANDO</td>\n",
       "      <td>ARRIBA</td>\n",
       "      <td>Ku-Crétacico</td>\n",
       "      <td>2016-01-31</td>\n",
       "      <td>90</td>\n",
       "      <td>90</td>\n",
       "      <td>0.00</td>\n",
       "      <td>0.59</td>\n",
       "      <td>0.59</td>\n",
       "    </tr>\n",
       "    <tr>\n",
       "      <td>4</td>\n",
       "      <td>719</td>\n",
       "      <td>2016-05-31</td>\n",
       "      <td>KU</td>\n",
       "      <td>KU_CCE</td>\n",
       "      <td>KU-A</td>\n",
       "      <td>KU-10</td>\n",
       "      <td>02/28/86</td>\n",
       "      <td>31/05/16</td>\n",
       "      <td>0.45</td>\n",
       "      <td>0.07</td>\n",
       "      <td>0.98</td>\n",
       "      <td>2.61</td>\n",
       "      <td>388.96</td>\n",
       "      <td>9.97</td>\n",
       "      <td>0.14</td>\n",
       "      <td>5.96</td>\n",
       "      <td>2,585.00</td>\n",
       "      <td>2,603.00</td>\n",
       "      <td>-</td>\n",
       "      <td>BN</td>\n",
       "      <td>2,183.85</td>\n",
       "      <td>2923.5</td>\n",
       "      <td>-338.5</td>\n",
       "      <td>OPERANDO</td>\n",
       "      <td>ARRIBA</td>\n",
       "      <td>Ku-Crétacico</td>\n",
       "      <td>2016-01-31</td>\n",
       "      <td>121</td>\n",
       "      <td>121</td>\n",
       "      <td>0.00</td>\n",
       "      <td>0.58</td>\n",
       "      <td>0.58</td>\n",
       "    </tr>\n",
       "  </tbody>\n",
       "</table>\n",
       "</div>"
      ],
      "text/plain": [
       "   Unnamed: 0       fecha campo yacimiento plataforma   pozo inicio_produccion_aceite ultima_produccion_aceite  gasto_aceite_Mbd  gasto_agua_Mbd  gasto_gas_MMpcd  gasto_gas_BN_MMpcd  RGA_m3/m3  aceite_acumulado_MMb  agua_acumulada_MMb  gas_acumulado_MMMpc  cima_intervalo_mvbnm  base_intervalo_mvbnm distancia_superior_intervalo_a_contacto_gas-aceite_(m) fluyente_BEC_o _BN  RGA_pc/bl    nivel_CGA cima_mv -nivel_CGA   estatus arriba_abajo_CGA campo_yacimiento   first_oil  Dias Produciendo  days_online  Exponential_Predicted  Hyperbolic_Predicted  Harmonic_Predicted\n",
       "0           0  2016-01-31    KU     KU_CCE       KU-A  KU-10                 02/28/86                 31/01/16              1.22            0.01             2.30                1.79        nan                  9.93                0.13                 5.87              2,585.00              2,603.00                                                  -                     BN   1,889.96       2919.2             -334.2  OPERANDO           ARRIBA     Ku-Crétacico  2016-01-31                 0            0                   1.22                  0.60                0.61\n",
       "1         178  2016-02-29    KU     KU_CCE       KU-A  KU-10                 02/28/86                 29/02/16              0.15            0.01             0.28                0.40     331.05                  9.93                0.13                 5.87              2,585.00              2,603.00                                                  -                     BN   1,858.69  2924.518217        -339.518217  OPERANDO           ARRIBA     Ku-Crétacico  2016-01-31                29           29                   0.00                  0.60                0.60\n",
       "2         357  2016-03-31    KU     KU_CCE       KU-A  KU-10                 02/28/86                 31/03/16              0.44            0.10             0.90                2.05     367.06                  9.94                0.14                 5.90              2,585.00              2,603.00                                                  -                     BN   2,060.87       2918.6             -333.6  OPERANDO           ARRIBA     Ku-Crétacico  2016-01-31                60           60                   0.00                  0.59                0.59\n",
       "3         538  2016-04-30    KU     KU_CCE       KU-A  KU-10                 02/28/86                 30/04/16              0.44            0.03             0.97                1.81     389.10                  9.96                0.14                 5.93              2,585.00              2,603.00                                                  -                     BN   2,184.62       2918.6             -333.6  OPERANDO           ARRIBA     Ku-Crétacico  2016-01-31                90           90                   0.00                  0.59                0.59\n",
       "4         719  2016-05-31    KU     KU_CCE       KU-A  KU-10                 02/28/86                 31/05/16              0.45            0.07             0.98                2.61     388.96                  9.97                0.14                 5.96              2,585.00              2,603.00                                                  -                     BN   2,183.85       2923.5             -338.5  OPERANDO           ARRIBA     Ku-Crétacico  2016-01-31               121          121                   0.00                  0.58                0.58"
      ]
     },
     "metadata": {},
     "output_type": "display_data"
    },
    {
     "data": {
      "text/plain": [
       "Index(['Unnamed: 0', 'fecha', 'campo', 'yacimiento', 'plataforma', 'pozo', 'inicio_produccion_aceite', 'ultima_produccion_aceite', 'gasto_aceite_Mbd', 'gasto_agua_Mbd', 'gasto_gas_MMpcd', 'gasto_gas_BN_MMpcd', 'RGA_m3/m3', 'aceite_acumulado_MMb', 'agua_acumulada_MMb', 'gas_acumulado_MMMpc', 'cima_intervalo_mvbnm', 'base_intervalo_mvbnm', 'distancia_superior_intervalo_a_contacto_gas-aceite_(m)', 'fluyente_BEC_o _BN', 'RGA_pc/bl', 'nivel_CGA', 'cima_mv -nivel_CGA', 'estatus', 'arriba_abajo_CGA', 'campo_yacimiento', 'first_oil', 'Dias Produciendo', 'days_online', 'Exponential_Predicted', 'Hyperbolic_Predicted', 'Harmonic_Predicted'], dtype='object')"
      ]
     },
     "metadata": {},
     "output_type": "display_data"
    },
    {
     "data": {
      "image/png": "[encoded data removed]",
      "text/plain": [
       "<Figure size 1152x576 with 1 Axes>"
      ]
     },
     "metadata": {
      "needs_background": "light"
     },
     "output_type": "display_data"
    }
   ],
   "source": [
    "df=pd.read_csv(r'/Users/fffte/ainda_drive/python/csv/benchmark/kumaza_dca.csv',\n",
    "               parse_dates=True)\n",
    "display(df.head(),df.columns)\n",
    "\n",
    "fig, ax = plt.subplots(figsize=(16,8))\n",
    "ax.bar(df.fecha,df.gasto_aceite_Mbd)\n",
    "ax.set_xlabel('Fecha')\n",
    "ax.set_ylabel('Gasto de aceite Mbd')\n",
    "plt.show()\n",
    "#df.gasto_gas_MMpcd.plot(figsize=(20,10),cmap='viridis')"
   ]
  },
  {
   "cell_type": "markdown",
   "metadata": {},
   "source": [
    "## Dispersion Analysis"
   ]
  },
  {
   "cell_type": "code",
   "execution_count": 6,
   "metadata": {},
   "outputs": [
    {
     "name": "stdout",
     "output_type": "stream",
     "text": [
      "CPU times: user 2 µs, sys: 1 µs, total: 3 µs\n",
      "Wall time: 4.05 µs\n"
     ]
    },
    {
     "data": {
      "image/png": "[encoded data removed]",
      "text/plain": [
       "<Figure size 1152x576 with 1 Axes>"
      ]
     },
     "metadata": {
      "needs_background": "light"
     },
     "output_type": "display_data"
    }
   ],
   "source": [
    "%time \n",
    "\n",
    "fig, ax = plt.subplots(figsize=(16,8))\n",
    "ax.scatter(df['cima_intervalo_mvbnm'],df['gasto_aceite_Mbd'])\n",
    "ax.set_xlabel('Cima de intervalo mvbnm')\n",
    "ax.set_ylabel('Gasto de aceite Mbd')\n",
    "plt.show()"
   ]
  },
  {
   "cell_type": "code",
   "execution_count": 7,
   "metadata": {},
   "outputs": [
    {
     "data": {
      "text/html": [
       "<div>\n",
       "<style scoped>\n",
       "    .dataframe tbody tr th:only-of-type {\n",
       "        vertical-align: middle;\n",
       "    }\n",
       "\n",
       "    .dataframe tbody tr th {\n",
       "        vertical-align: top;\n",
       "    }\n",
       "\n",
       "    .dataframe thead th {\n",
       "        text-align: right;\n",
       "    }\n",
       "</style>\n",
       "<table border=\"1\" class=\"dataframe\">\n",
       "  <thead>\n",
       "    <tr style=\"text-align: right;\">\n",
       "      <th></th>\n",
       "      <th>Unnamed: 0</th>\n",
       "      <th>fecha</th>\n",
       "      <th>campo</th>\n",
       "      <th>yacimiento</th>\n",
       "      <th>plataforma</th>\n",
       "      <th>pozo</th>\n",
       "      <th>inicio_produccion_aceite</th>\n",
       "      <th>ultima_produccion_aceite</th>\n",
       "      <th>gasto_aceite_Mbd</th>\n",
       "      <th>gasto_agua_Mbd</th>\n",
       "      <th>gasto_gas_MMpcd</th>\n",
       "      <th>gasto_gas_BN_MMpcd</th>\n",
       "      <th>RGA_m3/m3</th>\n",
       "      <th>aceite_acumulado_MMb</th>\n",
       "      <th>agua_acumulada_MMb</th>\n",
       "      <th>gas_acumulado_MMMpc</th>\n",
       "      <th>cima_intervalo_mvbnm</th>\n",
       "      <th>base_intervalo_mvbnm</th>\n",
       "      <th>distancia_superior_intervalo_a_contacto_gas-aceite_(m)</th>\n",
       "      <th>fluyente_BEC_o _BN</th>\n",
       "      <th>RGA_pc/bl</th>\n",
       "      <th>nivel_CGA</th>\n",
       "      <th>cima_mv -nivel_CGA</th>\n",
       "      <th>estatus</th>\n",
       "      <th>arriba_abajo_CGA</th>\n",
       "      <th>campo_yacimiento</th>\n",
       "      <th>first_oil</th>\n",
       "      <th>Dias Produciendo</th>\n",
       "      <th>days_online</th>\n",
       "      <th>Exponential_Predicted</th>\n",
       "      <th>Hyperbolic_Predicted</th>\n",
       "      <th>Harmonic_Predicted</th>\n",
       "    </tr>\n",
       "  </thead>\n",
       "  <tbody>\n",
       "    <tr>\n",
       "      <td>0</td>\n",
       "      <td>0</td>\n",
       "      <td>2016-01-31</td>\n",
       "      <td>KU</td>\n",
       "      <td>KU_CCE</td>\n",
       "      <td>KU-A</td>\n",
       "      <td>KU-10</td>\n",
       "      <td>02/28/86</td>\n",
       "      <td>31/01/16</td>\n",
       "      <td>1.22</td>\n",
       "      <td>0.01</td>\n",
       "      <td>2.30</td>\n",
       "      <td>1.79</td>\n",
       "      <td>nan</td>\n",
       "      <td>9.93</td>\n",
       "      <td>0.13</td>\n",
       "      <td>5.87</td>\n",
       "      <td>2,585.00</td>\n",
       "      <td>2,603.00</td>\n",
       "      <td>-</td>\n",
       "      <td>BN</td>\n",
       "      <td>1,889.96</td>\n",
       "      <td>2919.2</td>\n",
       "      <td>-334.2</td>\n",
       "      <td>OPERANDO</td>\n",
       "      <td>ARRIBA</td>\n",
       "      <td>Ku-Crétacico</td>\n",
       "      <td>2016-01-31</td>\n",
       "      <td>0</td>\n",
       "      <td>0</td>\n",
       "      <td>1.22</td>\n",
       "      <td>0.60</td>\n",
       "      <td>0.61</td>\n",
       "    </tr>\n",
       "    <tr>\n",
       "      <td>1</td>\n",
       "      <td>178</td>\n",
       "      <td>2016-02-29</td>\n",
       "      <td>KU</td>\n",
       "      <td>KU_CCE</td>\n",
       "      <td>KU-A</td>\n",
       "      <td>KU-10</td>\n",
       "      <td>02/28/86</td>\n",
       "      <td>29/02/16</td>\n",
       "      <td>0.15</td>\n",
       "      <td>0.01</td>\n",
       "      <td>0.28</td>\n",
       "      <td>0.40</td>\n",
       "      <td>331.05</td>\n",
       "      <td>9.93</td>\n",
       "      <td>0.13</td>\n",
       "      <td>5.87</td>\n",
       "      <td>2,585.00</td>\n",
       "      <td>2,603.00</td>\n",
       "      <td>-</td>\n",
       "      <td>BN</td>\n",
       "      <td>1,858.69</td>\n",
       "      <td>2924.518217</td>\n",
       "      <td>-339.518217</td>\n",
       "      <td>OPERANDO</td>\n",
       "      <td>ARRIBA</td>\n",
       "      <td>Ku-Crétacico</td>\n",
       "      <td>2016-01-31</td>\n",
       "      <td>29</td>\n",
       "      <td>29</td>\n",
       "      <td>0.00</td>\n",
       "      <td>0.60</td>\n",
       "      <td>0.60</td>\n",
       "    </tr>\n",
       "    <tr>\n",
       "      <td>2</td>\n",
       "      <td>357</td>\n",
       "      <td>2016-03-31</td>\n",
       "      <td>KU</td>\n",
       "      <td>KU_CCE</td>\n",
       "      <td>KU-A</td>\n",
       "      <td>KU-10</td>\n",
       "      <td>02/28/86</td>\n",
       "      <td>31/03/16</td>\n",
       "      <td>0.44</td>\n",
       "      <td>0.10</td>\n",
       "      <td>0.90</td>\n",
       "      <td>2.05</td>\n",
       "      <td>367.06</td>\n",
       "      <td>9.94</td>\n",
       "      <td>0.14</td>\n",
       "      <td>5.90</td>\n",
       "      <td>2,585.00</td>\n",
       "      <td>2,603.00</td>\n",
       "      <td>-</td>\n",
       "      <td>BN</td>\n",
       "      <td>2,060.87</td>\n",
       "      <td>2918.6</td>\n",
       "      <td>-333.6</td>\n",
       "      <td>OPERANDO</td>\n",
       "      <td>ARRIBA</td>\n",
       "      <td>Ku-Crétacico</td>\n",
       "      <td>2016-01-31</td>\n",
       "      <td>60</td>\n",
       "      <td>60</td>\n",
       "      <td>0.00</td>\n",
       "      <td>0.59</td>\n",
       "      <td>0.59</td>\n",
       "    </tr>\n",
       "    <tr>\n",
       "      <td>3</td>\n",
       "      <td>538</td>\n",
       "      <td>2016-04-30</td>\n",
       "      <td>KU</td>\n",
       "      <td>KU_CCE</td>\n",
       "      <td>KU-A</td>\n",
       "      <td>KU-10</td>\n",
       "      <td>02/28/86</td>\n",
       "      <td>30/04/16</td>\n",
       "      <td>0.44</td>\n",
       "      <td>0.03</td>\n",
       "      <td>0.97</td>\n",
       "      <td>1.81</td>\n",
       "      <td>389.10</td>\n",
       "      <td>9.96</td>\n",
       "      <td>0.14</td>\n",
       "      <td>5.93</td>\n",
       "      <td>2,585.00</td>\n",
       "      <td>2,603.00</td>\n",
       "      <td>-</td>\n",
       "      <td>BN</td>\n",
       "      <td>2,184.62</td>\n",
       "      <td>2918.6</td>\n",
       "      <td>-333.6</td>\n",
       "      <td>OPERANDO</td>\n",
       "      <td>ARRIBA</td>\n",
       "      <td>Ku-Crétacico</td>\n",
       "      <td>2016-01-31</td>\n",
       "      <td>90</td>\n",
       "      <td>90</td>\n",
       "      <td>0.00</td>\n",
       "      <td>0.59</td>\n",
       "      <td>0.59</td>\n",
       "    </tr>\n",
       "    <tr>\n",
       "      <td>4</td>\n",
       "      <td>719</td>\n",
       "      <td>2016-05-31</td>\n",
       "      <td>KU</td>\n",
       "      <td>KU_CCE</td>\n",
       "      <td>KU-A</td>\n",
       "      <td>KU-10</td>\n",
       "      <td>02/28/86</td>\n",
       "      <td>31/05/16</td>\n",
       "      <td>0.45</td>\n",
       "      <td>0.07</td>\n",
       "      <td>0.98</td>\n",
       "      <td>2.61</td>\n",
       "      <td>388.96</td>\n",
       "      <td>9.97</td>\n",
       "      <td>0.14</td>\n",
       "      <td>5.96</td>\n",
       "      <td>2,585.00</td>\n",
       "      <td>2,603.00</td>\n",
       "      <td>-</td>\n",
       "      <td>BN</td>\n",
       "      <td>2,183.85</td>\n",
       "      <td>2923.5</td>\n",
       "      <td>-338.5</td>\n",
       "      <td>OPERANDO</td>\n",
       "      <td>ARRIBA</td>\n",
       "      <td>Ku-Crétacico</td>\n",
       "      <td>2016-01-31</td>\n",
       "      <td>121</td>\n",
       "      <td>121</td>\n",
       "      <td>0.00</td>\n",
       "      <td>0.58</td>\n",
       "      <td>0.58</td>\n",
       "    </tr>\n",
       "  </tbody>\n",
       "</table>\n",
       "</div>"
      ],
      "text/plain": [
       "   Unnamed: 0       fecha campo yacimiento plataforma   pozo inicio_produccion_aceite ultima_produccion_aceite  gasto_aceite_Mbd  gasto_agua_Mbd  gasto_gas_MMpcd  gasto_gas_BN_MMpcd  RGA_m3/m3  aceite_acumulado_MMb  agua_acumulada_MMb  gas_acumulado_MMMpc  cima_intervalo_mvbnm  base_intervalo_mvbnm distancia_superior_intervalo_a_contacto_gas-aceite_(m) fluyente_BEC_o _BN  RGA_pc/bl    nivel_CGA cima_mv -nivel_CGA   estatus arriba_abajo_CGA campo_yacimiento   first_oil  Dias Produciendo  days_online  Exponential_Predicted  Hyperbolic_Predicted  Harmonic_Predicted\n",
       "0           0  2016-01-31    KU     KU_CCE       KU-A  KU-10                 02/28/86                 31/01/16              1.22            0.01             2.30                1.79        nan                  9.93                0.13                 5.87              2,585.00              2,603.00                                                  -                     BN   1,889.96       2919.2             -334.2  OPERANDO           ARRIBA     Ku-Crétacico  2016-01-31                 0            0                   1.22                  0.60                0.61\n",
       "1         178  2016-02-29    KU     KU_CCE       KU-A  KU-10                 02/28/86                 29/02/16              0.15            0.01             0.28                0.40     331.05                  9.93                0.13                 5.87              2,585.00              2,603.00                                                  -                     BN   1,858.69  2924.518217        -339.518217  OPERANDO           ARRIBA     Ku-Crétacico  2016-01-31                29           29                   0.00                  0.60                0.60\n",
       "2         357  2016-03-31    KU     KU_CCE       KU-A  KU-10                 02/28/86                 31/03/16              0.44            0.10             0.90                2.05     367.06                  9.94                0.14                 5.90              2,585.00              2,603.00                                                  -                     BN   2,060.87       2918.6             -333.6  OPERANDO           ARRIBA     Ku-Crétacico  2016-01-31                60           60                   0.00                  0.59                0.59\n",
       "3         538  2016-04-30    KU     KU_CCE       KU-A  KU-10                 02/28/86                 30/04/16              0.44            0.03             0.97                1.81     389.10                  9.96                0.14                 5.93              2,585.00              2,603.00                                                  -                     BN   2,184.62       2918.6             -333.6  OPERANDO           ARRIBA     Ku-Crétacico  2016-01-31                90           90                   0.00                  0.59                0.59\n",
       "4         719  2016-05-31    KU     KU_CCE       KU-A  KU-10                 02/28/86                 31/05/16              0.45            0.07             0.98                2.61     388.96                  9.97                0.14                 5.96              2,585.00              2,603.00                                                  -                     BN   2,183.85       2923.5             -338.5  OPERANDO           ARRIBA     Ku-Crétacico  2016-01-31               121          121                   0.00                  0.58                0.58"
      ]
     },
     "metadata": {},
     "output_type": "display_data"
    },
    {
     "data": {
      "text/plain": [
       "(7328, 32)"
      ]
     },
     "metadata": {},
     "output_type": "display_data"
    },
    {
     "data": {
      "text/plain": [
       "(222,)"
      ]
     },
     "metadata": {},
     "output_type": "display_data"
    },
    {
     "data": {
      "text/plain": [
       "222"
      ]
     },
     "metadata": {},
     "output_type": "display_data"
    }
   ],
   "source": [
    "display(df.head(),df.shape)\n",
    "unique_well_list=pd.unique(list(df.pozo))\n",
    "display(unique_well_list.shape, len(unique_well_list))"
   ]
  },
  {
   "cell_type": "code",
   "execution_count": 8,
   "metadata": {},
   "outputs": [
    {
     "data": {
      "text/plain": [
       "count   7,328.00\n",
       "mean        4.66\n",
       "std         2.72\n",
       "min         0.00\n",
       "25%         2.57\n",
       "50%         4.46\n",
       "75%         6.37\n",
       "max        16.27\n",
       "Name: gasto_aceite_Mbd, dtype: float64"
      ]
     },
     "metadata": {},
     "output_type": "display_data"
    },
    {
     "data": {
      "text/plain": [
       "0.10   1.20\n",
       "0.50   4.46\n",
       "0.90   8.36\n",
       "Name: gasto_aceite_Mbd, dtype: float64"
      ]
     },
     "metadata": {},
     "output_type": "display_data"
    },
    {
     "data": {
      "text/plain": [
       "count   7,328.00\n",
       "mean        4.45\n",
       "std         2.23\n",
       "min         0.03\n",
       "25%         2.77\n",
       "50%         4.30\n",
       "75%         5.74\n",
       "max        12.80\n",
       "Name: Hyperbolic_Predicted, dtype: float64"
      ]
     },
     "metadata": {},
     "output_type": "display_data"
    },
    {
     "data": {
      "text/plain": [
       "0.10   1.70\n",
       "0.50   4.30\n",
       "0.90   7.53\n",
       "Name: Hyperbolic_Predicted, dtype: float64"
      ]
     },
     "metadata": {},
     "output_type": "display_data"
    },
    {
     "data": {
      "text/plain": [
       "<matplotlib.axes._subplots.AxesSubplot at 0x1a27ef5810>"
      ]
     },
     "execution_count": 8,
     "metadata": {},
     "output_type": "execute_result"
    },
    {
     "data": {
      "image/png": "[encoded data removed]",
      "text/plain": [
       "<Figure size 432x288 with 1 Axes>"
      ]
     },
     "metadata": {
      "needs_background": "light"
     },
     "output_type": "display_data"
    }
   ],
   "source": [
    "display(df.gasto_aceite_Mbd.describe(),\n",
    "        df.gasto_aceite_Mbd.quantile([.1,.5,.9]),\n",
    "        df.Hyperbolic_Predicted.describe(),\n",
    "        df.Hyperbolic_Predicted.quantile([.1,.5,.9]))\n",
    "df.gasto_aceite_Mbd.plot.hist(bins=40,color='black'),\n",
    "df.Hyperbolic_Predicted.plot.hist(bins=40,color='gray')"
   ]
  },
  {
   "cell_type": "code",
   "execution_count": 9,
   "metadata": {},
   "outputs": [
    {
     "data": {
      "text/plain": [
       "count   7,328.00\n",
       "mean        3.66\n",
       "std         5.25\n",
       "min         0.00\n",
       "25%         1.24\n",
       "50%         2.12\n",
       "75%         3.52\n",
       "max        64.57\n",
       "Name: gasto_gas_MMpcd, dtype: float64"
      ]
     },
     "metadata": {},
     "output_type": "display_data"
    },
    {
     "data": {
      "text/plain": [
       "0.10   0.65\n",
       "0.50   2.12\n",
       "0.90   7.48\n",
       "Name: gasto_gas_MMpcd, dtype: float64"
      ]
     },
     "metadata": {},
     "output_type": "display_data"
    },
    {
     "data": {
      "text/plain": [
       "<matplotlib.axes._subplots.AxesSubplot at 0x1a28305a90>"
      ]
     },
     "execution_count": 9,
     "metadata": {},
     "output_type": "execute_result"
    },
    {
     "data": {
      "image/png": "[encoded data removed]",
      "text/plain": [
       "<Figure size 432x288 with 1 Axes>"
      ]
     },
     "metadata": {
      "needs_background": "light"
     },
     "output_type": "display_data"
    }
   ],
   "source": [
    "display(df.gasto_gas_MMpcd.describe(),\n",
    "       df.gasto_gas_MMpcd.quantile([.1,.5,.9]))\n",
    "df.gasto_gas_MMpcd.plot.hist(bins=40,color='green')"
   ]
  },
  {
   "cell_type": "code",
   "execution_count": 10,
   "metadata": {},
   "outputs": [
    {
     "data": {
      "text/plain": [
       "<matplotlib.axes._subplots.AxesSubplot at 0x1a279d7b90>"
      ]
     },
     "execution_count": 10,
     "metadata": {},
     "output_type": "execute_result"
    },
    {
     "data": {
      "image/png": "[encoded data removed]",
      "text/plain": [
       "<Figure size 432x288 with 1 Axes>"
      ]
     },
     "metadata": {
      "needs_background": "light"
     },
     "output_type": "display_data"
    }
   ],
   "source": [
    "df.gasto_aceite_Mbd.plot()\n",
    "df.Hyperbolic_Predicted.plot()"
   ]
  },
  {
   "cell_type": "markdown",
   "metadata": {},
   "source": [
    "# Estadística CAMPOS"
   ]
  },
  {
   "cell_type": "code",
   "execution_count": 11,
   "metadata": {},
   "outputs": [
    {
     "data": {
      "text/plain": [
       "3.6314316810000093"
      ]
     },
     "execution_count": 11,
     "metadata": {},
     "output_type": "execute_result"
    }
   ],
   "source": [
    "import timeit\n",
    "tic=timeit.default_timer()\n",
    "\n",
    "mx_stats=pd.read_csv(r'/Users/fffte/ainda_drive/python/csv/benchmark/mexico/pozos/mx_benchmark.csv',\n",
    "                    low_memory=False)\n",
    "\n",
    "toc=timeit.default_timer()\n",
    "toc - tic #elapsed time in seconds"
   ]
  },
  {
   "cell_type": "code",
   "execution_count": 12,
   "metadata": {},
   "outputs": [
    {
     "name": "stdout",
     "output_type": "stream",
     "text": [
      "Nombre de Campo: CORRALILLO\n"
     ]
    }
   ],
   "source": [
    "input_campo = input(\"Nombre de Campo: \")"
   ]
  },
  {
   "cell_type": "code",
   "execution_count": 14,
   "metadata": {},
   "outputs": [
    {
     "data": {
      "text/plain": [
       "'Número de pozos en:'"
      ]
     },
     "metadata": {},
     "output_type": "display_data"
    },
    {
     "data": {
      "text/plain": [
       "'CORRALILLO'"
      ]
     },
     "metadata": {},
     "output_type": "display_data"
    },
    {
     "data": {
      "text/plain": [
       "252"
      ]
     },
     "metadata": {},
     "output_type": "display_data"
    },
    {
     "data": {
      "text/plain": [
       "array(['CORRALILLO-157', 'CORRALILLO-1601', 'CORRALILLO-1612',\n",
       "       'CORRALILLO-1632', 'CORRALILLO-1651', 'CORRALILLO-1655',\n",
       "       'CORRALILLO-1695', 'CORRALILLO-2', 'CORRALILLO-301',\n",
       "       'CORRALILLO-302', 'CORRALILLO-303', 'CORRALILLO-304',\n",
       "       'CORRALILLO-305', 'CORRALILLO-3067', 'CORRALILLO-307',\n",
       "       'CORRALILLO-309', 'CORRALILLO-3101', 'CORRALILLO-3103',\n",
       "       'CORRALILLO-3107', 'CORRALILLO-311', 'CORRALILLO-3113',\n",
       "       'CORRALILLO-3116', 'CORRALILLO-3119', 'CORRALILLO-312',\n",
       "       'CORRALILLO-3123', 'CORRALILLO-3135', 'CORRALILLO-314',\n",
       "       'CORRALILLO-3143', 'CORRALILLO-3144', 'CORRALILLO-3157',\n",
       "       'CORRALILLO-316', 'CORRALILLO-3163', 'CORRALILLO-3165',\n",
       "       'CORRALILLO-3166', 'CORRALILLO-3167', 'CORRALILLO-3169',\n",
       "       'CORRALILLO-3179', 'CORRALILLO-3183', 'CORRALILLO-3189',\n",
       "       'CORRALILLO-319', 'CORRALILLO-3204', 'CORRALILLO-3206',\n",
       "       'CORRALILLO-3212', 'CORRALILLO-3214', 'CORRALILLO-3218',\n",
       "       'CORRALILLO-3226', 'CORRALILLO-323', 'CORRALILLO-3231',\n",
       "       'CORRALILLO-3232', 'CORRALILLO-3234A', 'CORRALILLO-3236',\n",
       "       'CORRALILLO-325', 'CORRALILLO-326', 'CORRALILLO-328',\n",
       "       'CORRALILLO-331A', 'CORRALILLO-332', 'CORRALILLO-333',\n",
       "       'CORRALILLO-334', 'CORRALILLO-335', 'CORRALILLO-336',\n",
       "       'CORRALILLO-337', 'CORRALILLO-338', 'CORRALILLO-339',\n",
       "       'CORRALILLO-341', 'CORRALILLO-343', 'CORRALILLO-346',\n",
       "       'CORRALILLO-347', 'CORRALILLO-348', 'CORRALILLO-358',\n",
       "       'CORRALILLO-363', 'CORRALILLO-364', 'CORRALILLO-365',\n",
       "       'CORRALILLO-374', 'CORRALILLO-378', 'CORRALILLO-3780',\n",
       "       'CORRALILLO-381', 'CORRALILLO-383', 'CORRALILLO-385',\n",
       "       'CORRALILLO-388', 'CORRALILLO-394', 'CORRALILLO-396',\n",
       "       'CORRALILLO-3960', 'CORRALILLO-398', 'CORRALILLO-3980',\n",
       "       'CORRALILLO-401', 'CORRALILLO-4038', 'CORRALILLO-4068',\n",
       "       'CORRALILLO-4078', 'CORRALILLO-411', 'CORRALILLO-412',\n",
       "       'CORRALILLO-423', 'CORRALILLO-425', 'CORRALILLO-438',\n",
       "       'CORRALILLO-442', 'CORRALILLO-443', 'CORRALILLO-447',\n",
       "       'CORRALILLO-453', 'CORRALILLO-455', 'CORRALILLO-458',\n",
       "       'CORRALILLO-461', 'CORRALILLO-462', 'CORRALILLO-463',\n",
       "       'CORRALILLO-464', 'CORRALILLO-465', 'CORRALILLO-475',\n",
       "       'CORRALILLO-482', 'CORRALILLO-483', 'CORRALILLO-484',\n",
       "       'CORRALILLO-582', 'CORRALILLO-603', 'CORRALILLO-604',\n",
       "       'CORRALILLO-605', 'CORRALILLO-606', 'CORRALILLO-607',\n",
       "       'CORRALILLO-608', 'CORRALILLO-609', 'CORRALILLO-611',\n",
       "       'CORRALILLO-612', 'CORRALILLO-615', 'CORRALILLO-617',\n",
       "       'CORRALILLO-618', 'CORRALILLO-619', 'CORRALILLO-621',\n",
       "       'CORRALILLO-623', 'CORRALILLO-624', 'CORRALILLO-625',\n",
       "       'CORRALILLO-626', 'CORRALILLO-627', 'CORRALILLO-629',\n",
       "       'CORRALILLO-635', 'CORRALILLO-636', 'CORRALILLO-637',\n",
       "       'CORRALILLO-638', 'CORRALILLO-639', 'CORRALILLO-641',\n",
       "       'CORRALILLO-642', 'CORRALILLO-644', 'CORRALILLO-645',\n",
       "       'CORRALILLO-646', 'CORRALILLO-647', 'CORRALILLO-648',\n",
       "       'CORRALILLO-649', 'CORRALILLO-656', 'CORRALILLO-658',\n",
       "       'CORRALILLO-662', 'CORRALILLO-664', 'CORRALILLO-665',\n",
       "       'CORRALILLO-666', 'CORRALILLO-667', 'CORRALILLO-668',\n",
       "       'CORRALILLO-669', 'CORRALILLO-670', 'CORRALILLO-671',\n",
       "       'CORRALILLO-672', 'CORRALILLO-674', 'CORRALILLO-676',\n",
       "       'CORRALILLO-685', 'CORRALILLO-6850', 'CORRALILLO-687',\n",
       "       'CORRALILLO-689', 'CORRALILLO-6890', 'CORRALILLO-692',\n",
       "       'CORRALILLO-693', 'CORRALILLO-694', 'CORRALILLO-695',\n",
       "       'CORRALILLO-706', 'CORRALILLO-708', 'CORRALILLO-728',\n",
       "       'CORRALILLO-744', 'CORRALILLO-746', 'CORRALILLO-748',\n",
       "       'CORRALILLO-762', 'CORRALILLO-766', 'CORRALILLO-768',\n",
       "       'CORRALILLO-782', 'CORRALILLO-7830', 'CORRALILLO-784',\n",
       "       'CORRALILLO-785', 'CORRALILLO-786', 'CORRALILLO-788',\n",
       "       'CORRALILLO-7880', 'CORRALILLO-791', 'CORRALILLO-792',\n",
       "       'CORRALILLO-794', 'CORRALILLO-795', 'CORRALILLO-804',\n",
       "       'CORRALILLO-811', 'CORRALILLO-813', 'CORRALILLO-835',\n",
       "       'CORRALILLO-836', 'CORRALILLO-84', 'CORRALILLO-852',\n",
       "       'CORRALILLO-86', 'CORRALILLO-860', 'CORRALILLO-874',\n",
       "       'CORRALILLO-88', 'CORRALILLO-891', 'CORRALILLO-306',\n",
       "       'CORRALILLO-457', 'CORRALILLO-481', 'CORRALILLO-613',\n",
       "       'CORRALILLO-3268', 'CORRALILLO-51', 'CORRALILLO-601',\n",
       "       'CORRALILLO-4088', 'CORRALILLO-880', 'CORRALILLO-1677',\n",
       "       'CORRALILLO-3266', 'CORRALILLO-735', 'CORRALILLO-775',\n",
       "       'CORRALILLO-878', 'CORRALILLO-3296', 'CORRALILLO-733',\n",
       "       'CORRALILLO-3284', 'CORRALILLO-757', 'CORRALILLO-3202',\n",
       "       'CORRALILLO-3216', 'CORRALILLO-451', 'CORRALILLO-313',\n",
       "       'CORRALILLO-356', 'CORRALILLO-376', 'CORRALILLO-431',\n",
       "       'CORRALILLO-473', 'CORRALILLO-477', 'CORRALILLO-48',\n",
       "       'CORRALILLO-764', 'CORRALILLO-801', 'CORRALILLO-403',\n",
       "       'CORRALILLO-415', 'CORRALILLO-427', 'CORRALILLO-445',\n",
       "       'CORRALILLO-318', 'CORRALILLO-678', 'CORRALILLO-3185',\n",
       "       'CORRALILLO-3187', 'CORRALILLO-602', 'CORRALILLO-308',\n",
       "       'CORRALILLO-101', 'CORRALILLO-3224', 'CORRALILLO-112',\n",
       "       'CORRALILLO-384', 'CORRALILLO-622', 'CORRALILLO-8',\n",
       "       'CORRALILLO-726', 'CORRALILLO-26DES', 'CORRALILLO-28DES',\n",
       "       'CORRALILLO-724', 'CORRALILLO-1', 'CORRALILLO-643',\n",
       "       'CORRALILLO-382', 'CORRALILLO-331', 'CORRALILLO-1673'],\n",
       "      dtype=object)"
      ]
     },
     "metadata": {},
     "output_type": "display_data"
    },
    {
     "data": {
      "text/plain": [
       "(20353, 10)"
      ]
     },
     "metadata": {},
     "output_type": "display_data"
    },
    {
     "data": {
      "text/plain": [
       "1.3456020760000058"
      ]
     },
     "execution_count": 14,
     "metadata": {},
     "output_type": "execute_result"
    }
   ],
   "source": [
    "import timeit\n",
    "tic=timeit.default_timer()\n",
    "\n",
    "selected_rows=mx_stats.pozo.str.contains(str(input_campo))\n",
    "campo=mx_stats.loc[selected_rows]\n",
    "\n",
    "unique_well_list=pd.unique(campo['pozo'])\n",
    "\n",
    "display('Número de pozos en:',\n",
    "        input_campo,\n",
    "        len(unique_well_list),\n",
    "        unique_well_list,\n",
    "        campo.shape)\n",
    "\n",
    "\n",
    "toc=timeit.default_timer()\n",
    "toc - tic #elapsed time in seconds"
   ]
  },
  {
   "cell_type": "code",
   "execution_count": 15,
   "metadata": {
    "scrolled": true
   },
   "outputs": [
    {
     "data": {
      "text/plain": [
       "0.10   0.01\n",
       "0.50   0.02\n",
       "0.90   0.09\n",
       "Name: aceite_Mbd, dtype: float64"
      ]
     },
     "metadata": {},
     "output_type": "display_data"
    },
    {
     "data": {
      "text/html": [
       "<div>\n",
       "<style scoped>\n",
       "    .dataframe tbody tr th:only-of-type {\n",
       "        vertical-align: middle;\n",
       "    }\n",
       "\n",
       "    .dataframe tbody tr th {\n",
       "        vertical-align: top;\n",
       "    }\n",
       "\n",
       "    .dataframe thead th {\n",
       "        text-align: right;\n",
       "    }\n",
       "</style>\n",
       "<table border=\"1\" class=\"dataframe\">\n",
       "  <thead>\n",
       "    <tr style=\"text-align: right;\">\n",
       "      <th></th>\n",
       "      <th>Unnamed: 0</th>\n",
       "      <th>aceite_Mbd</th>\n",
       "      <th>agua_Mbd</th>\n",
       "      <th>condensado_Mbd</th>\n",
       "      <th>gas_asociado_MMpcd</th>\n",
       "      <th>gas_no_asociado_MMpcd</th>\n",
       "    </tr>\n",
       "  </thead>\n",
       "  <tbody>\n",
       "    <tr>\n",
       "      <td>count</td>\n",
       "      <td>20,353.00</td>\n",
       "      <td>20,353.00</td>\n",
       "      <td>20,353.00</td>\n",
       "      <td>20,353.00</td>\n",
       "      <td>20,353.00</td>\n",
       "      <td>20,353.00</td>\n",
       "    </tr>\n",
       "    <tr>\n",
       "      <td>mean</td>\n",
       "      <td>491,953.86</td>\n",
       "      <td>0.04</td>\n",
       "      <td>0.01</td>\n",
       "      <td>0.00</td>\n",
       "      <td>0.12</td>\n",
       "      <td>0.00</td>\n",
       "    </tr>\n",
       "    <tr>\n",
       "      <td>std</td>\n",
       "      <td>392,346.96</td>\n",
       "      <td>0.07</td>\n",
       "      <td>0.02</td>\n",
       "      <td>0.00</td>\n",
       "      <td>0.17</td>\n",
       "      <td>0.00</td>\n",
       "    </tr>\n",
       "    <tr>\n",
       "      <td>min</td>\n",
       "      <td>2,001.00</td>\n",
       "      <td>0.00</td>\n",
       "      <td>0.00</td>\n",
       "      <td>0.00</td>\n",
       "      <td>0.00</td>\n",
       "      <td>0.00</td>\n",
       "    </tr>\n",
       "    <tr>\n",
       "      <td>25%</td>\n",
       "      <td>104,716.00</td>\n",
       "      <td>0.01</td>\n",
       "      <td>0.00</td>\n",
       "      <td>0.00</td>\n",
       "      <td>0.03</td>\n",
       "      <td>0.00</td>\n",
       "    </tr>\n",
       "    <tr>\n",
       "      <td>50%</td>\n",
       "      <td>456,328.00</td>\n",
       "      <td>0.02</td>\n",
       "      <td>0.00</td>\n",
       "      <td>0.00</td>\n",
       "      <td>0.07</td>\n",
       "      <td>0.00</td>\n",
       "    </tr>\n",
       "    <tr>\n",
       "      <td>75%</td>\n",
       "      <td>889,237.00</td>\n",
       "      <td>0.04</td>\n",
       "      <td>0.01</td>\n",
       "      <td>0.00</td>\n",
       "      <td>0.15</td>\n",
       "      <td>0.00</td>\n",
       "    </tr>\n",
       "    <tr>\n",
       "      <td>max</td>\n",
       "      <td>998,143.00</td>\n",
       "      <td>1.49</td>\n",
       "      <td>0.81</td>\n",
       "      <td>0.00</td>\n",
       "      <td>2.78</td>\n",
       "      <td>0.00</td>\n",
       "    </tr>\n",
       "  </tbody>\n",
       "</table>\n",
       "</div>"
      ],
      "text/plain": [
       "       Unnamed: 0  aceite_Mbd  agua_Mbd  condensado_Mbd  gas_asociado_MMpcd  gas_no_asociado_MMpcd\n",
       "count   20,353.00   20,353.00 20,353.00       20,353.00           20,353.00              20,353.00\n",
       "mean   491,953.86        0.04      0.01            0.00                0.12                   0.00\n",
       "std    392,346.96        0.07      0.02            0.00                0.17                   0.00\n",
       "min      2,001.00        0.00      0.00            0.00                0.00                   0.00\n",
       "25%    104,716.00        0.01      0.00            0.00                0.03                   0.00\n",
       "50%    456,328.00        0.02      0.00            0.00                0.07                   0.00\n",
       "75%    889,237.00        0.04      0.01            0.00                0.15                   0.00\n",
       "max    998,143.00        1.49      0.81            0.00                2.78                   0.00"
      ]
     },
     "metadata": {},
     "output_type": "display_data"
    },
    {
     "data": {
      "text/plain": [
       "0.10387245600000483"
      ]
     },
     "execution_count": 15,
     "metadata": {},
     "output_type": "execute_result"
    }
   ],
   "source": [
    "import timeit\n",
    "tic=timeit.default_timer()\n",
    "\n",
    "display(campo.aceite_Mbd.quantile([.1,.5,.9]))\n",
    "display(campo.describe())\n",
    "\n",
    "toc=timeit.default_timer()\n",
    "toc - tic #elapsed time in seconds"
   ]
  },
  {
   "cell_type": "code",
   "execution_count": 17,
   "metadata": {},
   "outputs": [
    {
     "data": {
      "image/png": "[encoded data removed]",
      "text/plain": [
       "<Figure size 1152x576 with 1 Axes>"
      ]
     },
     "metadata": {
      "needs_background": "light"
     },
     "output_type": "display_data"
    },
    {
     "data": {
      "text/plain": [
       "477.629295955"
      ]
     },
     "execution_count": 17,
     "metadata": {},
     "output_type": "execute_result"
    }
   ],
   "source": [
    "import timeit\n",
    "tic=timeit.default_timer()\n",
    "\n",
    "fig, ax = plt.subplots(figsize=(16,8))\n",
    "ax.bar(campo.fecha,campo.aceite_Mbd)\n",
    "ax.set_xlabel('Fecha')\n",
    "ax.set_ylabel('Gasto de aceite Mbd')\n",
    "plt.show()\n",
    "\n",
    "toc=timeit.default_timer()\n",
    "toc - tic #elapsed time in seconds"
   ]
  },
  {
   "cell_type": "code",
   "execution_count": 18,
   "metadata": {},
   "outputs": [
    {
     "data": {
      "image/png": "[encoded data removed]",
      "text/plain": [
       "<Figure size 1152x576 with 1 Axes>"
      ]
     },
     "metadata": {
      "needs_background": "light"
     },
     "output_type": "display_data"
    },
    {
     "data": {
      "text/plain": [
       "0.3502734030000738"
      ]
     },
     "execution_count": 18,
     "metadata": {},
     "output_type": "execute_result"
    }
   ],
   "source": [
    "import timeit\n",
    "tic=timeit.default_timer()\n",
    "\n",
    "fig, ax = plt.subplots(figsize=(16,8))\n",
    "ax.scatter(campo.gas_asociado_MMpcd,campo.aceite_Mbd)\n",
    "ax.set_xlabel('Gas asociado MMpcd')\n",
    "ax.set_ylabel('Gasto de aceite Mbd')\n",
    "plt.show()\n",
    "\n",
    "\n",
    "toc=timeit.default_timer()\n",
    "toc - tic #elapsed time in seconds"
   ]
  },
  {
   "cell_type": "code",
   "execution_count": 19,
   "metadata": {},
   "outputs": [
    {
     "data": {
      "text/plain": [
       "0.0859309980000944"
      ]
     },
     "execution_count": 19,
     "metadata": {},
     "output_type": "execute_result"
    },
    {
     "data": {
      "image/png": "[encoded data removed]",
      "text/plain": [
       "<Figure size 1152x576 with 1 Axes>"
      ]
     },
     "metadata": {
      "needs_background": "light"
     },
     "output_type": "display_data"
    }
   ],
   "source": [
    "import timeit\n",
    "tic=timeit.default_timer()\n",
    "\n",
    "fig, ax = plt.subplots(figsize=(16,8))\n",
    "ax.hist(campo.aceite_Mbd,\n",
    "        bins=40,\n",
    "        cumulative=False,\n",
    "        density=False)\n",
    "ax.set_xlabel('Gasto de aceite Mbd')\n",
    "ax.set_ylabel('Frecuencia')\n",
    "\n",
    "toc=timeit.default_timer()\n",
    "toc - tic #elapsed time in seconds"
   ]
  },
  {
   "cell_type": "markdown",
   "metadata": {},
   "source": [
    "## Q inicial"
   ]
  },
  {
   "cell_type": "code",
   "execution_count": 20,
   "metadata": {},
   "outputs": [],
   "source": [
    "def get_max_initial_production(df, variable_column, well_column, date_column):\n",
    "    global df_beginning_production\n",
    "    global field\n",
    "    \"\"\"\n",
    "    This function allows you to look at the first X months of production, and selects \n",
    "    the highest production month as max initial production\n",
    "    Arguments:\n",
    "        df: Pandas dataframe. \n",
    "        number_first_months: float. Number of months from the point the well comes online\n",
    "        to compare to get the max initial production rate qi (this looks at multiple months\n",
    "        in case there is a production ramp-up)\n",
    "        variable_column: String. Column name for the column where we're attempting to get\n",
    "        the max volume from (can be either 'Gas' or 'Oil' in this script)\n",
    "        date_column: String. Column name for the date that the data was taken at \n",
    "    \"\"\"\n",
    "    #First, sort the data frame from earliest to most recent prod date\n",
    "    field=campo.sort_values(by=[date_column,well_column])\n",
    "    num_months=int((len(field))*.20)\n",
    "    #Pull out the first x months of production, where number_first_months is x\n",
    "    df_beginning_production=field.head(num_months)\n",
    "    #Return the max value in the selected variable column from the newly created \n",
    "    #df_beginning_production df\n",
    "    return df_beginning_production[variable_column].max(), num_months, field.shape"
   ]
  },
  {
   "cell_type": "code",
   "execution_count": null,
   "metadata": {},
   "outputs": [],
   "source": [
    "get_max_initial_production(campo,'aceite_Mbd','pozo','fecha')"
   ]
  },
  {
   "cell_type": "code",
   "execution_count": null,
   "metadata": {},
   "outputs": [],
   "source": [
    "df_beginning_production.shape"
   ]
  },
  {
   "cell_type": "code",
   "execution_count": null,
   "metadata": {},
   "outputs": [],
   "source": [
    "for unique_well_list in field:\n",
    "    display(get_max_initial_production)"
   ]
  },
  {
   "cell_type": "markdown",
   "metadata": {},
   "source": [
    "# Definir funcion para carga"
   ]
  },
  {
   "cell_type": "code",
   "execution_count": 196,
   "metadata": {},
   "outputs": [],
   "source": [
    "def estadistica_campo():\n",
    "    \n",
    "    input_campo = input(\"Nombre de Campo: \")\n",
    "    \n",
    "    selected_rows=mx_stats.pozo.str.contains(str(input_campo))\n",
    "    campo=mx_stats.loc[selected_rows]\n",
    "\n",
    "    display(campo.head(),campo.shape)\n",
    "    unique_well_list=pd.unique(campo['pozo'])\n",
    "    display(unique_well_list.shape, len(unique_well_list))\n",
    "    display(unique_well_list)\n",
    "\n",
    "    campo.aceite_Mbd.plot.hist(bins=20)\n",
    "    campo.describe()\n",
    "\n",
    "\n",
    "    fig, ax = plt.subplots(figsize=(16,8))\n",
    "    mx_stats\n",
    "    ax.bar(campo.fecha,campo.aceite_Mbd)\n",
    "    ax.set_xlabel('Fecha')\n",
    "    ax.set_ylabel('Gasto de aceite Mbd')\n",
    "    plt.show()\n",
    "\n",
    "    fig, ax = plt.subplots(figsize=(16,8))\n",
    "    ax.scatter(campo.fecha,campo.aceite_Mbd)\n",
    "    ax.set_xlabel('Fecha')\n",
    "    ax.set_ylabel('Gasto de aceite Mbd')\n",
    "    plt.show()\n",
    "\n",
    "    fig, ax = plt.subplots(figsize=(16,8))\n",
    "    ax.hist(campo.aceite_Mbd,\n",
    "            bins=40,\n",
    "            cumulative=False,\n",
    "            density=False)\n",
    "    ax.set_xlabel('Gasto de aceite Mbd')\n",
    "    ax.set_ylabel('Frecuencia')\n",
    "    return campo"
   ]
  },
  {
   "cell_type": "markdown",
   "metadata": {},
   "source": [
    "# DCA"
   ]
  },
  {
   "cell_type": "code",
   "execution_count": null,
   "metadata": {},
   "outputs": [],
   "source": [
    "import timeit\n",
    "tic=timeit.default_timer()\n",
    "\n",
    "def read_in_csv(file_path):\n",
    "    \"\"\"\n",
    "    Read in the specified csv as a pandas dataframe\n",
    "    Arguments: \n",
    "        file_path: String. Path for the csv file that we want to read in\n",
    "    Outputs:\n",
    "        dataframe: Pandas dataframe.\n",
    "    \"\"\"\n",
    "    well_data=pd.read_csv(file_path,parse_dates=True)\n",
    "    return well_data\n",
    "\n",
    "def remove_nan_and_zeroes_from_columns(df, variable):\n",
    "    \"\"\"\n",
    "    This function cleans up a dataframe by removing rows in a specific \n",
    "    column that are null/NaN or equal to 0. This basically removes zero \n",
    "    production time periods.\n",
    "    Arguments:\n",
    "        df: Pandas dataframe.\n",
    "        variable: String. Name of the column where we want to filter out\n",
    "        NaN's or 0 values\n",
    "    Output:\n",
    "        filtered_df: Pandas dataframe. Dataframe with NaN's and zeroes filtered out of \n",
    "        the specified column\n",
    "    \"\"\"\n",
    "    filtered_df = df[(df[variable].notnull()) & (df[variable]>0)]\n",
    "    return filtered_df\n",
    "\n",
    "def generate_time_delta_column(df, time_column, date_first_online_column):\n",
    "    \"\"\"\n",
    "    Create column for the time that a well has been online at each reading, with \n",
    "    the first non-null month in the series listed as the start of production\n",
    "    Arguments:\n",
    "        df: Pandas dataframe\n",
    "        time_column: String. Name of the column that includes the specific record date\n",
    "        that the data was taken at. Column type is pandas datetime\n",
    "        date_first_online_column: Name of the column that includes the date that the\n",
    "        well came online. Column type is pandas datetime\n",
    "    Outputs:\n",
    "        Pandas series containing the difference in days between the date the well\n",
    "        came online and the date that the data was recorded (cumulative days online)\n",
    "    \"\"\"\n",
    "    df['Dias Produciendo']=(df[time_column]-df[date_first_online_column]).dt.days\n",
    "    return (df[time_column]-df[date_first_online_column]).dt.days\n",
    "\n",
    "def get_min_or_max_value_in_column_by_group(dataframe, group_by_column, calc_column, calc_type):\n",
    "    global value\n",
    "    \"\"\"\n",
    "    This function obtains the min or max value for a column, with a group by applied. For example,\n",
    "    it could return the earliest (min) RecordDate for each API number in a dataframe \n",
    "    Arguments:\n",
    "        dataframe: Pandas dataframe \n",
    "        group_by_column: string. Name of column that we want to apply a group by to\n",
    "        calc_column: string. Name of the column that we want to get the aggregated max or min for\n",
    "        calc_type: string; can be either 'min' or 'max'. Defined if we want to pull the min value \n",
    "        or the max value for the aggregated column\n",
    "    Outputs:\n",
    "        value: Depends on the calc_column type.\n",
    "    \"\"\"\n",
    "    value=dataframe.groupby(group_by_column)[calc_column].transform(calc_type)\n",
    "    return value\n",
    "\n",
    "def get_max_initial_production(df, number_first_months, variable_column, date_column):\n",
    "    global df_beginning_production\n",
    "    \"\"\"\n",
    "    This function allows you to look at the first X months of production, and selects \n",
    "    the highest production month as max initial production\n",
    "    Arguments:\n",
    "        df: Pandas dataframe. \n",
    "        number_first_months: float. Number of months from the point the well comes online\n",
    "        to compare to get the max initial production rate qi (this looks at multiple months\n",
    "        in case there is a production ramp-up)\n",
    "        variable_column: String. Column name for the column where we're attempting to get\n",
    "        the max volume from (can be either 'Gas' or 'Oil' in this script)\n",
    "        date_column: String. Column name for the date that the data was taken at \n",
    "    \"\"\"\n",
    "    #First, sort the data frame from earliest to most recent prod date\n",
    "    df=df.sort_values(by=date_column)\n",
    "    #Pull out the first x months of production, where number_first_months is x\n",
    "    df_beginning_production=df.head(number_first_months)\n",
    "    #Return the max value in the selected variable column from the newly created \n",
    "    #df_beginning_production df\n",
    "    return df_beginning_production[variable_column].max()\n",
    "\n",
    "def hyperbolic_equation(t, qi, b, di):\n",
    "    \"\"\"\n",
    "    Hyperbolic decline curve equation\n",
    "    Arguments:\n",
    "        t: Float. Time since the well first came online, can be in various units \n",
    "        (days, months, etc) so long as they are consistent.\n",
    "        qi: Float. Initial production rate when well first came online.\n",
    "        b: Float. Hyperbolic decline constant\n",
    "        di: Float. Nominal decline rate at time t=0\n",
    "    Output: \n",
    "        Returns q, or the expected production rate at time t. Float.\n",
    "    \"\"\"\n",
    "    return qi/((1.0+b*di*t)**(1.0/b))\n",
    "\n",
    "def exponential_equation(t, qi, di):\n",
    "    \"\"\"\n",
    "    Exponential decline curve equation\n",
    "    Arguments:\n",
    "        t: Float. Time since the well first came online, can be in various units \n",
    "        (days, months, etc) so long as they are consistent.\n",
    "        qi: Float. Initial production rate when well first came online.\n",
    "        di: Float. Nominal decline rate (constant)\n",
    "    Output: \n",
    "        Returns q, or the expected production rate at time t. Float.\n",
    "    \"\"\"\n",
    "    return qi*np.exp(-di*t)\n",
    "\n",
    "def harmonic_equation (t, qi, di):\n",
    "    \"\"\"\n",
    "    Harmonic decline curve equation\n",
    "    Arguments:\n",
    "        t: Float. Time since the well first came online, can be in various units \n",
    "        (days, months, etc) so long as they are consistent.\n",
    "        qi: Float. Initial production rate when well first came online.\n",
    "        di: Float. Nominal decline rate (constant)\n",
    "    Output: \n",
    "        Returns q, or the expected production rate at time t. Float.\n",
    "    \"\"\"\n",
    "    return qi/(1+(di*t))\n",
    "\n",
    "def plot_actual_vs_predicted_by_equations(df, x_variable, y_variables, plot_title):\n",
    "    \"\"\"\n",
    "    This function is used to map x- and y-variables against each other\n",
    "    Arguments:\n",
    "        df: Pandas dataframe.\n",
    "        x_variable: String. Name of the column that we want to set as the \n",
    "        x-variable in the plot\n",
    "        y_variables: string (single), or list of strings (multiple). Name(s) \n",
    "        of the column(s) that we want to set as the y-variable in the plot\n",
    "    \"\"\"\n",
    "    #Plot results\n",
    "    df.plot(x=x_variable, y=y_variables, title=plot_title,figsize=(10,5))\n",
    "    plt.show()\n",
    "\n",
    "def main(file_path):\n",
    "    global well_data\n",
    "    global production_time_series\n",
    "    global results\n",
    "    results=pd.DataFrame()\n",
    "    #Read in the monthly oil and gas data\n",
    "    #file_path=r'/Users/fffte/Documents/GitHub/Ainda/Proyecto Newton/02_productividad/kumaza_produccion.csv'\n",
    "    well_data=read_in_csv(file_path)\n",
    "    #Perform some data cleaning to get the columns as the right data type\n",
    "    well_data['fecha']=pd.to_datetime(well_data['fecha'])\n",
    "    #Declare the desired product that we want to curve fit for--it can either by 'Gas' or 'Oil'\n",
    "    hydrocarbon='gasto_aceite_Mbd'\n",
    "    #Remove all rows with null values in the desired time series column\n",
    "    well_data=remove_nan_and_zeroes_from_columns(well_data, hydrocarbon)\n",
    "    #Get a list of unique wells to loop through\n",
    "    unique_well_list=pd.unique(list(well_data.pozo))\n",
    "    #Get the earliest RecordDate for each Well\n",
    "    well_data['inicio_produccion_aceite']= get_min_or_max_value_in_column_by_group(well_data, group_by_column='pozo', \n",
    "                  calc_column='fecha', calc_type='min')\n",
    "    #Generate column for time online delta\n",
    "    well_data['days_online']=generate_time_delta_column(well_data, time_column='fecha', \n",
    "                  date_first_online_column='inicio_produccion_aceite')\n",
    "    #Pull data that came online between an specified range\n",
    "    well_data_range=well_data[(well_data.fecha>='2016-01-01') & (well_data.fecha<='2019-12-01')]\n",
    "    #Loop through each well, and perform calculations\n",
    "    for pozo in unique_well_list:\n",
    "        #Subset the dataframe by Well\n",
    "        production_time_series=well_data_range[well_data_range.pozo==pozo]\n",
    "        #Get the highest value of production in the first X months of production, to use as qi value\n",
    "        qi=get_max_initial_production(production_time_series, 6, hydrocarbon, 'fecha')\n",
    "        #Exponential curve fit the data to get best fit equation\n",
    "        popt_exp, pcov_exp=curve_fit(exponential_equation, production_time_series['days_online'], \n",
    "                                     production_time_series[hydrocarbon],bounds=(0, [qi,10]))\n",
    "        #print('Exponential Fit Curve-fitted Variables: qi='+str(popt_exp[0])+', di='+str(popt_exp[1]))\n",
    "        #Hyperbolic curve fit the data to get best fit equation\n",
    "        popt_hyp, pcov_hyp=curve_fit(hyperbolic_equation, production_time_series['days_online'], \n",
    "                                     production_time_series[hydrocarbon],bounds=(0, [qi,2,10]))\n",
    "        #print('Hyperbolic Fit Curve-fitted Variables: qi='+str(popt_hyp[0])+', b='+str(popt_hyp[1])+', di='+str(popt_hyp[2]))\n",
    "        #Harmonic curve fit the data to get best fit equation\n",
    "        popt_harm, pcov_harm=curve_fit(harmonic_equation, production_time_series['days_online'], \n",
    "                                     production_time_series[hydrocarbon],bounds=(0, [qi,10]))\n",
    "        #print('Harmonic Fit Curve-fitted Variables: qi='+str(popt_harm[0])+', b='+str(popt_harm[0])+', di='+str(popt_harm[1]))\n",
    "        #Exponential fit results\n",
    "        production_time_series.loc[:,'Exponential_Predicted']=exponential_equation(production_time_series['days_online'], \n",
    "                                  *popt_exp)\n",
    "        #Hyperbolic fit results\n",
    "        production_time_series.loc[:,'Hyperbolic_Predicted']=hyperbolic_equation(production_time_series['days_online'], \n",
    "                                  *popt_hyp)\n",
    "        #Harmonic fit results\n",
    "        production_time_series.loc[:,'Harmonic_Predicted']=harmonic_equation(production_time_series['days_online'], \n",
    "                                  *popt_harm)\n",
    "        \n",
    "        results=results.append(production_time_series)\n",
    "        #Declare the x- and y- variables that we want to plot against each other\n",
    "        y_variables=[hydrocarbon, \"Hyperbolic_Predicted\", \"Exponential_Predicted\",\"Harmonic_Predicted\"]\n",
    "        x_variable='days_online'\n",
    "        #Create the plot title\n",
    "        plot_title=hydrocarbon+' for '+str(pozo)\n",
    "        #Plot the data to visualize the equation fit\n",
    "        #plot_actual_vs_predicted_by_equations(production_time_series, x_variable, y_variables, plot_title)\n",
    "                \n",
    "if __name__== \"__main__\":\n",
    "    main(r'C:\\Users\\elias\\Google Drive\\python\\csv\\benchmark\\kumaza_produccion.csv')\n",
    "\n",
    "toc=timeit.default_timer()\n",
    "toc - tic #elapsed time in seconds"
   ]
  },
  {
   "cell_type": "code",
   "execution_count": null,
   "metadata": {},
   "outputs": [],
   "source": []
  }
 ],
 "metadata": {
  "kernelspec": {
   "display_name": "Python 3",
   "language": "python",
   "name": "python3"
  },
  "language_info": {
   "codemirror_mode": {
    "name": "ipython",
    "version": 3
   },
   "file_extension": ".py",
   "mimetype": "text/x-python",
   "name": "python",
   "nbconvert_exporter": "python",
   "pygments_lexer": "ipython3",
   "version": "3.7.4"
  }
 },
 "nbformat": 4,
 "nbformat_minor": 2
}
