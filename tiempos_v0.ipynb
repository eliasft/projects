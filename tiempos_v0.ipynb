{
 "cells": [
  {
   "cell_type": "markdown",
   "metadata": {},
   "source": [
    "# Analisis de tiempos de perforación"
   ]
  },
  {
   "cell_type": "code",
   "execution_count": 1,
   "metadata": {},
   "outputs": [],
   "source": [
    "import pandas as pd\n",
    "import numpy as np\n",
    "import matplotlib.pyplot as plt\n",
    "import datetime\n",
    "import dateparser \n",
    "import glob"
   ]
  },
  {
   "cell_type": "code",
   "execution_count": 2,
   "metadata": {},
   "outputs": [],
   "source": [
    "bd=pd.read_csv(\"/Users/fffte/ainda_drive/python/csv/benchmark/mexico/mx_tiempos.csv\",\n",
    "              index_col=0,parse_dates=True)"
   ]
  },
  {
   "cell_type": "code",
   "execution_count": 3,
   "metadata": {},
   "outputs": [],
   "source": [
    "bd.fecha_inicio_perforacion=bd.fecha_inicio_perforacion.astype(\"datetime64[ns]\")\n",
    "bd.fecha_fin_perforacion=bd.fecha_fin_perforacion.astype(\"datetime64[ns]\")"
   ]
  },
  {
   "cell_type": "code",
   "execution_count": 4,
   "metadata": {},
   "outputs": [],
   "source": [
    "bd[\"dias_perforacion\"]=(bd.fecha_fin_perforacion-bd.fecha_inicio_perforacion).dt.days"
   ]
  },
  {
   "cell_type": "code",
   "execution_count": 5,
   "metadata": {},
   "outputs": [
    {
     "data": {
      "text/html": [
       "<div>\n",
       "<style scoped>\n",
       "    .dataframe tbody tr th:only-of-type {\n",
       "        vertical-align: middle;\n",
       "    }\n",
       "\n",
       "    .dataframe tbody tr th {\n",
       "        vertical-align: top;\n",
       "    }\n",
       "\n",
       "    .dataframe thead th {\n",
       "        text-align: right;\n",
       "    }\n",
       "</style>\n",
       "<table border=\"1\" class=\"dataframe\">\n",
       "  <thead>\n",
       "    <tr style=\"text-align: right;\">\n",
       "      <th></th>\n",
       "      <th>gid</th>\n",
       "      <th>pozo</th>\n",
       "      <th>campo</th>\n",
       "      <th>entidad</th>\n",
       "      <th>ubicacion</th>\n",
       "      <th>objetivo_inicial</th>\n",
       "      <th>ultimo_estado_reportado</th>\n",
       "      <th>tipo_de_hidrocarburo</th>\n",
       "      <th>fecha_inicio_perforacion</th>\n",
       "      <th>fecha_fin_perforacion</th>\n",
       "      <th>profundidad_total</th>\n",
       "      <th>profundidad_vertical</th>\n",
       "      <th>trayectoria</th>\n",
       "      <th>disponible</th>\n",
       "      <th>tiempo_perforacion</th>\n",
       "      <th>dias_perforacion</th>\n",
       "    </tr>\n",
       "  </thead>\n",
       "  <tbody>\n",
       "    <tr>\n",
       "      <td>0</td>\n",
       "      <td>245443</td>\n",
       "      <td>LOS SOLDADOS-488</td>\n",
       "      <td>LOS SOLDADOS</td>\n",
       "      <td>VERACRUZ DE IGNACIO DE LA LLAVE</td>\n",
       "      <td>TERRESTRE</td>\n",
       "      <td>DESARROLLO</td>\n",
       "      <td>INACTIVO</td>\n",
       "      <td>ACEITE</td>\n",
       "      <td>2012-08-04</td>\n",
       "      <td>2012-09-14</td>\n",
       "      <td>2867.00</td>\n",
       "      <td>NaN</td>\n",
       "      <td>DIRECCIONAL</td>\n",
       "      <td>Disponible</td>\n",
       "      <td>1.0</td>\n",
       "      <td>41</td>\n",
       "    </tr>\n",
       "    <tr>\n",
       "      <td>1</td>\n",
       "      <td>337922</td>\n",
       "      <td>OCUAPAN-1</td>\n",
       "      <td>OCUAPAN</td>\n",
       "      <td>TABASCO</td>\n",
       "      <td>TERRESTRE</td>\n",
       "      <td>EXPLORATORIO</td>\n",
       "      <td>INACTIVO</td>\n",
       "      <td>NaN</td>\n",
       "      <td>1961-07-25</td>\n",
       "      <td>1962-03-04</td>\n",
       "      <td>3000.00</td>\n",
       "      <td>3000.0</td>\n",
       "      <td>VERTICAL</td>\n",
       "      <td>Disponible</td>\n",
       "      <td>7.0</td>\n",
       "      <td>222</td>\n",
       "    </tr>\n",
       "    <tr>\n",
       "      <td>2</td>\n",
       "      <td>224621</td>\n",
       "      <td>OGARRIO-837</td>\n",
       "      <td>OGARRIO</td>\n",
       "      <td>TABASCO</td>\n",
       "      <td>TERRESTRE</td>\n",
       "      <td>DESARROLLO</td>\n",
       "      <td>INACTIVO</td>\n",
       "      <td>ACEITE</td>\n",
       "      <td>1978-02-25</td>\n",
       "      <td>1978-03-12</td>\n",
       "      <td>1773.00</td>\n",
       "      <td>NaN</td>\n",
       "      <td>VERTICAL</td>\n",
       "      <td>Disponible</td>\n",
       "      <td>0.0</td>\n",
       "      <td>15</td>\n",
       "    </tr>\n",
       "    <tr>\n",
       "      <td>3</td>\n",
       "      <td>353419</td>\n",
       "      <td>MECOACAN-32T</td>\n",
       "      <td>MECOACAN</td>\n",
       "      <td>TABASCO</td>\n",
       "      <td>TERRESTRE</td>\n",
       "      <td>DESARROLLO</td>\n",
       "      <td>INACTIVO</td>\n",
       "      <td>GAS</td>\n",
       "      <td>1961-04-03</td>\n",
       "      <td>1961-04-07</td>\n",
       "      <td>1510.00</td>\n",
       "      <td>NaN</td>\n",
       "      <td>VERTICAL</td>\n",
       "      <td>Disponible</td>\n",
       "      <td>0.0</td>\n",
       "      <td>4</td>\n",
       "    </tr>\n",
       "    <tr>\n",
       "      <td>4</td>\n",
       "      <td>362832</td>\n",
       "      <td>SAMARIA-112</td>\n",
       "      <td>SAMARIA</td>\n",
       "      <td>TABASCO</td>\n",
       "      <td>TERRESTRE</td>\n",
       "      <td>DESARROLLO</td>\n",
       "      <td>INACTIVO</td>\n",
       "      <td>ACEITE</td>\n",
       "      <td>1975-02-12</td>\n",
       "      <td>1975-09-29</td>\n",
       "      <td>4980.13</td>\n",
       "      <td>NaN</td>\n",
       "      <td>VERTICAL</td>\n",
       "      <td>Disponible</td>\n",
       "      <td>7.0</td>\n",
       "      <td>229</td>\n",
       "    </tr>\n",
       "  </tbody>\n",
       "</table>\n",
       "</div>"
      ],
      "text/plain": [
       "      gid              pozo         campo                          entidad  \\\n",
       "0  245443  LOS SOLDADOS-488  LOS SOLDADOS  VERACRUZ DE IGNACIO DE LA LLAVE   \n",
       "1  337922         OCUAPAN-1       OCUAPAN                          TABASCO   \n",
       "2  224621       OGARRIO-837       OGARRIO                          TABASCO   \n",
       "3  353419      MECOACAN-32T      MECOACAN                          TABASCO   \n",
       "4  362832       SAMARIA-112       SAMARIA                          TABASCO   \n",
       "\n",
       "   ubicacion objetivo_inicial ultimo_estado_reportado tipo_de_hidrocarburo  \\\n",
       "0  TERRESTRE       DESARROLLO                INACTIVO               ACEITE   \n",
       "1  TERRESTRE     EXPLORATORIO                INACTIVO                  NaN   \n",
       "2  TERRESTRE       DESARROLLO                INACTIVO               ACEITE   \n",
       "3  TERRESTRE       DESARROLLO                INACTIVO                  GAS   \n",
       "4  TERRESTRE       DESARROLLO                INACTIVO               ACEITE   \n",
       "\n",
       "  fecha_inicio_perforacion fecha_fin_perforacion  profundidad_total  \\\n",
       "0               2012-08-04            2012-09-14            2867.00   \n",
       "1               1961-07-25            1962-03-04            3000.00   \n",
       "2               1978-02-25            1978-03-12            1773.00   \n",
       "3               1961-04-03            1961-04-07            1510.00   \n",
       "4               1975-02-12            1975-09-29            4980.13   \n",
       "\n",
       "   profundidad_vertical  trayectoria  disponible  tiempo_perforacion  \\\n",
       "0                   NaN  DIRECCIONAL  Disponible                 1.0   \n",
       "1                3000.0     VERTICAL  Disponible                 7.0   \n",
       "2                   NaN     VERTICAL  Disponible                 0.0   \n",
       "3                   NaN     VERTICAL  Disponible                 0.0   \n",
       "4                   NaN     VERTICAL  Disponible                 7.0   \n",
       "\n",
       "   dias_perforacion  \n",
       "0                41  \n",
       "1               222  \n",
       "2                15  \n",
       "3                 4  \n",
       "4               229  "
      ]
     },
     "metadata": {},
     "output_type": "display_data"
    }
   ],
   "source": [
    "display(bd.head())"
   ]
  },
  {
   "cell_type": "markdown",
   "metadata": {},
   "source": [
    "# Chicontepec"
   ]
  },
  {
   "cell_type": "code",
   "execution_count": 6,
   "metadata": {
    "scrolled": false
   },
   "outputs": [
    {
     "data": {
      "text/plain": [
       "count    137.000000\n",
       "mean      27.817518\n",
       "std       17.148666\n",
       "min        0.000000\n",
       "25%       19.000000\n",
       "50%       26.000000\n",
       "75%       32.000000\n",
       "max      107.000000\n",
       "Name: dias_perforacion, dtype: float64"
      ]
     },
     "metadata": {},
     "output_type": "display_data"
    },
    {
     "data": {
      "text/plain": [
       "count     418.000000\n",
       "mean       42.944976\n",
       "std       344.949709\n",
       "min         8.000000\n",
       "25%        17.000000\n",
       "50%        22.000000\n",
       "75%        27.000000\n",
       "max      7059.000000\n",
       "Name: dias_perforacion, dtype: float64"
      ]
     },
     "metadata": {},
     "output_type": "display_data"
    },
    {
     "data": {
      "text/plain": [
       "count    150.000000\n",
       "mean      21.346667\n",
       "std       18.145936\n",
       "min        0.000000\n",
       "25%       12.000000\n",
       "50%       16.000000\n",
       "75%       24.500000\n",
       "max      140.000000\n",
       "Name: dias_perforacion, dtype: float64"
      ]
     },
     "metadata": {},
     "output_type": "display_data"
    },
    {
     "data": {
      "text/plain": [
       "count    375.000000\n",
       "mean      26.832000\n",
       "std       56.057038\n",
       "min        7.000000\n",
       "25%       13.500000\n",
       "50%       16.000000\n",
       "75%       20.000000\n",
       "max      565.000000\n",
       "Name: dias_perforacion, dtype: float64"
      ]
     },
     "metadata": {},
     "output_type": "display_data"
    },
    {
     "data": {
      "text/plain": [
       "(array([ 18.,  47.,  76., 101.,  37.,  30.,  14.,   3.,   8.,   3.]),\n",
       " array([ 7. ,  9.6, 12.2, 14.8, 17.4, 20. , 22.6, 25.2, 27.8, 30.4, 33. ]),\n",
       " <a list of 10 Patch objects>)"
      ]
     },
     "execution_count": 6,
     "metadata": {},
     "output_type": "execute_result"
    },
    {
     "data": {
      "image/png": "[encoded data removed]",
      "text/plain": [
       "<Figure size 432x288 with 1 Axes>"
      ]
     },
     "metadata": {
      "needs_background": "light"
     },
     "output_type": "display_data"
    }
   ],
   "source": [
    "seleccion1=bd.campo.str.contains('MIQUETLA')\n",
    "seleccion1=seleccion1.fillna(value=False)\n",
    "seleccion2=bd.campo.str.contains('SOLEDAD')\n",
    "seleccion2=seleccion2.fillna(value=False)\n",
    "tiempos_campo1=bd[seleccion1]\n",
    "tiempos_campo2=bd[seleccion2]\n",
    "seleccion3=bd.campo.str.contains('HUMAPA')\n",
    "seleccion3=seleccion3.fillna(value=False)\n",
    "seleccion4=bd.campo.str.contains('FURBERO')\n",
    "seleccion4=seleccion4.fillna(value=False)\n",
    "tiempos_campo3=bd[seleccion3]\n",
    "tiempos_campo4=bd[seleccion4]\n",
    "\n",
    "display(tiempos_campo1.dias_perforacion.describe(),\n",
    "        tiempos_campo2.dias_perforacion.describe(),\n",
    "        tiempos_campo3.dias_perforacion.describe(),\n",
    "        tiempos_campo4.dias_perforacion.describe())\n",
    "\n",
    "dias1=tiempos_campo1[tiempos_campo1.dias_perforacion < tiempos_campo1.dias_perforacion.quantile(0.90)]\n",
    "dias2=tiempos_campo2[tiempos_campo2.dias_perforacion < tiempos_campo2.dias_perforacion.quantile(0.90)]\n",
    "dias3=tiempos_campo3[tiempos_campo3.dias_perforacion < tiempos_campo3.dias_perforacion.quantile(0.90)]\n",
    "dias4=tiempos_campo4[tiempos_campo4.dias_perforacion < tiempos_campo4.dias_perforacion.quantile(0.90)]\n",
    "\n",
    "plt.hist(dias1.dias_perforacion,bins=10,alpha=0.5)\n",
    "plt.hist(dias2.dias_perforacion,bins=10,alpha=0.5)\n",
    "plt.hist(dias3.dias_perforacion,bins=10,alpha=0.5)\n",
    "plt.hist(dias4.dias_perforacion,bins=10,alpha=0.5)"
   ]
  },
  {
   "cell_type": "code",
   "execution_count": 7,
   "metadata": {},
   "outputs": [
    {
     "data": {
      "text/plain": [
       "<matplotlib.collections.PathCollection at 0x11bc65c50>"
      ]
     },
     "execution_count": 7,
     "metadata": {},
     "output_type": "execute_result"
    },
    {
     "data": {
      "image/png": "[encoded data removed]",
      "text/plain": [
       "<Figure size 432x288 with 1 Axes>"
      ]
     },
     "metadata": {
      "needs_background": "light"
     },
     "output_type": "display_data"
    }
   ],
   "source": [
    "plt.scatter(dias1.dias_perforacion,dias1.profundidad_total,alpha=0.5,label=True)\n",
    "plt.scatter(dias2.dias_perforacion,dias2.profundidad_total,alpha=0.5,label=True)\n",
    "plt.scatter(dias3.dias_perforacion,dias3.profundidad_total,alpha=0.5,label=True)\n",
    "plt.scatter(dias4.dias_perforacion,dias4.profundidad_total,alpha=0.5)"
   ]
  },
  {
   "cell_type": "markdown",
   "metadata": {},
   "source": [
    "# Aguas Someras"
   ]
  },
  {
   "cell_type": "code",
   "execution_count": 232,
   "metadata": {},
   "outputs": [
    {
     "data": {
      "text/plain": [
       "(array([ 1.,  1.,  6., 10., 16., 23.,  7.,  7.,  4.,  7.]),\n",
       " array([  8. ,  27.9,  47.8,  67.7,  87.6, 107.5, 127.4, 147.3, 167.2,\n",
       "        187.1, 207. ]),\n",
       " <a list of 10 Patch objects>)"
      ]
     },
     "execution_count": 232,
     "metadata": {},
     "output_type": "execute_result"
    },
    {
     "data": {
      "image/png": "[encoded data removed]",
      "text/plain": [
       "<Figure size 432x288 with 1 Axes>"
      ]
     },
     "metadata": {
      "needs_background": "light"
     },
     "output_type": "display_data"
    }
   ],
   "source": [
    "seleccion1=bd.campo.str.contains('SIHIL')\n",
    "seleccion1=seleccion1.fillna(value=False)\n",
    "seleccion2=bd.campo.str.contains('ARENQUE')\n",
    "seleccion2=seleccion2.fillna(value=False)\n",
    "tiempos_campo1=bd[seleccion1]\n",
    "tiempos_campo2=bd[seleccion2]\n",
    "seleccion3=bd.campo.str.contains('ZAAP')\n",
    "seleccion3=seleccion3.fillna(value=False)\n",
    "seleccion4=bd.campo.str.contains('MALOOB')\n",
    "seleccion4=seleccion4.fillna(value=False)\n",
    "tiempos_campo3=bd[seleccion3]\n",
    "tiempos_campo4=bd[seleccion4]\n",
    "\n",
    "\n",
    "dias1=tiempos_campo1[tiempos_campo1.dias_perforacion < tiempos_campo1.dias_perforacion.quantile(0.90)]\n",
    "dias2=tiempos_campo2[tiempos_campo2.dias_perforacion < tiempos_campo2.dias_perforacion.quantile(0.90)]\n",
    "dias3=tiempos_campo3[tiempos_campo3.dias_perforacion < tiempos_campo3.dias_perforacion.quantile(0.90)]\n",
    "dias4=tiempos_campo4[tiempos_campo4.dias_perforacion < tiempos_campo4.dias_perforacion.quantile(0.90)]\n",
    "\n",
    "plt.hist(dias1.dias_perforacion,bins=10,alpha=0.5)\n",
    "plt.hist(dias2.dias_perforacion,bins=10,alpha=0.5)\n",
    "plt.hist(dias3.dias_perforacion,bins=10,alpha=0.5)\n",
    "plt.hist(dias4.dias_perforacion,bins=10,alpha=0.5)"
   ]
  },
  {
   "cell_type": "code",
   "execution_count": 233,
   "metadata": {},
   "outputs": [
    {
     "data": {
      "text/plain": [
       "<matplotlib.collections.PathCollection at 0x126103490>"
      ]
     },
     "execution_count": 233,
     "metadata": {},
     "output_type": "execute_result"
    },
    {
     "data": {
      "image/png": "[encoded data removed]",
      "text/plain": [
       "<Figure size 432x288 with 1 Axes>"
      ]
     },
     "metadata": {
      "needs_background": "light"
     },
     "output_type": "display_data"
    }
   ],
   "source": [
    "plt.scatter(dias1.dias_perforacion,dias1.profundidad_total,alpha=0.5,label=True)\n",
    "plt.scatter(dias2.dias_perforacion,dias2.profundidad_total,alpha=0.5,label=True)\n",
    "plt.scatter(dias3.dias_perforacion,dias3.profundidad_total,alpha=0.5,label=True)\n",
    "plt.scatter(dias4.dias_perforacion,dias4.profundidad_total,alpha=0.5)"
   ]
  },
  {
   "cell_type": "markdown",
   "metadata": {},
   "source": [
    "# Burgos"
   ]
  },
  {
   "cell_type": "code",
   "execution_count": 387,
   "metadata": {
    "scrolled": true
   },
   "outputs": [
    {
     "data": {
      "text/plain": [
       "(array([ 3., 59., 93., 74., 47., 22.,  8.,  8.,  6.,  3.]),\n",
       " array([ 0.,  7., 14., 21., 28., 35., 42., 49., 56., 63., 70.]),\n",
       " <a list of 10 Patch objects>)"
      ]
     },
     "execution_count": 387,
     "metadata": {},
     "output_type": "execute_result"
    },
    {
     "data": {
      "image/png": "[encoded data removed]",
      "text/plain": [
       "<Figure size 432x288 with 1 Axes>"
      ]
     },
     "metadata": {
      "needs_background": "light"
     },
     "output_type": "display_data"
    }
   ],
   "source": [
    "seleccion1=bd.campo.str.contains('NEJO')\n",
    "seleccion1=seleccion1.fillna(value=False)\n",
    "seleccion2=bd.campo.str.contains('BENAVIDES')\n",
    "seleccion2=seleccion2.fillna(value=False)\n",
    "tiempos_campo1=bd[seleccion1]\n",
    "tiempos_campo2=bd[seleccion2]\n",
    "seleccion3=bd.campo.str.contains('CUITLAHUAC')\n",
    "seleccion3=seleccion3.fillna(value=False)\n",
    "seleccion4=bd.campo.str.contains('ARCABUZ')\n",
    "seleccion4=seleccion4.fillna(value=False)\n",
    "tiempos_campo3=bd[seleccion3]\n",
    "tiempos_campo4=bd[seleccion4]\n",
    "\n",
    "dias1=tiempos_campo1[tiempos_campo1.dias_perforacion < tiempos_campo1.dias_perforacion.quantile(0.90)]\n",
    "dias2=tiempos_campo2[tiempos_campo2.dias_perforacion < tiempos_campo2.dias_perforacion.quantile(0.90)]\n",
    "dias3=tiempos_campo3[tiempos_campo3.dias_perforacion < tiempos_campo3.dias_perforacion.quantile(0.90)]\n",
    "dias4=tiempos_campo4[tiempos_campo4.dias_perforacion < tiempos_campo4.dias_perforacion.quantile(0.90)]\n",
    "\n",
    "plt.hist(dias1.dias_perforacion,bins=10,alpha=0.5)\n",
    "plt.hist(dias2.dias_perforacion,bins=10,alpha=0.5)\n",
    "plt.hist(dias3.dias_perforacion,bins=10,alpha=0.5)\n",
    "plt.hist(dias4.dias_perforacion,bins=10,alpha=0.5)"
   ]
  },
  {
   "cell_type": "code",
   "execution_count": 388,
   "metadata": {},
   "outputs": [
    {
     "data": {
      "text/plain": [
       "<matplotlib.collections.PathCollection at 0x1316d5bd0>"
      ]
     },
     "execution_count": 388,
     "metadata": {},
     "output_type": "execute_result"
    },
    {
     "data": {
      "image/png": "[encoded data removed]",
      "text/plain": [
       "<Figure size 432x288 with 1 Axes>"
      ]
     },
     "metadata": {
      "needs_background": "light"
     },
     "output_type": "display_data"
    }
   ],
   "source": [
    "plt.scatter(dias1.dias_perforacion,dias1.profundidad_total,alpha=0.5,label=True)\n",
    "plt.scatter(dias2.dias_perforacion,dias2.profundidad_total,alpha=0.5,label=True)\n",
    "plt.scatter(dias3.dias_perforacion,dias3.profundidad_total,alpha=0.5,label=True)\n",
    "plt.scatter(dias4.dias_perforacion,dias4.profundidad_total,alpha=0.5)"
   ]
  },
  {
   "cell_type": "markdown",
   "metadata": {},
   "source": [
    "# Tabasco muestra 1"
   ]
  },
  {
   "cell_type": "code",
   "execution_count": 236,
   "metadata": {},
   "outputs": [
    {
     "data": {
      "text/plain": [
       "(array([1., 0., 0., 0., 0., 2., 2., 1., 1., 1.]),\n",
       " array([ 13. ,  58.5, 104. , 149.5, 195. , 240.5, 286. , 331.5, 377. ,\n",
       "        422.5, 468. ]),\n",
       " <a list of 10 Patch objects>)"
      ]
     },
     "execution_count": 236,
     "metadata": {},
     "output_type": "execute_result"
    },
    {
     "data": {
      "image/png": "[encoded data removed]",
      "text/plain": [
       "<Figure size 432x288 with 1 Axes>"
      ]
     },
     "metadata": {
      "needs_background": "light"
     },
     "output_type": "display_data"
    }
   ],
   "source": [
    "seleccion1=bd.campo.str.contains('RODADOR')\n",
    "seleccion1=seleccion1.fillna(value=False)\n",
    "seleccion2=bd.campo.str.contains('ARTESA')\n",
    "seleccion2=seleccion2.fillna(value=False)\n",
    "tiempos_campo1=bd[seleccion1]\n",
    "tiempos_campo2=bd[seleccion2]\n",
    "seleccion3=bd.campo.str.contains('BELLOTA')\n",
    "seleccion3=seleccion3.fillna(value=False)\n",
    "seleccion4=bd.campo.str.contains('BRICOL')\n",
    "seleccion4=seleccion4.fillna(value=False)\n",
    "tiempos_campo3=bd[seleccion3]\n",
    "tiempos_campo4=bd[seleccion4]\n",
    "\n",
    "dias1=tiempos_campo1[tiempos_campo1.dias_perforacion < tiempos_campo1.dias_perforacion.quantile(0.90)]\n",
    "dias2=tiempos_campo2[tiempos_campo2.dias_perforacion < tiempos_campo2.dias_perforacion.quantile(0.90)]\n",
    "dias3=tiempos_campo3[tiempos_campo3.dias_perforacion < tiempos_campo3.dias_perforacion.quantile(0.90)]\n",
    "dias4=tiempos_campo4[tiempos_campo4.dias_perforacion < tiempos_campo4.dias_perforacion.quantile(0.90)]\n",
    "\n",
    "plt.hist(dias1.dias_perforacion,bins=10,alpha=0.5)\n",
    "plt.hist(dias2.dias_perforacion,bins=10,alpha=0.5)\n",
    "plt.hist(dias3.dias_perforacion,bins=10,alpha=0.5)\n",
    "plt.hist(dias4.dias_perforacion,bins=10,alpha=0.5)"
   ]
  },
  {
   "cell_type": "code",
   "execution_count": 237,
   "metadata": {},
   "outputs": [
    {
     "data": {
      "text/plain": [
       "<matplotlib.collections.PathCollection at 0x12631d710>"
      ]
     },
     "execution_count": 237,
     "metadata": {},
     "output_type": "execute_result"
    },
    {
     "data": {
      "image/png": "[encoded data removed]",
      "text/plain": [
       "<Figure size 432x288 with 1 Axes>"
      ]
     },
     "metadata": {
      "needs_background": "light"
     },
     "output_type": "display_data"
    }
   ],
   "source": [
    "plt.scatter(dias1.dias_perforacion,dias1.profundidad_total,alpha=0.5,label=True)\n",
    "plt.scatter(dias2.dias_perforacion,dias2.profundidad_total,alpha=0.5,label=True)\n",
    "plt.scatter(dias3.dias_perforacion,dias3.profundidad_total,alpha=0.5,label=True)\n",
    "plt.scatter(dias4.dias_perforacion,dias4.profundidad_total,alpha=0.5)"
   ]
  },
  {
   "cell_type": "markdown",
   "metadata": {},
   "source": [
    "# Tabasco muestra 2"
   ]
  },
  {
   "cell_type": "markdown",
   "metadata": {},
   "source": [
    "# Aguas profundas"
   ]
  },
  {
   "cell_type": "code",
   "execution_count": 385,
   "metadata": {},
   "outputs": [
    {
     "data": {
      "text/plain": [
       "(array([ 6.,  4., 15., 12.,  8., 15.,  7.,  3.,  0.,  1.]),\n",
       " array([ 18. ,  37.6,  57.2,  76.8,  96.4, 116. , 135.6, 155.2, 174.8,\n",
       "        194.4, 214. ]),\n",
       " <a list of 10 Patch objects>)"
      ]
     },
     "execution_count": 385,
     "metadata": {},
     "output_type": "execute_result"
    },
    {
     "data": {
      "image/png": "[encoded data removed]",
      "text/plain": [
       "<Figure size 432x288 with 1 Axes>"
      ]
     },
     "metadata": {
      "needs_background": "light"
     },
     "output_type": "display_data"
    }
   ],
   "source": [
    "seleccion1=bd.ubicacion.str.contains('PROFUNDAS')\n",
    "seleccion1=seleccion1.fillna(value=False)\n",
    "seleccion2=bd.ubicacion.str.contains('PROFUNDAS')\n",
    "seleccion2=seleccion2.fillna(value=False)\n",
    "\n",
    "tiempos_campo1=bd[seleccion1]\n",
    "tiempos_campo2=bd[seleccion2]\n",
    "\n",
    "dias1=tiempos_campo1[tiempos_campo1.dias_perforacion < tiempos_campo1.dias_perforacion.quantile(0.90)]\n",
    "dias2=tiempos_campo2[tiempos_campo2.dias_perforacion < tiempos_campo2.dias_perforacion.quantile(0.90)]\n",
    "\n",
    "plt.hist(dias1.dias_perforacion,bins=10,alpha=0.5)\n",
    "plt.hist(dias2.dias_perforacion,bins=10,alpha=0.5)"
   ]
  },
  {
   "cell_type": "code",
   "execution_count": 386,
   "metadata": {},
   "outputs": [
    {
     "data": {
      "text/plain": [
       "<matplotlib.collections.PathCollection at 0x1317c2050>"
      ]
     },
     "execution_count": 386,
     "metadata": {},
     "output_type": "execute_result"
    },
    {
     "data": {
      "image/png": "[encoded data removed]",
      "text/plain": [
       "<Figure size 432x288 with 1 Axes>"
      ]
     },
     "metadata": {
      "needs_background": "light"
     },
     "output_type": "display_data"
    }
   ],
   "source": [
    "plt.scatter(dias1.dias_perforacion,dias1.profundidad_total,alpha=0.5,label=True)\n",
    "plt.scatter(dias2.dias_perforacion,dias2.profundidad_total,alpha=0.5,label=True)"
   ]
  },
  {
   "cell_type": "code",
   "execution_count": 317,
   "metadata": {},
   "outputs": [
    {
     "data": {
      "text/plain": [
       "Index(['gid', 'pozo', 'campo', 'entidad', 'ubicacion', 'objetivo_inicial',\n",
       "       'ultimo_estado_reportado', 'tipo_de_hidrocarburo',\n",
       "       'fecha_inicio_perforacion', 'fecha_fin_perforacion',\n",
       "       'profundidad_total', 'profundidad_vertical', 'trayectoria',\n",
       "       'disponible', 'tiempo_perforacion', 'dias_perforacion'],\n",
       "      dtype='object')"
      ]
     },
     "metadata": {},
     "output_type": "display_data"
    }
   ],
   "source": [
    "display(bd.columns)"
   ]
  },
  {
   "cell_type": "markdown",
   "metadata": {},
   "source": [
    "# Pozos horizontales"
   ]
  },
  {
   "cell_type": "code",
   "execution_count": 11,
   "metadata": {},
   "outputs": [
    {
     "data": {
      "text/html": [
       "<div>\n",
       "<style scoped>\n",
       "    .dataframe tbody tr th:only-of-type {\n",
       "        vertical-align: middle;\n",
       "    }\n",
       "\n",
       "    .dataframe tbody tr th {\n",
       "        vertical-align: top;\n",
       "    }\n",
       "\n",
       "    .dataframe thead th {\n",
       "        text-align: right;\n",
       "    }\n",
       "</style>\n",
       "<table border=\"1\" class=\"dataframe\">\n",
       "  <thead>\n",
       "    <tr style=\"text-align: right;\">\n",
       "      <th></th>\n",
       "      <th>gid</th>\n",
       "      <th>profundidad_total</th>\n",
       "      <th>profundidad_vertical</th>\n",
       "      <th>tiempo_perforacion</th>\n",
       "      <th>dias_perforacion</th>\n",
       "    </tr>\n",
       "  </thead>\n",
       "  <tbody>\n",
       "    <tr>\n",
       "      <td>count</td>\n",
       "      <td>4.080000e+02</td>\n",
       "      <td>405.00000</td>\n",
       "      <td>119.000000</td>\n",
       "      <td>408.000000</td>\n",
       "      <td>408.000000</td>\n",
       "    </tr>\n",
       "    <tr>\n",
       "      <td>mean</td>\n",
       "      <td>2.907795e+06</td>\n",
       "      <td>1532.83800</td>\n",
       "      <td>1942.129412</td>\n",
       "      <td>0.340686</td>\n",
       "      <td>22.656863</td>\n",
       "    </tr>\n",
       "    <tr>\n",
       "      <td>std</td>\n",
       "      <td>2.062579e+07</td>\n",
       "      <td>1001.90931</td>\n",
       "      <td>902.474250</td>\n",
       "      <td>0.668058</td>\n",
       "      <td>21.845895</td>\n",
       "    </tr>\n",
       "    <tr>\n",
       "      <td>min</td>\n",
       "      <td>1.117720e+05</td>\n",
       "      <td>509.35000</td>\n",
       "      <td>49.000000</td>\n",
       "      <td>0.000000</td>\n",
       "      <td>0.000000</td>\n",
       "    </tr>\n",
       "    <tr>\n",
       "      <td>25%</td>\n",
       "      <td>1.881968e+05</td>\n",
       "      <td>878.00000</td>\n",
       "      <td>1516.500000</td>\n",
       "      <td>0.000000</td>\n",
       "      <td>8.000000</td>\n",
       "    </tr>\n",
       "    <tr>\n",
       "      <td>50%</td>\n",
       "      <td>1.986725e+05</td>\n",
       "      <td>959.00000</td>\n",
       "      <td>2087.200000</td>\n",
       "      <td>0.000000</td>\n",
       "      <td>13.000000</td>\n",
       "    </tr>\n",
       "    <tr>\n",
       "      <td>75%</td>\n",
       "      <td>2.109010e+05</td>\n",
       "      <td>2341.00000</td>\n",
       "      <td>2428.800000</td>\n",
       "      <td>0.000000</td>\n",
       "      <td>29.000000</td>\n",
       "    </tr>\n",
       "    <tr>\n",
       "      <td>max</td>\n",
       "      <td>2.271489e+08</td>\n",
       "      <td>5765.00000</td>\n",
       "      <td>4862.000000</td>\n",
       "      <td>3.000000</td>\n",
       "      <td>97.000000</td>\n",
       "    </tr>\n",
       "  </tbody>\n",
       "</table>\n",
       "</div>"
      ],
      "text/plain": [
       "                gid  profundidad_total  profundidad_vertical  \\\n",
       "count  4.080000e+02          405.00000            119.000000   \n",
       "mean   2.907795e+06         1532.83800           1942.129412   \n",
       "std    2.062579e+07         1001.90931            902.474250   \n",
       "min    1.117720e+05          509.35000             49.000000   \n",
       "25%    1.881968e+05          878.00000           1516.500000   \n",
       "50%    1.986725e+05          959.00000           2087.200000   \n",
       "75%    2.109010e+05         2341.00000           2428.800000   \n",
       "max    2.271489e+08         5765.00000           4862.000000   \n",
       "\n",
       "       tiempo_perforacion  dias_perforacion  \n",
       "count          408.000000        408.000000  \n",
       "mean             0.340686         22.656863  \n",
       "std              0.668058         21.845895  \n",
       "min              0.000000          0.000000  \n",
       "25%              0.000000          8.000000  \n",
       "50%              0.000000         13.000000  \n",
       "75%              0.000000         29.000000  \n",
       "max              3.000000         97.000000  "
      ]
     },
     "metadata": {},
     "output_type": "display_data"
    },
    {
     "data": {
      "text/html": [
       "<div>\n",
       "<style scoped>\n",
       "    .dataframe tbody tr th:only-of-type {\n",
       "        vertical-align: middle;\n",
       "    }\n",
       "\n",
       "    .dataframe tbody tr th {\n",
       "        vertical-align: top;\n",
       "    }\n",
       "\n",
       "    .dataframe thead th {\n",
       "        text-align: right;\n",
       "    }\n",
       "</style>\n",
       "<table border=\"1\" class=\"dataframe\">\n",
       "  <thead>\n",
       "    <tr style=\"text-align: right;\">\n",
       "      <th></th>\n",
       "      <th>gid</th>\n",
       "      <th>profundidad_total</th>\n",
       "      <th>profundidad_vertical</th>\n",
       "      <th>tiempo_perforacion</th>\n",
       "      <th>dias_perforacion</th>\n",
       "    </tr>\n",
       "  </thead>\n",
       "  <tbody>\n",
       "    <tr>\n",
       "      <td>count</td>\n",
       "      <td>9.000000e+00</td>\n",
       "      <td>9.00000</td>\n",
       "      <td>7.000000</td>\n",
       "      <td>9.000000</td>\n",
       "      <td>9.000000</td>\n",
       "    </tr>\n",
       "    <tr>\n",
       "      <td>mean</td>\n",
       "      <td>1.873996e+07</td>\n",
       "      <td>3383.00000</td>\n",
       "      <td>2867.142857</td>\n",
       "      <td>1.444444</td>\n",
       "      <td>58.555556</td>\n",
       "    </tr>\n",
       "    <tr>\n",
       "      <td>std</td>\n",
       "      <td>5.563352e+07</td>\n",
       "      <td>1148.88435</td>\n",
       "      <td>1457.555405</td>\n",
       "      <td>0.881917</td>\n",
       "      <td>23.276120</td>\n",
       "    </tr>\n",
       "    <tr>\n",
       "      <td>min</td>\n",
       "      <td>1.431920e+05</td>\n",
       "      <td>1015.00000</td>\n",
       "      <td>586.000000</td>\n",
       "      <td>0.000000</td>\n",
       "      <td>30.000000</td>\n",
       "    </tr>\n",
       "    <tr>\n",
       "      <td>25%</td>\n",
       "      <td>1.787080e+05</td>\n",
       "      <td>3147.00000</td>\n",
       "      <td>2090.550000</td>\n",
       "      <td>1.000000</td>\n",
       "      <td>43.000000</td>\n",
       "    </tr>\n",
       "    <tr>\n",
       "      <td>50%</td>\n",
       "      <td>1.829570e+05</td>\n",
       "      <td>3539.00000</td>\n",
       "      <td>2573.300000</td>\n",
       "      <td>1.000000</td>\n",
       "      <td>55.000000</td>\n",
       "    </tr>\n",
       "    <tr>\n",
       "      <td>75%</td>\n",
       "      <td>2.289590e+05</td>\n",
       "      <td>4057.00000</td>\n",
       "      <td>4035.300000</td>\n",
       "      <td>2.000000</td>\n",
       "      <td>69.000000</td>\n",
       "    </tr>\n",
       "    <tr>\n",
       "      <td>max</td>\n",
       "      <td>1.670960e+08</td>\n",
       "      <td>4570.00000</td>\n",
       "      <td>4659.000000</td>\n",
       "      <td>3.000000</td>\n",
       "      <td>94.000000</td>\n",
       "    </tr>\n",
       "  </tbody>\n",
       "</table>\n",
       "</div>"
      ],
      "text/plain": [
       "                gid  profundidad_total  profundidad_vertical  \\\n",
       "count  9.000000e+00            9.00000              7.000000   \n",
       "mean   1.873996e+07         3383.00000           2867.142857   \n",
       "std    5.563352e+07         1148.88435           1457.555405   \n",
       "min    1.431920e+05         1015.00000            586.000000   \n",
       "25%    1.787080e+05         3147.00000           2090.550000   \n",
       "50%    1.829570e+05         3539.00000           2573.300000   \n",
       "75%    2.289590e+05         4057.00000           4035.300000   \n",
       "max    1.670960e+08         4570.00000           4659.000000   \n",
       "\n",
       "       tiempo_perforacion  dias_perforacion  \n",
       "count            9.000000          9.000000  \n",
       "mean             1.444444         58.555556  \n",
       "std              0.881917         23.276120  \n",
       "min              0.000000         30.000000  \n",
       "25%              1.000000         43.000000  \n",
       "50%              1.000000         55.000000  \n",
       "75%              2.000000         69.000000  \n",
       "max              3.000000         94.000000  "
      ]
     },
     "metadata": {},
     "output_type": "display_data"
    },
    {
     "data": {
      "text/plain": [
       "(array([2., 0., 2., 1., 0., 1., 1., 0., 0., 2.]),\n",
       " array([30. , 36.4, 42.8, 49.2, 55.6, 62. , 68.4, 74.8, 81.2, 87.6, 94. ]),\n",
       " <a list of 10 Patch objects>)"
      ]
     },
     "execution_count": 11,
     "metadata": {},
     "output_type": "execute_result"
    },
    {
     "data": {
      "image/png": "[encoded data removed]",
      "text/plain": [
       "<Figure size 432x288 with 1 Axes>"
      ]
     },
     "metadata": {
      "needs_background": "light"
     },
     "output_type": "display_data"
    }
   ],
   "source": [
    "seleccion1=bd.trayectoria.str.contains('HORIZONTAL')\n",
    "seleccion1=seleccion1.fillna(value=False)\n",
    "seleccion2=bd.trayectoria.str.contains('MULTILATERAL')\n",
    "seleccion2=seleccion2.fillna(value=False)\n",
    "seleccion3=bd.trayectoria.str.contains('DIRECCIONAL')\n",
    "seleccion3=seleccion3.fillna(value=False)\n",
    "seleccion4=bd.trayectoria.str.contains('VERTICAL')\n",
    "seleccion4=seleccion4.fillna(value=False)\n",
    "\n",
    "\n",
    "tiempos_campo1=bd[seleccion1]\n",
    "tiempos_campo2=bd[seleccion2]\n",
    "tiempos_campo3=bd[seleccion3]\n",
    "tiempos_campo4=bd[seleccion4]\n",
    "\n",
    "dias1=tiempos_campo1[tiempos_campo1.dias_perforacion < tiempos_campo1.dias_perforacion.quantile(0.90)]\n",
    "dias2=tiempos_campo2[tiempos_campo2.dias_perforacion < tiempos_campo2.dias_perforacion.quantile(0.90)]\n",
    "dias3=tiempos_campo3[tiempos_campo3.dias_perforacion < tiempos_campo3.dias_perforacion.quantile(0.90)]\n",
    "dias4=tiempos_campo4[tiempos_campo4.dias_perforacion < tiempos_campo4.dias_perforacion.quantile(0.90)]\n",
    "\n",
    "display(dias1.describe(),\n",
    "        dias2.describe(),)\n",
    "        #dias3.describe(),\n",
    "        #dias4.describe())\n",
    "\n",
    "plt.hist(dias1.dias_perforacion,bins=10,alpha=0.5)\n",
    "plt.hist(dias2.dias_perforacion,bins=10,alpha=0.5)\n",
    "#plt.hist(dias3.dias_perforacion[dias3.dias_perforacion > 0],bins=10,alpha=0.5)\n",
    "#plt.hist(dias4.dias_perforacion[dias4.dias_perforacion > 0],bins=10,alpha=0.5)"
   ]
  },
  {
   "cell_type": "code",
   "execution_count": 8,
   "metadata": {},
   "outputs": [
    {
     "data": {
      "text/plain": [
       "<matplotlib.collections.PathCollection at 0x11a023610>"
      ]
     },
     "execution_count": 8,
     "metadata": {},
     "output_type": "execute_result"
    },
    {
     "data": {
      "image/png": "[encoded data removed]",
      "text/plain": [
       "<Figure size 432x288 with 1 Axes>"
      ]
     },
     "metadata": {
      "needs_background": "light"
     },
     "output_type": "display_data"
    }
   ],
   "source": [
    "plt.scatter(dias1.dias_perforacion,dias1.profundidad_total,alpha=0.5,label=True)\n",
    "plt.scatter(dias2.dias_perforacion,dias2.profundidad_total,alpha=0.5,label=True)\n",
    "#plt.scatter(dias3.dias_perforacion[dias3.dias_perforacion > 0],dias3.profundidad_total[dias3.dias_perforacion > 0],alpha=0.5,label=True)\n",
    "#plt.scatter(dias4.dias_perforacion[dias4.dias_perforacion > 0],dias4.profundidad_total[dias4.dias_perforacion > 0],alpha=0.5,label=True)"
   ]
  },
  {
   "cell_type": "code",
   "execution_count": 383,
   "metadata": {},
   "outputs": [
    {
     "data": {
      "text/plain": [
       "array(['DIRECCIONAL', 'VERTICAL', 'HORIZONTAL', 'MULTILATERAL', nan,\n",
       "       'DIRECCIONAL S', 'DIRECCIONAL J', 'DESVIADO', 'EN PERFORACION'],\n",
       "      dtype=object)"
      ]
     },
     "metadata": {},
     "output_type": "display_data"
    }
   ],
   "source": [
    "display(pd.unique(bd.trayectoria))"
   ]
  },
  {
   "cell_type": "code",
   "execution_count": null,
   "metadata": {},
   "outputs": [],
   "source": [
    "\n"
   ]
  },
  {
   "cell_type": "code",
   "execution_count": null,
   "metadata": {},
   "outputs": [],
   "source": []
  }
 ],
 "metadata": {
  "kernelspec": {
   "display_name": "Python 3",
   "language": "python",
   "name": "python3"
  },
  "language_info": {
   "codemirror_mode": {
    "name": "ipython",
    "version": 3
   },
   "file_extension": ".py",
   "mimetype": "text/x-python",
   "name": "python",
   "nbconvert_exporter": "python",
   "pygments_lexer": "ipython3",
   "version": "3.7.3"
  }
 },
 "nbformat": 4,
 "nbformat_minor": 2
}
