{
 "cells": [
  {
   "cell_type": "code",
   "execution_count": 1,
   "metadata": {},
   "outputs": [],
   "source": [
    "import pandas as pd\n",
    "import seaborn as sns\n",
    "import numpy as np\n",
    "import matplotlib.pyplot as plt\n",
    "import os"
   ]
  },
  {
   "cell_type": "code",
   "execution_count": 3,
   "metadata": {},
   "outputs": [
    {
     "data": {
      "text/plain": [
       "'/Users/fffte/Documents/GitHub/projects'"
      ]
     },
     "execution_count": 3,
     "metadata": {},
     "output_type": "execute_result"
    }
   ],
   "source": [
    "os.getcwd()"
   ]
  },
  {
   "cell_type": "code",
   "execution_count": 27,
   "metadata": {},
   "outputs": [
    {
     "data": {
      "text/plain": [
       "Index(['Cp', 'Gp', 'Np', 'Qi_exp', 'Qi_exp_condensado', 'Qi_exp_gas',\n",
       "       'Qi_harm', 'Qi_harm_condensado', 'Qi_harm_gas', 'Qi_hist', 'Qi_hyp',\n",
       "       'Qi_hyp_condensado', 'Qi_hyp_gas', 'RGA', 'RSS_condensado_exponencial',\n",
       "       'RSS_condensado_harmonica', 'RSS_condensado_hiperbolica',\n",
       "       'RSS_exponencial', 'RSS_gas_exponencial', 'RSS_gas_harmonica',\n",
       "       'RSS_gas_hiperbolica', 'RSS_harmonica', 'RSS_hiperbolica', 'Wp',\n",
       "       'acum_BOE', 'b', 'b_condensado', 'b_gas', 'corte_agua', 'di_exp',\n",
       "       'di_exp_condensado', 'di_exp_gas', 'di_harm', 'di_harm_condensado',\n",
       "       'di_harm_gas', 'di_hyp', 'di_hyp_condensado', 'di_hyp_gas',\n",
       "       'estado_actual', 'first_oil', 'hidrocarburo_principal', 'mes_max',\n",
       "       'pozo', 'profundidad_total', 'trayectoria', 'ultima_produccion'],\n",
       "      dtype='object')"
      ]
     },
     "metadata": {},
     "output_type": "display_data"
    },
    {
     "data": {
      "text/plain": [
       "(20395, 46)"
      ]
     },
     "metadata": {},
     "output_type": "display_data"
    },
    {
     "data": {
      "text/plain": [
       "\"\\nfor x in lista_cols:\\n           lista_cols=lista_cols.str.normalize('NFKD').str.encode('ascii', errors='ignore').str.decode('utf-8')\\n           lista_cols=lista_cols.str.lower() \\n           \\nlista_columnas=pd.Series(df.columns)\\nlista_columnas=lista_columnas.apply(lambda x: x.lower())\\nlista_columnas=lista_columnas.replace(to_replace=' ',value='_',inplace=False,regex=True)\\ndf.columns=lista_columnas\\n            \\ndisplay(lista_cols,df.head())\\n\""
      ]
     },
     "execution_count": 27,
     "metadata": {},
     "output_type": "execute_result"
    }
   ],
   "source": [
    "path=r'/Users/fffte/ainda_drive/python/csv/benchmark/mexico/mx_regresiones/'\n",
    "files = os.listdir(path)\n",
    "files_csv = [f for f in files if f[-3:] == 'csv']\n",
    "df = pd.DataFrame()\n",
    "for f in files_csv:\n",
    "    data = pd.read_csv(path+f,header='infer',\n",
    "                         skip_blank_lines=True,\n",
    "                         skipinitialspace=True,\n",
    "                         na_filter=True)\n",
    "\n",
    "    df = df.append(data,sort=True)\n",
    "\n",
    "\n",
    "lista_cols=pd.Series(df.columns)\n",
    "display(df.columns,df.shape)\n",
    "\n",
    "'''\n",
    "for x in lista_cols:\n",
    "           lista_cols=lista_cols.str.normalize('NFKD').str.encode('ascii', errors='ignore').str.decode('utf-8')\n",
    "           lista_cols=lista_cols.str.lower() \n",
    "           \n",
    "lista_columnas=pd.Series(df.columns)\n",
    "lista_columnas=lista_columnas.apply(lambda x: x.lower())\n",
    "lista_columnas=lista_columnas.replace(to_replace=' ',value='_',inplace=False,regex=True)\n",
    "df.columns=lista_columnas\n",
    "            \n",
    "display(lista_cols,df.head())\n",
    "'''"
   ]
  },
  {
   "cell_type": "code",
   "execution_count": 25,
   "metadata": {},
   "outputs": [],
   "source": [
    "df.to_csv(r\"/Users/fffte/ainda_drive/python/csv/benchmark/mexico/mx_regresiones.csv\")"
   ]
  },
  {
   "cell_type": "code",
   "execution_count": null,
   "metadata": {},
   "outputs": [],
   "source": []
  }
 ],
 "metadata": {
  "kernelspec": {
   "display_name": "Python 3",
   "language": "python",
   "name": "python3"
  },
  "language_info": {
   "codemirror_mode": {
    "name": "ipython",
    "version": 3
   },
   "file_extension": ".py",
   "mimetype": "text/x-python",
   "name": "python",
   "nbconvert_exporter": "python",
   "pygments_lexer": "ipython3",
   "version": "3.7.4"
  }
 },
 "nbformat": 4,
 "nbformat_minor": 4
}
