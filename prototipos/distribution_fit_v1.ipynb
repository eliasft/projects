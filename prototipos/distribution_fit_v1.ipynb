{
 "cells": [
  {
   "cell_type": "markdown",
   "metadata": {},
   "source": [
    "\n",
    "# Distribution fitting\n"
   ]
  },
  {
   "cell_type": "code",
   "execution_count": 265,
   "metadata": {},
   "outputs": [],
   "source": [
    "import pandas as pd\n",
    "import seaborn as sns\n",
    "from scipy.optimize import curve_fit\n",
    "import numpy as np\n",
    "import matplotlib.pyplot as plt\n",
    "import os\n",
    "import scipy\n",
    "import scipy.stats\n",
    "from sklearn.preprocessing import StandardScaler\n",
    "import matplotlib.pyplot as plt\n",
    "%matplotlib inline\n",
    "\n",
    "import timeit"
   ]
  },
  {
   "cell_type": "code",
   "execution_count": 266,
   "metadata": {},
   "outputs": [],
   "source": [
    "pd.set_option('display.max_rows', 1_000_000)\n",
    "pd.set_option('display.max_columns', 1_000_000)\n",
    "pd.set_option('display.width', 1_000_000)"
   ]
  },
  {
   "cell_type": "code",
   "execution_count": 267,
   "metadata": {},
   "outputs": [
    {
     "data": {
      "text/plain": [
       "0.09485651500108361"
      ]
     },
     "execution_count": 267,
     "metadata": {},
     "output_type": "execute_result"
    }
   ],
   "source": [
    "tic=timeit.default_timer()\n",
    "\n",
    "results=pd.read_csv(r'/Users/fffte/ainda_drive/python/csv/benchmark/kumaza_dca.csv')\n",
    "\n",
    "toc=timeit.default_timer()\n",
    "toc - tic #elapsed time in seconds"
   ]
  },
  {
   "cell_type": "code",
   "execution_count": 268,
   "metadata": {},
   "outputs": [
    {
     "data": {
      "text/html": [
       "<div>\n",
       "<style scoped>\n",
       "    .dataframe tbody tr th:only-of-type {\n",
       "        vertical-align: middle;\n",
       "    }\n",
       "\n",
       "    .dataframe tbody tr th {\n",
       "        vertical-align: top;\n",
       "    }\n",
       "\n",
       "    .dataframe thead th {\n",
       "        text-align: right;\n",
       "    }\n",
       "</style>\n",
       "<table border=\"1\" class=\"dataframe\">\n",
       "  <thead>\n",
       "    <tr style=\"text-align: right;\">\n",
       "      <th></th>\n",
       "      <th>Unnamed: 0</th>\n",
       "      <th>fecha</th>\n",
       "      <th>campo</th>\n",
       "      <th>yacimiento</th>\n",
       "      <th>plataforma</th>\n",
       "      <th>pozo</th>\n",
       "      <th>inicio_produccion_aceite</th>\n",
       "      <th>ultima_produccion_aceite</th>\n",
       "      <th>gasto_aceite_Mbd</th>\n",
       "      <th>gasto_agua_Mbd</th>\n",
       "      <th>gasto_gas_MMpcd</th>\n",
       "      <th>gasto_gas_BN_MMpcd</th>\n",
       "      <th>RGA_m3/m3</th>\n",
       "      <th>aceite_acumulado_MMb</th>\n",
       "      <th>agua_acumulada_MMb</th>\n",
       "      <th>gas_acumulado_MMMpc</th>\n",
       "      <th>cima_intervalo_mvbnm</th>\n",
       "      <th>base_intervalo_mvbnm</th>\n",
       "      <th>distancia_superior_intervalo_a_contacto_gas-aceite_(m)</th>\n",
       "      <th>fluyente_BEC_o _BN</th>\n",
       "      <th>RGA_pc/bl</th>\n",
       "      <th>nivel_CGA</th>\n",
       "      <th>cima_mv -nivel_CGA</th>\n",
       "      <th>estatus</th>\n",
       "      <th>arriba_abajo_CGA</th>\n",
       "      <th>campo_yacimiento</th>\n",
       "      <th>first_oil</th>\n",
       "      <th>Dias Produciendo</th>\n",
       "      <th>days_online</th>\n",
       "      <th>Exponential_Predicted</th>\n",
       "      <th>Hyperbolic_Predicted</th>\n",
       "      <th>Harmonic_Predicted</th>\n",
       "    </tr>\n",
       "  </thead>\n",
       "  <tbody>\n",
       "    <tr>\n",
       "      <td>0</td>\n",
       "      <td>0</td>\n",
       "      <td>2016-01-31</td>\n",
       "      <td>KU</td>\n",
       "      <td>KU_CCE</td>\n",
       "      <td>KU-A</td>\n",
       "      <td>KU-10</td>\n",
       "      <td>02/28/86</td>\n",
       "      <td>31/01/16</td>\n",
       "      <td>1.217011</td>\n",
       "      <td>0.008647</td>\n",
       "      <td>2.300103</td>\n",
       "      <td>1.789222</td>\n",
       "      <td>NaN</td>\n",
       "      <td>9.926316</td>\n",
       "      <td>0.134039</td>\n",
       "      <td>5.865319</td>\n",
       "      <td>2585.0</td>\n",
       "      <td>2603.0</td>\n",
       "      <td>-</td>\n",
       "      <td>BN</td>\n",
       "      <td>1889.960732</td>\n",
       "      <td>2919.2</td>\n",
       "      <td>-334.2</td>\n",
       "      <td>OPERANDO</td>\n",
       "      <td>ARRIBA</td>\n",
       "      <td>Ku-Crétacico</td>\n",
       "      <td>2016-01-31</td>\n",
       "      <td>0</td>\n",
       "      <td>0</td>\n",
       "      <td>1.216862e+00</td>\n",
       "      <td>0.604769</td>\n",
       "      <td>0.605825</td>\n",
       "    </tr>\n",
       "    <tr>\n",
       "      <td>1</td>\n",
       "      <td>178</td>\n",
       "      <td>2016-02-29</td>\n",
       "      <td>KU</td>\n",
       "      <td>KU_CCE</td>\n",
       "      <td>KU-A</td>\n",
       "      <td>KU-10</td>\n",
       "      <td>02/28/86</td>\n",
       "      <td>29/02/16</td>\n",
       "      <td>0.149891</td>\n",
       "      <td>0.008873</td>\n",
       "      <td>0.278601</td>\n",
       "      <td>0.399483</td>\n",
       "      <td>331.05</td>\n",
       "      <td>9.930663</td>\n",
       "      <td>0.134296</td>\n",
       "      <td>5.873399</td>\n",
       "      <td>2585.0</td>\n",
       "      <td>2603.0</td>\n",
       "      <td>-</td>\n",
       "      <td>BN</td>\n",
       "      <td>1858.690649</td>\n",
       "      <td>2924.518217</td>\n",
       "      <td>-339.518217</td>\n",
       "      <td>OPERANDO</td>\n",
       "      <td>ARRIBA</td>\n",
       "      <td>Ku-Crétacico</td>\n",
       "      <td>2016-01-31</td>\n",
       "      <td>29</td>\n",
       "      <td>29</td>\n",
       "      <td>1.295811e-63</td>\n",
       "      <td>0.599056</td>\n",
       "      <td>0.599913</td>\n",
       "    </tr>\n",
       "    <tr>\n",
       "      <td>2</td>\n",
       "      <td>357</td>\n",
       "      <td>2016-03-31</td>\n",
       "      <td>KU</td>\n",
       "      <td>KU_CCE</td>\n",
       "      <td>KU-A</td>\n",
       "      <td>KU-10</td>\n",
       "      <td>02/28/86</td>\n",
       "      <td>31/03/16</td>\n",
       "      <td>0.435305</td>\n",
       "      <td>0.095450</td>\n",
       "      <td>0.897108</td>\n",
       "      <td>2.052453</td>\n",
       "      <td>367.06</td>\n",
       "      <td>9.944158</td>\n",
       "      <td>0.137255</td>\n",
       "      <td>5.901209</td>\n",
       "      <td>2585.0</td>\n",
       "      <td>2603.0</td>\n",
       "      <td>-</td>\n",
       "      <td>BN</td>\n",
       "      <td>2060.872262</td>\n",
       "      <td>2918.6</td>\n",
       "      <td>-333.6</td>\n",
       "      <td>OPERANDO</td>\n",
       "      <td>ARRIBA</td>\n",
       "      <td>Ku-Crétacico</td>\n",
       "      <td>2016-01-31</td>\n",
       "      <td>60</td>\n",
       "      <td>60</td>\n",
       "      <td>6.264651e-131</td>\n",
       "      <td>0.593057</td>\n",
       "      <td>0.593719</td>\n",
       "    </tr>\n",
       "    <tr>\n",
       "      <td>3</td>\n",
       "      <td>538</td>\n",
       "      <td>2016-04-30</td>\n",
       "      <td>KU</td>\n",
       "      <td>KU_CCE</td>\n",
       "      <td>KU-A</td>\n",
       "      <td>KU-10</td>\n",
       "      <td>02/28/86</td>\n",
       "      <td>30/04/16</td>\n",
       "      <td>0.443587</td>\n",
       "      <td>0.033466</td>\n",
       "      <td>0.969067</td>\n",
       "      <td>1.806563</td>\n",
       "      <td>389.10</td>\n",
       "      <td>9.957465</td>\n",
       "      <td>0.138259</td>\n",
       "      <td>5.930281</td>\n",
       "      <td>2585.0</td>\n",
       "      <td>2603.0</td>\n",
       "      <td>-</td>\n",
       "      <td>BN</td>\n",
       "      <td>2184.615419</td>\n",
       "      <td>2918.6</td>\n",
       "      <td>-333.6</td>\n",
       "      <td>OPERANDO</td>\n",
       "      <td>ARRIBA</td>\n",
       "      <td>Ku-Crétacico</td>\n",
       "      <td>2016-01-31</td>\n",
       "      <td>90</td>\n",
       "      <td>90</td>\n",
       "      <td>4.494948e-196</td>\n",
       "      <td>0.587355</td>\n",
       "      <td>0.587846</td>\n",
       "    </tr>\n",
       "    <tr>\n",
       "      <td>4</td>\n",
       "      <td>719</td>\n",
       "      <td>2016-05-31</td>\n",
       "      <td>KU</td>\n",
       "      <td>KU_CCE</td>\n",
       "      <td>KU-A</td>\n",
       "      <td>KU-10</td>\n",
       "      <td>02/28/86</td>\n",
       "      <td>31/05/16</td>\n",
       "      <td>0.449856</td>\n",
       "      <td>0.067082</td>\n",
       "      <td>0.982420</td>\n",
       "      <td>2.611310</td>\n",
       "      <td>388.96</td>\n",
       "      <td>9.971411</td>\n",
       "      <td>0.140338</td>\n",
       "      <td>5.960736</td>\n",
       "      <td>2585.0</td>\n",
       "      <td>2603.0</td>\n",
       "      <td>-</td>\n",
       "      <td>BN</td>\n",
       "      <td>2183.854389</td>\n",
       "      <td>2923.5</td>\n",
       "      <td>-338.5</td>\n",
       "      <td>OPERANDO</td>\n",
       "      <td>ARRIBA</td>\n",
       "      <td>Ku-Crétacico</td>\n",
       "      <td>2016-01-31</td>\n",
       "      <td>121</td>\n",
       "      <td>121</td>\n",
       "      <td>2.173101e-263</td>\n",
       "      <td>0.581567</td>\n",
       "      <td>0.581898</td>\n",
       "    </tr>\n",
       "  </tbody>\n",
       "</table>\n",
       "</div>"
      ],
      "text/plain": [
       "   Unnamed: 0       fecha campo yacimiento plataforma   pozo inicio_produccion_aceite ultima_produccion_aceite  gasto_aceite_Mbd  gasto_agua_Mbd  gasto_gas_MMpcd  gasto_gas_BN_MMpcd  RGA_m3/m3  aceite_acumulado_MMb  agua_acumulada_MMb  gas_acumulado_MMMpc  cima_intervalo_mvbnm  base_intervalo_mvbnm distancia_superior_intervalo_a_contacto_gas-aceite_(m) fluyente_BEC_o _BN    RGA_pc/bl    nivel_CGA cima_mv -nivel_CGA   estatus arriba_abajo_CGA campo_yacimiento   first_oil  Dias Produciendo  days_online  Exponential_Predicted  Hyperbolic_Predicted  Harmonic_Predicted\n",
       "0           0  2016-01-31    KU     KU_CCE       KU-A  KU-10                 02/28/86                 31/01/16          1.217011        0.008647         2.300103            1.789222        NaN              9.926316            0.134039             5.865319                2585.0                2603.0                                                  -                     BN  1889.960732       2919.2             -334.2  OPERANDO           ARRIBA     Ku-Crétacico  2016-01-31                 0            0           1.216862e+00              0.604769            0.605825\n",
       "1         178  2016-02-29    KU     KU_CCE       KU-A  KU-10                 02/28/86                 29/02/16          0.149891        0.008873         0.278601            0.399483     331.05              9.930663            0.134296             5.873399                2585.0                2603.0                                                  -                     BN  1858.690649  2924.518217        -339.518217  OPERANDO           ARRIBA     Ku-Crétacico  2016-01-31                29           29           1.295811e-63              0.599056            0.599913\n",
       "2         357  2016-03-31    KU     KU_CCE       KU-A  KU-10                 02/28/86                 31/03/16          0.435305        0.095450         0.897108            2.052453     367.06              9.944158            0.137255             5.901209                2585.0                2603.0                                                  -                     BN  2060.872262       2918.6             -333.6  OPERANDO           ARRIBA     Ku-Crétacico  2016-01-31                60           60          6.264651e-131              0.593057            0.593719\n",
       "3         538  2016-04-30    KU     KU_CCE       KU-A  KU-10                 02/28/86                 30/04/16          0.443587        0.033466         0.969067            1.806563     389.10              9.957465            0.138259             5.930281                2585.0                2603.0                                                  -                     BN  2184.615419       2918.6             -333.6  OPERANDO           ARRIBA     Ku-Crétacico  2016-01-31                90           90          4.494948e-196              0.587355            0.587846\n",
       "4         719  2016-05-31    KU     KU_CCE       KU-A  KU-10                 02/28/86                 31/05/16          0.449856        0.067082         0.982420            2.611310     388.96              9.971411            0.140338             5.960736                2585.0                2603.0                                                  -                     BN  2183.854389       2923.5             -338.5  OPERANDO           ARRIBA     Ku-Crétacico  2016-01-31               121          121          2.173101e-263              0.581567            0.581898"
      ]
     },
     "metadata": {},
     "output_type": "display_data"
    },
    {
     "data": {
      "text/plain": [
       "(7328, 32)"
      ]
     },
     "metadata": {},
     "output_type": "display_data"
    },
    {
     "data": {
      "text/plain": [
       "(222,)"
      ]
     },
     "metadata": {},
     "output_type": "display_data"
    },
    {
     "data": {
      "text/plain": [
       "222"
      ]
     },
     "metadata": {},
     "output_type": "display_data"
    }
   ],
   "source": [
    "display(results.head(),results.shape)\n",
    "unique_well_list=pd.unique(list(results.pozo))\n",
    "display(unique_well_list.shape, len(unique_well_list))"
   ]
  },
  {
   "cell_type": "code",
   "execution_count": 104,
   "metadata": {
    "scrolled": true
   },
   "outputs": [
    {
     "data": {
      "text/plain": [
       "count    7328.000000\n",
       "mean        4.663685\n",
       "std         2.722959\n",
       "min         0.001328\n",
       "25%         2.568975\n",
       "50%         4.459376\n",
       "75%         6.365696\n",
       "max        16.271644\n",
       "Name: gasto_aceite_Mbd, dtype: float64"
      ]
     },
     "metadata": {},
     "output_type": "display_data"
    },
    {
     "data": {
      "text/plain": [
       "0.1    1.197438\n",
       "0.5    4.459376\n",
       "0.9    8.356293\n",
       "Name: gasto_aceite_Mbd, dtype: float64"
      ]
     },
     "metadata": {},
     "output_type": "display_data"
    },
    {
     "data": {
      "text/plain": [
       "count    7328.000000\n",
       "mean        4.453661\n",
       "std         2.225064\n",
       "min         0.033567\n",
       "25%         2.772432\n",
       "50%         4.304632\n",
       "75%         5.743804\n",
       "max        12.800735\n",
       "Name: Hyperbolic_Predicted, dtype: float64"
      ]
     },
     "metadata": {},
     "output_type": "display_data"
    },
    {
     "data": {
      "text/plain": [
       "0.1    1.704135\n",
       "0.5    4.304632\n",
       "0.9    7.532802\n",
       "Name: Hyperbolic_Predicted, dtype: float64"
      ]
     },
     "metadata": {},
     "output_type": "display_data"
    },
    {
     "data": {
      "text/plain": [
       "<matplotlib.axes._subplots.AxesSubplot at 0x1a1f4b7410>"
      ]
     },
     "execution_count": 104,
     "metadata": {},
     "output_type": "execute_result"
    },
    {
     "data": {
      "image/png": "[encoded data removed]",
      "text/plain": [
       "<Figure size 432x288 with 1 Axes>"
      ]
     },
     "metadata": {
      "needs_background": "light"
     },
     "output_type": "display_data"
    }
   ],
   "source": [
    "display(results.gasto_aceite_Mbd.describe(),\n",
    "        results.gasto_aceite_Mbd.quantile([.1,.5,.9]),\n",
    "        results.Hyperbolic_Predicted.describe(),\n",
    "        results.Hyperbolic_Predicted.quantile([.1,.5,.9]))\n",
    "results.gasto_aceite_Mbd.plot.hist(bins=40,color='black'),\n",
    "results.Hyperbolic_Predicted.plot.hist(bins=40,color='gray')"
   ]
  },
  {
   "cell_type": "code",
   "execution_count": 105,
   "metadata": {},
   "outputs": [
    {
     "data": {
      "text/plain": [
       "count    7328.000000\n",
       "mean        3.662449\n",
       "std         5.254861\n",
       "min         0.000413\n",
       "25%         1.239010\n",
       "50%         2.116109\n",
       "75%         3.523018\n",
       "max        64.574833\n",
       "Name: gasto_gas_MMpcd, dtype: float64"
      ]
     },
     "metadata": {},
     "output_type": "display_data"
    },
    {
     "data": {
      "text/plain": [
       "0.1    0.653218\n",
       "0.5    2.116109\n",
       "0.9    7.483920\n",
       "Name: gasto_gas_MMpcd, dtype: float64"
      ]
     },
     "metadata": {},
     "output_type": "display_data"
    },
    {
     "data": {
      "text/plain": [
       "<matplotlib.axes._subplots.AxesSubplot at 0x1a1e9be9d0>"
      ]
     },
     "execution_count": 105,
     "metadata": {},
     "output_type": "execute_result"
    },
    {
     "data": {
      "image/png": "[encoded data removed]",
      "text/plain": [
       "<Figure size 432x288 with 1 Axes>"
      ]
     },
     "metadata": {
      "needs_background": "light"
     },
     "output_type": "display_data"
    }
   ],
   "source": [
    "display(results.gasto_gas_MMpcd.describe(),\n",
    "       results.gasto_gas_MMpcd.quantile([.1,.5,.9]))\n",
    "results.gasto_gas_MMpcd.plot.hist(bins=40,color='green')"
   ]
  },
  {
   "cell_type": "code",
   "execution_count": 106,
   "metadata": {
    "scrolled": true
   },
   "outputs": [
    {
     "data": {
      "text/plain": [
       "array([0.88819998, 0.55957469, 0.66832947, ..., 0.99997463, 0.98888252,\n",
       "       0.98888839])"
      ]
     },
     "metadata": {},
     "output_type": "display_data"
    },
    {
     "data": {
      "text/plain": [
       "[<matplotlib.lines.Line2D at 0x1a1d366590>]"
      ]
     },
     "execution_count": 106,
     "metadata": {},
     "output_type": "execute_result"
    },
    {
     "data": {
      "image/png": "[encoded data removed]",
      "text/plain": [
       "<Figure size 432x288 with 1 Axes>"
      ]
     },
     "metadata": {
      "needs_background": "light"
     },
     "output_type": "display_data"
    }
   ],
   "source": [
    "cdf=stats.norm.cdf(results.gasto_aceite_Mbd)\n",
    "\n",
    "display(cdf)\n",
    "\n",
    "plt.plot(cdf)"
   ]
  },
  {
   "cell_type": "code",
   "execution_count": 109,
   "metadata": {
    "scrolled": true
   },
   "outputs": [
    {
     "name": "stdout",
     "output_type": "stream",
     "text": [
      "==========================================\n",
      "Statistical functions (:mod:`scipy.stats`)\n",
      "==========================================\n",
      "\n",
      ".. currentmodule:: scipy.stats\n",
      "\n",
      "This module contains a large number of probability distributions as\n",
      "well as a growing library of statistical functions.\n",
      "\n",
      "Each univariate distribution is an instance of a subclass of `rv_continuous`\n",
      "(`rv_discrete` for discrete distributions):\n",
      "\n",
      ".. autosummary::\n",
      "   :toctree: generated/\n",
      "\n",
      "   rv_continuous\n",
      "   rv_discrete\n",
      "   rv_histogram\n",
      "\n",
      "Continuous distributions\n",
      "========================\n",
      "\n",
      ".. autosummary::\n",
      "   :toctree: generated/\n",
      "\n",
      "   alpha             -- Alpha\n",
      "   anglit            -- Anglit\n",
      "   arcsine           -- Arcsine\n",
      "   argus             -- Argus\n",
      "   beta              -- Beta\n",
      "   betaprime         -- Beta Prime\n",
      "   bradford          -- Bradford\n",
      "   burr              -- Burr (Type III)\n",
      "   burr12            -- Burr (Type XII)\n",
      "   cauchy            -- Cauchy\n",
      "   chi               -- Chi\n",
      "   chi2              -- Chi-squared\n",
      "   cosine            -- Cosine\n",
      "   crystalball       -- Crystalball\n",
      "   dgamma            -- Double Gamma\n",
      "   dweibull          -- Double Weibull\n",
      "   erlang            -- Erlang\n",
      "   expon             -- Exponential\n",
      "   exponnorm         -- Exponentially Modified Normal\n",
      "   exponweib         -- Exponentiated Weibull\n",
      "   exponpow          -- Exponential Power\n",
      "   f                 -- F (Snecdor F)\n",
      "   fatiguelife       -- Fatigue Life (Birnbaum-Saunders)\n",
      "   fisk              -- Fisk\n",
      "   foldcauchy        -- Folded Cauchy\n",
      "   foldnorm          -- Folded Normal\n",
      "   frechet_r         -- Deprecated. Alias for weibull_min\n",
      "   frechet_l         -- Deprecated. Alias for weibull_max\n",
      "   genlogistic       -- Generalized Logistic\n",
      "   gennorm           -- Generalized normal\n",
      "   genpareto         -- Generalized Pareto\n",
      "   genexpon          -- Generalized Exponential\n",
      "   genextreme        -- Generalized Extreme Value\n",
      "   gausshyper        -- Gauss Hypergeometric\n",
      "   gamma             -- Gamma\n",
      "   gengamma          -- Generalized gamma\n",
      "   genhalflogistic   -- Generalized Half Logistic\n",
      "   gilbrat           -- Gilbrat\n",
      "   gompertz          -- Gompertz (Truncated Gumbel)\n",
      "   gumbel_r          -- Right Sided Gumbel, Log-Weibull, Fisher-Tippett, Extreme Value Type I\n",
      "   gumbel_l          -- Left Sided Gumbel, etc.\n",
      "   halfcauchy        -- Half Cauchy\n",
      "   halflogistic      -- Half Logistic\n",
      "   halfnorm          -- Half Normal\n",
      "   halfgennorm       -- Generalized Half Normal\n",
      "   hypsecant         -- Hyperbolic Secant\n",
      "   invgamma          -- Inverse Gamma\n",
      "   invgauss          -- Inverse Gaussian\n",
      "   invweibull        -- Inverse Weibull\n",
      "   johnsonsb         -- Johnson SB\n",
      "   johnsonsu         -- Johnson SU\n",
      "   kappa4            -- Kappa 4 parameter\n",
      "   kappa3            -- Kappa 3 parameter\n",
      "   ksone             -- Kolmogorov-Smirnov one-sided (no stats)\n",
      "   kstwobign         -- Kolmogorov-Smirnov two-sided test for Large N (no stats)\n",
      "   laplace           -- Laplace\n",
      "   levy              -- Levy\n",
      "   levy_l\n",
      "   levy_stable\n",
      "   logistic          -- Logistic\n",
      "   loggamma          -- Log-Gamma\n",
      "   loglaplace        -- Log-Laplace (Log Double Exponential)\n",
      "   lognorm           -- Log-Normal\n",
      "   lomax             -- Lomax (Pareto of the second kind)\n",
      "   maxwell           -- Maxwell\n",
      "   mielke            -- Mielke's Beta-Kappa\n",
      "   moyal             -- Moyal\n",
      "   nakagami          -- Nakagami\n",
      "   ncx2              -- Non-central chi-squared\n",
      "   ncf               -- Non-central F\n",
      "   nct               -- Non-central Student's T\n",
      "   norm              -- Normal (Gaussian)\n",
      "   norminvgauss      -- Normal Inverse Gaussian\n",
      "   pareto            -- Pareto\n",
      "   pearson3          -- Pearson type III\n",
      "   powerlaw          -- Power-function\n",
      "   powerlognorm      -- Power log normal\n",
      "   powernorm         -- Power normal\n",
      "   rdist             -- R-distribution\n",
      "   reciprocal        -- Reciprocal\n",
      "   rayleigh          -- Rayleigh\n",
      "   rice              -- Rice\n",
      "   recipinvgauss     -- Reciprocal Inverse Gaussian\n",
      "   semicircular      -- Semicircular\n",
      "   skewnorm          -- Skew normal\n",
      "   t                 -- Student's T\n",
      "   trapz              -- Trapezoidal\n",
      "   triang            -- Triangular\n",
      "   truncexpon        -- Truncated Exponential\n",
      "   truncnorm         -- Truncated Normal\n",
      "   tukeylambda       -- Tukey-Lambda\n",
      "   uniform           -- Uniform\n",
      "   vonmises          -- Von-Mises (Circular)\n",
      "   vonmises_line     -- Von-Mises (Line)\n",
      "   wald              -- Wald\n",
      "   weibull_min       -- Minimum Weibull (see Frechet)\n",
      "   weibull_max       -- Maximum Weibull (see Frechet)\n",
      "   wrapcauchy        -- Wrapped Cauchy\n",
      "\n",
      "Multivariate distributions\n",
      "==========================\n",
      "\n",
      ".. autosummary::\n",
      "   :toctree: generated/\n",
      "\n",
      "   multivariate_normal   -- Multivariate normal distribution\n",
      "   matrix_normal         -- Matrix normal distribution\n",
      "   dirichlet             -- Dirichlet\n",
      "   wishart               -- Wishart\n",
      "   invwishart            -- Inverse Wishart\n",
      "   multinomial           -- Multinomial distribution\n",
      "   special_ortho_group   -- SO(N) group\n",
      "   ortho_group           -- O(N) group\n",
      "   unitary_group         -- U(N) group\n",
      "   random_correlation    -- random correlation matrices\n",
      "\n",
      "Discrete distributions\n",
      "======================\n",
      "\n",
      ".. autosummary::\n",
      "   :toctree: generated/\n",
      "\n",
      "   bernoulli         -- Bernoulli\n",
      "   binom             -- Binomial\n",
      "   boltzmann         -- Boltzmann (Truncated Discrete Exponential)\n",
      "   dlaplace          -- Discrete Laplacian\n",
      "   geom              -- Geometric\n",
      "   hypergeom         -- Hypergeometric\n",
      "   logser            -- Logarithmic (Log-Series, Series)\n",
      "   nbinom            -- Negative Binomial\n",
      "   planck            -- Planck (Discrete Exponential)\n",
      "   poisson           -- Poisson\n",
      "   randint           -- Discrete Uniform\n",
      "   skellam           -- Skellam\n",
      "   zipf              -- Zipf\n",
      "   yulesimon         -- Yule-Simon\n",
      "\n",
      "An overview of statistical functions is given below.\n",
      "Several of these functions have a similar version in\n",
      "`scipy.stats.mstats` which work for masked arrays.\n",
      "\n",
      "Summary statistics\n",
      "==================\n",
      "\n",
      ".. autosummary::\n",
      "   :toctree: generated/\n",
      "\n",
      "   describe          -- Descriptive statistics\n",
      "   gmean             -- Geometric mean\n",
      "   hmean             -- Harmonic mean\n",
      "   kurtosis          -- Fisher or Pearson kurtosis\n",
      "   mode              -- Modal value\n",
      "   moment            -- Central moment\n",
      "   skew              -- Skewness\n",
      "   kstat             --\n",
      "   kstatvar          --\n",
      "   tmean             -- Truncated arithmetic mean\n",
      "   tvar              -- Truncated variance\n",
      "   tmin              --\n",
      "   tmax              --\n",
      "   tstd              --\n",
      "   tsem              --\n",
      "   variation         -- Coefficient of variation\n",
      "   find_repeats\n",
      "   trim_mean\n",
      "   gstd              -- Geometric Standard Deviation\n",
      "   iqr\n",
      "   sem\n",
      "   bayes_mvs\n",
      "   mvsdist\n",
      "   entropy\n",
      "   median_absolute_deviation\n",
      "\n",
      "Frequency statistics\n",
      "====================\n",
      "\n",
      ".. autosummary::\n",
      "   :toctree: generated/\n",
      "\n",
      "   cumfreq\n",
      "   itemfreq\n",
      "   percentileofscore\n",
      "   scoreatpercentile\n",
      "   relfreq\n",
      "\n",
      ".. autosummary::\n",
      "   :toctree: generated/\n",
      "\n",
      "   binned_statistic     -- Compute a binned statistic for a set of data.\n",
      "   binned_statistic_2d  -- Compute a 2-D binned statistic for a set of data.\n",
      "   binned_statistic_dd  -- Compute a d-D binned statistic for a set of data.\n",
      "\n",
      "Correlation functions\n",
      "=====================\n",
      "\n",
      ".. autosummary::\n",
      "   :toctree: generated/\n",
      "\n",
      "   f_oneway\n",
      "   pearsonr\n",
      "   spearmanr\n",
      "   pointbiserialr\n",
      "   kendalltau\n",
      "   weightedtau\n",
      "   linregress\n",
      "   siegelslopes\n",
      "   theilslopes\n",
      "\n",
      "Statistical tests\n",
      "=================\n",
      "\n",
      ".. autosummary::\n",
      "   :toctree: generated/\n",
      "\n",
      "   ttest_1samp\n",
      "   ttest_ind\n",
      "   ttest_ind_from_stats\n",
      "   ttest_rel\n",
      "   kstest\n",
      "   chisquare\n",
      "   power_divergence\n",
      "   ks_2samp\n",
      "   epps_singleton_2samp\n",
      "   mannwhitneyu\n",
      "   tiecorrect\n",
      "   rankdata\n",
      "   ranksums\n",
      "   wilcoxon\n",
      "   kruskal\n",
      "   friedmanchisquare\n",
      "   brunnermunzel\n",
      "   combine_pvalues\n",
      "   jarque_bera\n",
      "\n",
      ".. autosummary::\n",
      "   :toctree: generated/\n",
      "\n",
      "   ansari\n",
      "   bartlett\n",
      "   levene\n",
      "   shapiro\n",
      "   anderson\n",
      "   anderson_ksamp\n",
      "   binom_test\n",
      "   fligner\n",
      "   median_test\n",
      "   mood\n",
      "   skewtest\n",
      "   kurtosistest\n",
      "   normaltest\n",
      "\n",
      "Transformations\n",
      "===============\n",
      "\n",
      ".. autosummary::\n",
      "   :toctree: generated/\n",
      "\n",
      "   boxcox\n",
      "   boxcox_normmax\n",
      "   boxcox_llf\n",
      "   yeojohnson\n",
      "   yeojohnson_normmax\n",
      "   yeojohnson_llf\n",
      "   obrientransform\n",
      "   sigmaclip\n",
      "   trimboth\n",
      "   trim1\n",
      "   zmap\n",
      "   zscore\n",
      "\n",
      "Statistical distances\n",
      "=====================\n",
      "\n",
      ".. autosummary::\n",
      "   :toctree: generated/\n",
      "\n",
      "   wasserstein_distance\n",
      "   energy_distance\n",
      "\n",
      "Random variate generation\n",
      "=========================\n",
      "\n",
      ".. autosummary::\n",
      "   :toctree: generated/\n",
      "\n",
      "   rvs_ratio_uniforms\n",
      "\n",
      "Circular statistical functions\n",
      "==============================\n",
      "\n",
      ".. autosummary::\n",
      "   :toctree: generated/\n",
      "\n",
      "   circmean\n",
      "   circvar\n",
      "   circstd\n",
      "\n",
      "Contingency table functions\n",
      "===========================\n",
      "\n",
      ".. autosummary::\n",
      "   :toctree: generated/\n",
      "\n",
      "   chi2_contingency\n",
      "   contingency.expected_freq\n",
      "   contingency.margins\n",
      "   fisher_exact\n",
      "\n",
      "Plot-tests\n",
      "==========\n",
      "\n",
      ".. autosummary::\n",
      "   :toctree: generated/\n",
      "\n",
      "   ppcc_max\n",
      "   ppcc_plot\n",
      "   probplot\n",
      "   boxcox_normplot\n",
      "   yeojohnson_normplot\n",
      "\n",
      "\n",
      "Masked statistics functions\n",
      "===========================\n",
      "\n",
      ".. toctree::\n",
      "\n",
      "   stats.mstats\n",
      "\n",
      "\n",
      "Univariate and multivariate kernel density estimation\n",
      "=====================================================\n",
      "\n",
      ".. autosummary::\n",
      "   :toctree: generated/\n",
      "\n",
      "   gaussian_kde\n",
      "\n",
      "Warnings used in :mod:`scipy.stats`\n",
      "===================================\n",
      "\n",
      ".. autosummary::\n",
      "   :toctree: generated/\n",
      "\n",
      "   PearsonRConstantInputWarning\n",
      "   PearsonRNearConstantInputWarning\n",
      "\n",
      "For many more stat related functions install the software R and the\n",
      "interface package rpy.\n"
     ]
    }
   ],
   "source": [
    "scipy.info(stats)"
   ]
  },
  {
   "cell_type": "markdown",
   "metadata": {},
   "source": [
    "## Distribution fitting"
   ]
  },
  {
   "cell_type": "code",
   "execution_count": 262,
   "metadata": {},
   "outputs": [],
   "source": [
    "class Distribution(object):\n",
    "    \n",
    "    def __init__(self,dist_names_list = []):\n",
    "        self.dist_names = ['beta',\n",
    "                            'expon',\n",
    "                            'gamma',\n",
    "                            'lognorm',\n",
    "                            'norm',\n",
    "                            'pearson3',\n",
    "                            'triang',\n",
    "                            'uniform',\n",
    "                            'weibull_min', \n",
    "                            'weibull_max']\n",
    "        self.dist_results = []\n",
    "        self.params = {}\n",
    "        \n",
    "        self.DistributionName = \"\"\n",
    "        self.PValue = 0\n",
    "        self.Param = None\n",
    "        \n",
    "        self.isFitted = False\n",
    "        \n",
    "        \n",
    "    def Fit(self, y):\n",
    "        self.dist_results = []\n",
    "        self.params = {}\n",
    "        for dist_name in self.dist_names:\n",
    "            dist = getattr(scipy.stats, dist_name)\n",
    "            param = dist.fit(y)\n",
    "            \n",
    "            self.params[dist_name] = param\n",
    "            #Applying the Kolmogorov-Smirnov test\n",
    "            D, p = scipy.stats.kstest(y, dist_name, args=param);\n",
    "            self.dist_results.append((dist_name,p))\n",
    "        #select the best fitted distribution\n",
    "        sel_dist,p = (max(self.dist_results,key=lambda item:item[1]))\n",
    "        #store the name of the best fit and its p value\n",
    "        self.DistributionName = sel_dist\n",
    "        self.PValue = p\n",
    "        \n",
    "        self.isFitted = True\n",
    "        return self.DistributionName,self.PValue\n",
    "    \n",
    "    def Random(self, n = 1):\n",
    "        if self.isFitted:\n",
    "            dist_name = self.DistributionName\n",
    "            param = self.params[dist_name]\n",
    "            #initiate the scipy distribution\n",
    "            dist = getattr(scipy.stats, dist_name)\n",
    "            return dist.rvs(*param[:-2], loc=param[-2], scale=param[-1], size=n)\n",
    "        else:\n",
    "            raise ValueError('Must first run the Fit method.')\n",
    "            \n",
    "    def Plot(self,y):\n",
    "        x = self.Random(n=len(y))\n",
    "        plt.hist(x, alpha=0.5, label='Fitted',bins=50)\n",
    "        plt.hist(y, alpha=0.5, label='Actual',bins=50)\n",
    "        plt.legend(loc='upper right')"
   ]
  },
  {
   "cell_type": "code",
   "execution_count": 264,
   "metadata": {},
   "outputs": [
    {
     "data": {
      "text/plain": [
       "('weibull_min', 3.058129500459638e-05)"
      ]
     },
     "metadata": {},
     "output_type": "display_data"
    },
    {
     "data": {
      "image/png": "[encoded data removed]",
      "text/plain": [
       "<Figure size 432x288 with 1 Axes>"
      ]
     },
     "metadata": {
      "needs_background": "light"
     },
     "output_type": "display_data"
    }
   ],
   "source": [
    "dst=Distribution()\n",
    "display(dst.Fit(df.gasto_aceite_Mbd))\n",
    "dst.Plot(df.gasto_aceite_Mbd)"
   ]
  },
  {
   "cell_type": "markdown",
   "metadata": {},
   "source": [
    "## Distribution fitting - Method 2"
   ]
  },
  {
   "cell_type": "code",
   "execution_count": 245,
   "metadata": {},
   "outputs": [],
   "source": [
    "df=pd.read_csv(r'/Users/fffte/ainda_drive/python/csv/benchmark/kumaza_dca.csv',index_col='days_online')\n",
    "df=df.drop(columns='Unnamed: 0')"
   ]
  },
  {
   "cell_type": "code",
   "execution_count": 246,
   "metadata": {},
   "outputs": [
    {
     "name": "stdout",
     "output_type": "stream",
     "text": [
      "Nombre de pozo: ZAAP-33\n"
     ]
    }
   ],
   "source": [
    "input_pozo = input(\"Nombre de pozo: \")"
   ]
  },
  {
   "cell_type": "code",
   "execution_count": 247,
   "metadata": {},
   "outputs": [],
   "source": [
    "selected_rows=df.pozo.str.contains(str(input_pozo))\n",
    "pozo=df.loc[selected_rows]"
   ]
  },
  {
   "cell_type": "code",
   "execution_count": 248,
   "metadata": {},
   "outputs": [],
   "source": [
    "y=pd.DataFrame(pozo.gasto_aceite_Mbd)"
   ]
  },
  {
   "cell_type": "code",
   "execution_count": 250,
   "metadata": {},
   "outputs": [
    {
     "data": {
      "text/html": [
       "<div>\n",
       "<style scoped>\n",
       "    .dataframe tbody tr th:only-of-type {\n",
       "        vertical-align: middle;\n",
       "    }\n",
       "\n",
       "    .dataframe tbody tr th {\n",
       "        vertical-align: top;\n",
       "    }\n",
       "\n",
       "    .dataframe thead th {\n",
       "        text-align: right;\n",
       "    }\n",
       "</style>\n",
       "<table border=\"1\" class=\"dataframe\">\n",
       "  <thead>\n",
       "    <tr style=\"text-align: right;\">\n",
       "      <th></th>\n",
       "      <th>gasto_aceite_Mbd</th>\n",
       "    </tr>\n",
       "  </thead>\n",
       "  <tbody>\n",
       "    <tr>\n",
       "      <td>count</td>\n",
       "      <td>36.000000</td>\n",
       "    </tr>\n",
       "    <tr>\n",
       "      <td>mean</td>\n",
       "      <td>6.785615</td>\n",
       "    </tr>\n",
       "    <tr>\n",
       "      <td>std</td>\n",
       "      <td>2.217443</td>\n",
       "    </tr>\n",
       "    <tr>\n",
       "      <td>min</td>\n",
       "      <td>2.175978</td>\n",
       "    </tr>\n",
       "    <tr>\n",
       "      <td>25%</td>\n",
       "      <td>5.041891</td>\n",
       "    </tr>\n",
       "    <tr>\n",
       "      <td>50%</td>\n",
       "      <td>6.713864</td>\n",
       "    </tr>\n",
       "    <tr>\n",
       "      <td>75%</td>\n",
       "      <td>8.663424</td>\n",
       "    </tr>\n",
       "    <tr>\n",
       "      <td>max</td>\n",
       "      <td>10.432089</td>\n",
       "    </tr>\n",
       "  </tbody>\n",
       "</table>\n",
       "</div>"
      ],
      "text/plain": [
       "       gasto_aceite_Mbd\n",
       "count         36.000000\n",
       "mean           6.785615\n",
       "std            2.217443\n",
       "min            2.175978\n",
       "25%            5.041891\n",
       "50%            6.713864\n",
       "75%            8.663424\n",
       "max           10.432089"
      ]
     },
     "metadata": {},
     "output_type": "display_data"
    },
    {
     "data": {
      "text/html": [
       "<div>\n",
       "<style scoped>\n",
       "    .dataframe tbody tr th:only-of-type {\n",
       "        vertical-align: middle;\n",
       "    }\n",
       "\n",
       "    .dataframe tbody tr th {\n",
       "        vertical-align: top;\n",
       "    }\n",
       "\n",
       "    .dataframe thead th {\n",
       "        text-align: right;\n",
       "    }\n",
       "</style>\n",
       "<table border=\"1\" class=\"dataframe\">\n",
       "  <thead>\n",
       "    <tr style=\"text-align: right;\">\n",
       "      <th></th>\n",
       "      <th>gasto_aceite_Mbd</th>\n",
       "    </tr>\n",
       "    <tr>\n",
       "      <th>days_online</th>\n",
       "      <th></th>\n",
       "    </tr>\n",
       "  </thead>\n",
       "  <tbody>\n",
       "    <tr>\n",
       "      <td>0</td>\n",
       "      <td>9.799286</td>\n",
       "    </tr>\n",
       "    <tr>\n",
       "      <td>29</td>\n",
       "      <td>10.051483</td>\n",
       "    </tr>\n",
       "    <tr>\n",
       "      <td>60</td>\n",
       "      <td>10.105339</td>\n",
       "    </tr>\n",
       "    <tr>\n",
       "      <td>90</td>\n",
       "      <td>10.432089</td>\n",
       "    </tr>\n",
       "    <tr>\n",
       "      <td>121</td>\n",
       "      <td>10.269549</td>\n",
       "    </tr>\n",
       "  </tbody>\n",
       "</table>\n",
       "</div>"
      ],
      "text/plain": [
       "             gasto_aceite_Mbd\n",
       "days_online                  \n",
       "0                    9.799286\n",
       "29                  10.051483\n",
       "60                  10.105339\n",
       "90                  10.432089\n",
       "121                 10.269549"
      ]
     },
     "metadata": {},
     "output_type": "display_data"
    },
    {
     "data": {
      "image/png": "[encoded data removed]",
      "text/plain": [
       "<Figure size 432x288 with 1 Axes>"
      ]
     },
     "metadata": {
      "needs_background": "light"
     },
     "output_type": "display_data"
    }
   ],
   "source": [
    "y.gasto_aceite_Mbd.plot.hist(bins=10)\n",
    "display(y.describe(),\n",
    "        y.head())"
   ]
  },
  {
   "cell_type": "code",
   "execution_count": 208,
   "metadata": {},
   "outputs": [
    {
     "data": {
      "text/html": [
       "<div>\n",
       "<style scoped>\n",
       "    .dataframe tbody tr th:only-of-type {\n",
       "        vertical-align: middle;\n",
       "    }\n",
       "\n",
       "    .dataframe tbody tr th {\n",
       "        vertical-align: top;\n",
       "    }\n",
       "\n",
       "    .dataframe thead th {\n",
       "        text-align: right;\n",
       "    }\n",
       "</style>\n",
       "<table border=\"1\" class=\"dataframe\">\n",
       "  <thead>\n",
       "    <tr style=\"text-align: right;\">\n",
       "      <th></th>\n",
       "      <th>gasto_aceite_Mbd</th>\n",
       "    </tr>\n",
       "    <tr>\n",
       "      <th>days_online</th>\n",
       "      <th></th>\n",
       "    </tr>\n",
       "  </thead>\n",
       "  <tbody>\n",
       "    <tr>\n",
       "      <td>0</td>\n",
       "      <td>1.217011</td>\n",
       "    </tr>\n",
       "    <tr>\n",
       "      <td>29</td>\n",
       "      <td>0.149891</td>\n",
       "    </tr>\n",
       "    <tr>\n",
       "      <td>60</td>\n",
       "      <td>0.435305</td>\n",
       "    </tr>\n",
       "    <tr>\n",
       "      <td>90</td>\n",
       "      <td>0.443587</td>\n",
       "    </tr>\n",
       "    <tr>\n",
       "      <td>121</td>\n",
       "      <td>0.449856</td>\n",
       "    </tr>\n",
       "  </tbody>\n",
       "</table>\n",
       "</div>"
      ],
      "text/plain": [
       "             gasto_aceite_Mbd\n",
       "days_online                  \n",
       "0                    1.217011\n",
       "29                   0.149891\n",
       "60                   0.435305\n",
       "90                   0.443587\n",
       "121                  0.449856"
      ]
     },
     "metadata": {},
     "output_type": "display_data"
    },
    {
     "data": {
      "text/plain": [
       "array([-1.26586895, -1.65779286, -1.55296813, ..., -0.22458473,\n",
       "       -0.87313741, -0.87306359])"
      ]
     },
     "metadata": {},
     "output_type": "display_data"
    },
    {
     "data": {
      "text/plain": [
       "(array([1060., 1401., 1642., 1488.,  920.,  477.,  231.,   78.,   25.,\n",
       "           6.]),\n",
       " array([-1.71235598, -1.11479189, -0.51722781,  0.08033627,  0.67790036,\n",
       "         1.27546444,  1.87302852,  2.47059261,  3.06815669,  3.66572077,\n",
       "         4.26328486]),\n",
       " <a list of 10 Patch objects>)"
      ]
     },
     "execution_count": 208,
     "metadata": {},
     "output_type": "execute_result"
    },
    {
     "data": {
      "image/png": "[encoded data removed]",
      "text/plain": [
       "<Figure size 432x288 with 1 Axes>"
      ]
     },
     "metadata": {
      "needs_background": "light"
     },
     "output_type": "display_data"
    }
   ],
   "source": [
    "sc=StandardScaler() \n",
    "yy = np.reshape(y,(-1,1))\n",
    "sc.fit(yy)\n",
    "y_std =sc.transform(y)\n",
    "y_std = y_std.flatten()\n",
    "y_std\n",
    "\n",
    "display(yy.head(),y_std)\n",
    "plt.hist(y_std)"
   ]
  },
  {
   "cell_type": "code",
   "execution_count": 209,
   "metadata": {},
   "outputs": [],
   "source": [
    "# Set list of distributions to test\n",
    "# See https://docs.scipy.org/doc/scipy/reference/stats.html for more\n",
    "\n",
    "# Turn off code warnings (this is not recommended for routine use)\n",
    "import warnings\n",
    "warnings.filterwarnings(\"ignore\")\n",
    "\n",
    "# Set up list of candidate distributions to use\n",
    "# See https://docs.scipy.org/doc/scipy/reference/stats.html for more\n",
    "\n",
    "dist_names = ['beta',\n",
    "              'expon',\n",
    "              'gamma',\n",
    "              'lognorm',\n",
    "              'norm',\n",
    "              'pearson3',\n",
    "              'triang',\n",
    "              'uniform',\n",
    "              'weibull_min', \n",
    "              'weibull_max']\n",
    "\n",
    "# Set up empty lists to stroe results\n",
    "chi_square = []\n",
    "p_values = []\n",
    "\n",
    "# Set up 50 bins for chi-square test\n",
    "# Observed data will be approximately evenly distrubuted aross all bins\n",
    "percentile_bins = np.linspace(0,100,51)\n",
    "percentile_cutoffs = np.percentile(y_std, percentile_bins)\n",
    "observed_frequency, bins = (np.histogram(y_std, bins=percentile_cutoffs))\n",
    "cum_observed_frequency = np.cumsum(observed_frequency)\n",
    "\n",
    "# Loop through candidate distributions\n",
    "\n",
    "for distribution in dist_names:\n",
    "    # Set up distribution and get fitted distribution parameters\n",
    "    dist = getattr(scipy.stats, distribution)\n",
    "    param = dist.fit(y_std)\n",
    "    \n",
    "    # Obtain the KS test P statistic, round it to 5 decimal places\n",
    "    p = scipy.stats.kstest(y_std, distribution, args=param)[1]\n",
    "    p = np.around(p, 5)\n",
    "    p_values.append(p)   \n",
    "    \n",
    "        \n",
    "    # Get expected counts in percentile bins\n",
    "    # This is based on a 'cumulative distrubution function' (cdf)\n",
    "    cdf_fitted = dist.cdf(percentile_cutoffs, *param[:-2], loc=param[-2], \n",
    "                          scale=param[-1])\n",
    "    expected_frequency = []\n",
    "    for bin in range(len(percentile_bins)-1):\n",
    "        expected_cdf_area = cdf_fitted[bin+1] - cdf_fitted[bin]\n",
    "        expected_frequency.append(expected_cdf_area)"
   ]
  },
  {
   "cell_type": "code",
   "execution_count": 210,
   "metadata": {},
   "outputs": [
    {
     "data": {
      "text/plain": [
       "[0.0, 0.0, 0.0, 0.0, 0.0, 0.0, 0.0, 0.0, 0.0, 0.0]"
      ]
     },
     "metadata": {},
     "output_type": "display_data"
    }
   ],
   "source": [
    "display(p_values)"
   ]
  },
  {
   "cell_type": "markdown",
   "metadata": {},
   "source": [
    "## Codigo original"
   ]
  },
  {
   "cell_type": "code",
   "execution_count": 217,
   "metadata": {},
   "outputs": [
    {
     "ename": "NameError",
     "evalue": "name 'size' is not defined",
     "output_type": "error",
     "traceback": [
      "\u001b[0;31m---------------------------------------------------------------------------\u001b[0m",
      "\u001b[0;31mNameError\u001b[0m                                 Traceback (most recent call last)",
      "\u001b[0;32m<ipython-input-217-d4b230d60a9e>\u001b[0m in \u001b[0;36m<module>\u001b[0;34m\u001b[0m\n\u001b[1;32m     53\u001b[0m \u001b[0;34m\u001b[0m\u001b[0m\n\u001b[1;32m     54\u001b[0m     \u001b[0;31m# calculate chi-squared\u001b[0m\u001b[0;34m\u001b[0m\u001b[0;34m\u001b[0m\u001b[0;34m\u001b[0m\u001b[0m\n\u001b[0;32m---> 55\u001b[0;31m     \u001b[0mexpected_frequency\u001b[0m \u001b[0;34m=\u001b[0m \u001b[0mnp\u001b[0m\u001b[0;34m.\u001b[0m\u001b[0marray\u001b[0m\u001b[0;34m(\u001b[0m\u001b[0mexpected_frequency\u001b[0m\u001b[0;34m)\u001b[0m \u001b[0;34m*\u001b[0m \u001b[0msize\u001b[0m\u001b[0;34m\u001b[0m\u001b[0;34m\u001b[0m\u001b[0m\n\u001b[0m\u001b[1;32m     56\u001b[0m     \u001b[0mcum_expected_frequency\u001b[0m \u001b[0;34m=\u001b[0m \u001b[0mnp\u001b[0m\u001b[0;34m.\u001b[0m\u001b[0mcumsum\u001b[0m\u001b[0;34m(\u001b[0m\u001b[0mexpected_frequency\u001b[0m\u001b[0;34m)\u001b[0m\u001b[0;34m\u001b[0m\u001b[0;34m\u001b[0m\u001b[0m\n\u001b[1;32m     57\u001b[0m     \u001b[0mss\u001b[0m \u001b[0;34m=\u001b[0m \u001b[0msum\u001b[0m \u001b[0;34m(\u001b[0m\u001b[0;34m(\u001b[0m\u001b[0;34m(\u001b[0m\u001b[0mcum_expected_frequency\u001b[0m \u001b[0;34m-\u001b[0m \u001b[0mcum_observed_frequency\u001b[0m\u001b[0;34m)\u001b[0m \u001b[0;34m**\u001b[0m \u001b[0;36m2\u001b[0m\u001b[0;34m)\u001b[0m \u001b[0;34m/\u001b[0m \u001b[0mcum_observed_frequency\u001b[0m\u001b[0;34m)\u001b[0m\u001b[0;34m\u001b[0m\u001b[0;34m\u001b[0m\u001b[0m\n",
      "\u001b[0;31mNameError\u001b[0m: name 'size' is not defined"
     ]
    }
   ],
   "source": [
    "# Set list of distributions to test\n",
    "# See https://docs.scipy.org/doc/scipy/reference/stats.html for more\n",
    "\n",
    "# Turn off code warnings (this is not recommended for routine use)\n",
    "import warnings\n",
    "warnings.filterwarnings(\"ignore\")\n",
    "\n",
    "# Set up list of candidate distributions to use\n",
    "# See https://docs.scipy.org/doc/scipy/reference/stats.html for more\n",
    "\n",
    "dist_names = ['beta',\n",
    "              'expon',\n",
    "              'gamma',\n",
    "              'lognorm',\n",
    "              'norm',\n",
    "              'pearson3',\n",
    "              'triang',\n",
    "              'uniform',\n",
    "              'weibull_min', \n",
    "              'weibull_max']\n",
    "\n",
    "# Set up empty lists to stroe results\n",
    "chi_square = []\n",
    "p_values = []\n",
    "\n",
    "# Set up 50 bins for chi-square test\n",
    "# Observed data will be approximately evenly distrubuted aross all bins\n",
    "percentile_bins = np.linspace(0,100,51)\n",
    "percentile_cutoffs = np.percentile(y_std, percentile_bins)\n",
    "observed_frequency, bins = (np.histogram(y_std, bins=percentile_cutoffs))\n",
    "cum_observed_frequency = np.cumsum(observed_frequency)\n",
    "\n",
    "# Loop through candidate distributions\n",
    "\n",
    "for distribution in dist_names:\n",
    "    # Set up distribution and get fitted distribution parameters\n",
    "    dist = getattr(scipy.stats, distribution)\n",
    "    param = dist.fit(y_std)\n",
    "    \n",
    "    # Obtain the KS test P statistic, round it to 5 decimal places\n",
    "    p = scipy.stats.kstest(y_std, distribution, args=param)[1]\n",
    "    p = np.around(p, 5)\n",
    "    p_values.append(p)    \n",
    "    \n",
    "    # Get expected counts in percentile bins\n",
    "    # This is based on a 'cumulative distrubution function' (cdf)\n",
    "    cdf_fitted = dist.cdf(percentile_cutoffs, *param[:-2], loc=param[-2], \n",
    "                          scale=param[-1])\n",
    "    expected_frequency = []\n",
    "    for bin in range(len(percentile_bins)-1):\n",
    "        expected_cdf_area = cdf_fitted[bin+1] - cdf_fitted[bin]\n",
    "        expected_frequency.append(expected_cdf_area)\n",
    "    \n",
    "    # calculate chi-squared\n",
    "    expected_frequency = np.array(expected_frequency) * size\n",
    "    cum_expected_frequency = np.cumsum(expected_frequency)\n",
    "    ss = sum (((cum_expected_frequency - cum_observed_frequency) ** 2) / cum_observed_frequency)\n",
    "    chi_square.append(ss)\n",
    "        \n",
    "# Collate results and sort by goodness of fit (best at top)\n",
    "\n",
    "results = pd.DataFrame()\n",
    "results['Distribution'] = dist_names\n",
    "results['chi_square'] = chi_square\n",
    "results['p_value'] = p_values\n",
    "results.sort_values(['chi_square'], inplace=True)\n",
    "    \n",
    "# Report results\n",
    "\n",
    "print ('\\nDistributions sorted by goodness of fit:')\n",
    "print ('----------------------------------------')\n",
    "print (results)"
   ]
  },
  {
   "cell_type": "code",
   "execution_count": null,
   "metadata": {},
   "outputs": [],
   "source": []
  }
 ],
 "metadata": {
  "kernelspec": {
   "display_name": "Python 3",
   "language": "python",
   "name": "python3"
  },
  "language_info": {
   "codemirror_mode": {
    "name": "ipython",
    "version": 3
   },
   "file_extension": ".py",
   "mimetype": "text/x-python",
   "name": "python",
   "nbconvert_exporter": "python",
   "pygments_lexer": "ipython3",
   "version": "3.7.4"
  }
 },
 "nbformat": 4,
 "nbformat_minor": 2
}
